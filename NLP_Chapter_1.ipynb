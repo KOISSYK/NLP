{
  "cells": [
    {
      "cell_type": "markdown",
      "metadata": {
        "id": "view-in-github",
        "colab_type": "text"
      },
      "source": [
        "<a href=\"https://colab.research.google.com/github/KOISSYK/NLP-Natural-Language-Processing-/blob/main/NLP_Chapter_1.ipynb\" target=\"_parent\"><img src=\"https://colab.research.google.com/assets/colab-badge.svg\" alt=\"Open In Colab\"/></a>"
      ]
    },
    {
      "cell_type": "markdown",
      "source": [
        "# 1.  정제(Cleaning) and 정규화(Normalization)"
      ],
      "metadata": {
        "id": "RDW7QzxL17MM"
      }
    },
    {
      "cell_type": "markdown",
      "source": [
        "* 정제(cleaning) : 갖고 있는 코퍼스로부터 노이즈 데이터를 제거한다.\n",
        "* 정규화(normalization) : 표현 방법이 다른 단어들을 통합시켜서 같은 단어로 만들어준다\n",
        "\n"
      ],
      "metadata": {
        "id": "x-UjWOIK2oX3"
      }
    },
    {
      "cell_type": "markdown",
      "source": [
        "## 1.1불필요한 단어의 제거"
      ],
      "metadata": {
        "id": "d9spoNw62FZ1"
      }
    },
    {
      "cell_type": "markdown",
      "source": [
        "1. 등장 빈도가 적은 단어 \n",
        "2. 길이가 짧은 단어"
      ],
      "metadata": {
        "id": "GD3VWJ3C2I3Y"
      }
    },
    {
      "cell_type": "code",
      "execution_count": 89,
      "metadata": {
        "id": "94Fm8_3z7n9K"
      },
      "outputs": [],
      "source": [
        "import re"
      ]
    },
    {
      "cell_type": "code",
      "execution_count": 90,
      "metadata": {
        "colab": {
          "base_uri": "https://localhost:8080/"
        },
        "id": "Isn9uRYxEFJM",
        "outputId": "dcdf1139-c133-4397-f668-de256e91d5b0"
      },
      "outputs": [
        {
          "output_type": "stream",
          "name": "stderr",
          "text": [
            "[nltk_data] Downloading package wordnet to /root/nltk_data...\n",
            "[nltk_data]   Package wordnet is already up-to-date!\n",
            "[nltk_data] Downloading package omw-1.4 to /root/nltk_data...\n",
            "[nltk_data]   Package omw-1.4 is already up-to-date!\n"
          ]
        },
        {
          "output_type": "execute_result",
          "data": {
            "text/plain": [
              "True"
            ]
          },
          "metadata": {},
          "execution_count": 90
        }
      ],
      "source": [
        "import nltk\n",
        "nltk.download('wordnet')\n",
        "import nltk\n",
        "nltk.download('omw-1.4')"
      ]
    },
    {
      "cell_type": "code",
      "execution_count": 91,
      "metadata": {
        "id": "u35z3lAV7veF"
      },
      "outputs": [],
      "source": [
        "text = 'I was wondering if anyone there could enlighten me on this car'\n"
      ]
    },
    {
      "cell_type": "code",
      "source": [
        "# 길이가 1~2인 단어들을 정규 표현식을 이용하여 삭제\n",
        "shortword = re.compile(r'\\W*\\b\\w{1,2}\\b')\n",
        "print(shortword.sub('', text))"
      ],
      "metadata": {
        "colab": {
          "base_uri": "https://localhost:8080/"
        },
        "id": "SdAyA4qh2h47",
        "outputId": "0874edc7-83af-476d-87fd-8c4d2bef21d1"
      },
      "execution_count": 92,
      "outputs": [
        {
          "output_type": "stream",
          "name": "stdout",
          "text": [
            " was wondering anyone there could enlighten this car\n"
          ]
        }
      ]
    },
    {
      "cell_type": "markdown",
      "metadata": {
        "id": "Wb0SgwljCwu_"
      },
      "source": [
        "## 1.2 정규화"
      ]
    },
    {
      "cell_type": "code",
      "execution_count": 93,
      "metadata": {
        "id": "fr7qq1iW8Bvf"
      },
      "outputs": [],
      "source": [
        "#re.compile #compile 컴푸터 안에 이렇게 한다 명령을 내림 (실행하는과정) #ab뒤에 점을찍은 이유- 매치뒤에 뭔가가 올떄"
      ]
    },
    {
      "cell_type": "code",
      "execution_count": 94,
      "metadata": {
        "id": "L9jeM_an8MuW"
      },
      "outputs": [],
      "source": [
        "r = re.compile('ab.')"
      ]
    },
    {
      "cell_type": "code",
      "execution_count": 95,
      "metadata": {
        "colab": {
          "base_uri": "https://localhost:8080/"
        },
        "id": "bzZxUI2C8Zj3",
        "outputId": "d0bcb672-c680-47d1-aef0-b61ea900c2ae"
      },
      "outputs": [
        {
          "output_type": "execute_result",
          "data": {
            "text/plain": [
              "<re.Match object; span=(9, 12), match='abc'>"
            ]
          },
          "metadata": {},
          "execution_count": 95
        }
      ],
      "source": [
        "r.search('kkkkkkkkkabc') \n",
        "#패턴과 일치하는 첫번째 문자열을 반환한다."
      ]
    },
    {
      "cell_type": "code",
      "execution_count": 96,
      "metadata": {
        "id": "PYEWE4Wm81WM"
      },
      "outputs": [],
      "source": [
        "r.match('kabc')\n",
        "#시작부분부터 일치하는 패턴을 찾는다.\n",
        "#match의 첫번째 인자는 패턴, 두번째 인자는 문자열 소스\n",
        "#match()는 소스와 패턴의 일치여부를 확인하고 일치하면 일치하는 문자열을 반환한다.(match object)\n",
        "#일치하는 문자열이 없으면 None을 반환한다."
      ]
    },
    {
      "cell_type": "code",
      "execution_count": 97,
      "metadata": {
        "id": "SHvJisxE9Q_9"
      },
      "outputs": [],
      "source": [
        "#길이가 1/2인 문자 삭제 \n",
        "shortword = re.compile(r'\\W*\\b\\w{1,2}\\b') # \\W*\\b\\w{1,2}\\b "
      ]
    },
    {
      "cell_type": "code",
      "execution_count": 98,
      "metadata": {
        "colab": {
          "base_uri": "https://localhost:8080/"
        },
        "id": "kjChsU4D9olK",
        "outputId": "e9a91712-b7a5-49cf-a18a-5feac5f22fb4"
      },
      "outputs": [
        {
          "output_type": "stream",
          "name": "stdout",
          "text": [
            " was wondering anyone there could enlighten this car\n"
          ]
        }
      ],
      "source": [
        "print(shortword.sub(\"\",text)) #문자열의 replace()와 비슷하지만 패턴을 사용할 수 있다."
      ]
    },
    {
      "cell_type": "markdown",
      "source": [
        "# 2.어간 추출(Stemming) and 표제어 추출(Lemmatization)\n"
      ],
      "metadata": {
        "id": "YbRhimDC2zd5"
      }
    },
    {
      "cell_type": "markdown",
      "metadata": {
        "id": "C-T7lHe3CprJ"
      },
      "source": [
        "## 2.1 Lemmeatization(표제어 추출)"
      ]
    },
    {
      "cell_type": "markdown",
      "source": [
        "표제어(Lemma)는 한글로는 '표제어' 또는 '기본 사전형 단어' 정도의 의미를 갖습니다. 표제어 추출은 단어들로부터 표제어를 찾아가는 과정입니다. 표제어 추출은 단어들이 다른 형태를 가지더라도, 그 뿌리 단어를 찾아가서 단어의 개수를 줄일 수 있는지 판단합니다. 예를 들어서 am, are, is는 서로 다른 스펠링이지만 그 뿌리 단어는 be라고 볼 수 있습니다. 이때, 이 단어들의 표제어는 be라고 합니다.\n",
        "\n",
        "표제어 추출을 하는 가장 섬세한 방법은 단어의 형태학적 파싱을 먼저 진행하는 것입니다. 형태소란 '의미를 가진 가장 작은 단위'를 뜻합니다. 그리고 형태학(morphology)이란 형태소로부터 단어들을 만들어가는 학문을 뜻합니다. 형태소의 종류로 어간(stem)과 접사(affix)가 존재합니다."
      ],
      "metadata": {
        "id": "QApiG_IR13dr"
      }
    },
    {
      "cell_type": "code",
      "execution_count": 99,
      "metadata": {
        "id": "DfCnR-brCs11"
      },
      "outputs": [],
      "source": [
        "from nltk.stem import WordNetLemmatizer\n",
        "lemmatizer = WordNetLemmatizer()"
      ]
    },
    {
      "cell_type": "code",
      "execution_count": 100,
      "metadata": {
        "colab": {
          "base_uri": "https://localhost:8080/"
        },
        "id": "iWp9jmCTC_2Z",
        "outputId": "b3fef818-fc87-4859-d285-6b3f01dc88e9"
      },
      "outputs": [
        {
          "output_type": "stream",
          "name": "stdout",
          "text": [
            "표제어 추출 전 :  ['have', 'going', 'love', 'lives', 'dies', 'watched', 'has']\n",
            "표제어 추출 후 : ['have', 'going', 'love', 'life', 'dy', 'watched', 'ha']\n"
          ]
        }
      ],
      "source": [
        "words = ['have','going','love','lives','dies','watched','has']\n",
        "print('표제어 추출 전 : ' ,words )\n",
        "print('표제어 추출 후 :', [lemmatizer.lemmatize(word) for word in words])"
      ]
    },
    {
      "cell_type": "code",
      "execution_count": 101,
      "metadata": {
        "colab": {
          "base_uri": "https://localhost:8080/",
          "height": 36
        },
        "id": "Gc-oAiGFEy-Q",
        "outputId": "57ff5540-3a78-4323-d864-28189e7186f6"
      },
      "outputs": [
        {
          "output_type": "execute_result",
          "data": {
            "text/plain": [
              "'die'"
            ],
            "application/vnd.google.colaboratory.intrinsic+json": {
              "type": "string"
            }
          },
          "metadata": {},
          "execution_count": 101
        }
      ],
      "source": [
        "lemmatizer.lemmatize('dies','v')"
      ]
    },
    {
      "cell_type": "code",
      "execution_count": 102,
      "metadata": {
        "colab": {
          "base_uri": "https://localhost:8080/",
          "height": 36
        },
        "id": "q9vdSHkmFKcb",
        "outputId": "9dfe8122-beb2-4737-830f-5843eb1d0920"
      },
      "outputs": [
        {
          "output_type": "execute_result",
          "data": {
            "text/plain": [
              "'have'"
            ],
            "application/vnd.google.colaboratory.intrinsic+json": {
              "type": "string"
            }
          },
          "metadata": {},
          "execution_count": 102
        }
      ],
      "source": [
        "lemmatizer.lemmatize('has','v')"
      ]
    },
    {
      "cell_type": "markdown",
      "metadata": {
        "id": "4Lyn2Z3aKg3R"
      },
      "source": [
        "## 2.2 porter algorithm(어간 추출)"
      ]
    },
    {
      "cell_type": "markdown",
      "source": [
        "어간(Stem)을 추출하는 작업을 어간 추출(stemming)이라고 합니다. 어간 추출은 형태학적 분석을 단순화한 버전이라고 볼 수도 있고, 정해진 규칙만 보고 단어의 어미를 자르는 어림짐작의 작업이라고 볼 수도 있습니다. 이 작업은 섬세한 작업이 아니기 때문에 어간 추출 후에 나오는 결과 단어는 사전에 존재하지 않는 단어일 수도 있습니다. 예제를 보면 쉽게 이해할 수 있습니다. 어간 추출 알고리즘 중 하나인 포터 알고리즘(Porter Algorithm)에 아래의 문자열을 입력으로 넣는다고 해봅시다."
      ],
      "metadata": {
        "id": "xpW_wtQK3tNv"
      }
    },
    {
      "cell_type": "code",
      "execution_count": 103,
      "metadata": {
        "colab": {
          "base_uri": "https://localhost:8080/"
        },
        "id": "kU4OCqv_JNNV",
        "outputId": "b1fdfe85-21bd-470d-cdb0-e7a681ac2ce1"
      },
      "outputs": [
        {
          "output_type": "stream",
          "name": "stderr",
          "text": [
            "[nltk_data] Downloading package punkt to /root/nltk_data...\n",
            "[nltk_data]   Package punkt is already up-to-date!\n"
          ]
        },
        {
          "output_type": "execute_result",
          "data": {
            "text/plain": [
              "True"
            ]
          },
          "metadata": {},
          "execution_count": 103
        }
      ],
      "source": [
        "from nltk.stem import PorterStemmer\n",
        "from nltk.tokenize import word_tokenize\n",
        "import nltk\n",
        "nltk.download('punkt')"
      ]
    },
    {
      "cell_type": "code",
      "execution_count": 104,
      "metadata": {
        "id": "JtAucFFZMaEl"
      },
      "outputs": [],
      "source": [
        "from nltk.stem import PorterStemmer\n",
        "from nltk.tokenize import word_tokenize\n",
        "from nltk.stem import LancasterStemmer"
      ]
    },
    {
      "cell_type": "code",
      "execution_count": 105,
      "metadata": {
        "id": "uWz-RuVpIlux"
      },
      "outputs": [],
      "source": [
        "stemmer = PorterStemmer()\n",
        "p_stemmer = PorterStemmer()\n",
        "l_stemmer = LancasterStemmer()"
      ]
    },
    {
      "cell_type": "code",
      "execution_count": 106,
      "metadata": {
        "id": "cJ_jjOscHmZq"
      },
      "outputs": [],
      "source": [
        "sentence = \"This was not the map we found in Bill Bones's chest, but an accurate copy, complete in all thinsg--names and heights and soundings--with the single exception of the red crosses and the written notes\""
      ]
    },
    {
      "cell_type": "code",
      "execution_count": 107,
      "metadata": {
        "id": "xNbyTuiAELG6"
      },
      "outputs": [],
      "source": [
        "stemmer = LancasterStemmer()\n",
        "tokenized_sentence = word_tokenize(sentence)"
      ]
    },
    {
      "cell_type": "code",
      "execution_count": 108,
      "metadata": {
        "colab": {
          "base_uri": "https://localhost:8080/"
        },
        "id": "2cYnWN7xIHJg",
        "outputId": "f01e7cc6-643a-47a9-a79b-bf3f9daeb0e9"
      },
      "outputs": [
        {
          "output_type": "execute_result",
          "data": {
            "text/plain": [
              "['This',\n",
              " 'was',\n",
              " 'not',\n",
              " 'the',\n",
              " 'map',\n",
              " 'we',\n",
              " 'found',\n",
              " 'in',\n",
              " 'Bill',\n",
              " 'Bones',\n",
              " \"'s\",\n",
              " 'chest',\n",
              " ',',\n",
              " 'but',\n",
              " 'an',\n",
              " 'accurate',\n",
              " 'copy',\n",
              " ',',\n",
              " 'complete',\n",
              " 'in',\n",
              " 'all',\n",
              " 'thinsg',\n",
              " '--',\n",
              " 'names',\n",
              " 'and',\n",
              " 'heights',\n",
              " 'and',\n",
              " 'soundings',\n",
              " '--',\n",
              " 'with',\n",
              " 'the',\n",
              " 'single',\n",
              " 'exception',\n",
              " 'of',\n",
              " 'the',\n",
              " 'red',\n",
              " 'crosses',\n",
              " 'and',\n",
              " 'the',\n",
              " 'written',\n",
              " 'notes']"
            ]
          },
          "metadata": {},
          "execution_count": 108
        }
      ],
      "source": [
        "word_tokenize(sentence)"
      ]
    },
    {
      "cell_type": "code",
      "execution_count": 109,
      "metadata": {
        "colab": {
          "base_uri": "https://localhost:8080/"
        },
        "id": "HU_qEY6rJs6l",
        "outputId": "4499b6e6-618e-423e-c26d-af2344c408df"
      },
      "outputs": [
        {
          "output_type": "stream",
          "name": "stdout",
          "text": [
            "['This', 'was', 'not', 'the', 'map', 'we', 'found', 'in', 'Bill', 'Bones', \"'s\", 'chest', ',', 'but', 'an', 'accurate', 'copy', ',', 'complete', 'in', 'all', 'thinsg', '--', 'names', 'and', 'heights', 'and', 'soundings', '--', 'with', 'the', 'single', 'exception', 'of', 'the', 'red', 'crosses', 'and', 'the', 'written', 'notes']\n"
          ]
        }
      ],
      "source": [
        "print(tokenized_sentence)"
      ]
    },
    {
      "cell_type": "code",
      "execution_count": 110,
      "metadata": {
        "colab": {
          "base_uri": "https://localhost:8080/"
        },
        "id": "0ynM_vntJ_Nl",
        "outputId": "46e62629-919a-4473-fe60-b4925bb8d474"
      },
      "outputs": [
        {
          "output_type": "stream",
          "name": "stdout",
          "text": [
            "['thi', 'was', 'not', 'the', 'map', 'we', 'found', 'in', 'bil', 'bon', \"'s\", 'chest', ',', 'but', 'an', 'acc', 'cop', ',', 'complet', 'in', 'al', 'thinsg', '--', 'nam', 'and', 'height', 'and', 'sound', '--', 'with', 'the', 'singl', 'exceiv', 'of', 'the', 'red', 'cross', 'and', 'the', 'writ', 'not']\n"
          ]
        }
      ],
      "source": [
        "print([stemmer.stem(word) for word in tokenized_sentence])"
      ]
    },
    {
      "cell_type": "code",
      "execution_count": 111,
      "metadata": {
        "colab": {
          "base_uri": "https://localhost:8080/"
        },
        "id": "QzF1TgQmMJwF",
        "outputId": "a36b358d-d0cc-4829-feae-4d708bb868c1"
      },
      "outputs": [
        {
          "output_type": "stream",
          "name": "stdout",
          "text": [
            "포터 스테머의 어간 추출 후: ['thi', 'wa', 'not', 'the', 'map', 'we', 'found', 'in', 'bill', 'bone', \"'s\", 'chest', ',', 'but', 'an', 'accur', 'copi', ',', 'complet', 'in', 'all', 'thinsg', '--', 'name', 'and', 'height', 'and', 'sound', '--', 'with', 'the', 'singl', 'except', 'of', 'the', 'red', 'cross', 'and', 'the', 'written', 'note']\n",
            "랭커스터 스테머의 어간 추출 후: ['thi', 'was', 'not', 'the', 'map', 'we', 'found', 'in', 'bil', 'bon', \"'s\", 'chest', ',', 'but', 'an', 'acc', 'cop', ',', 'complet', 'in', 'al', 'thinsg', '--', 'nam', 'and', 'height', 'and', 'sound', '--', 'with', 'the', 'singl', 'exceiv', 'of', 'the', 'red', 'cross', 'and', 'the', 'writ', 'not']\n"
          ]
        }
      ],
      "source": [
        "print('포터 스테머의 어간 추출 후:',[p_stemmer.stem(w) for w in tokenized_sentence])\n",
        "print('랭커스터 스테머의 어간 추출 후:',[l_stemmer.stem(w) for w in tokenized_sentence])"
      ]
    },
    {
      "cell_type": "markdown",
      "metadata": {
        "id": "YR4G0Rs8MzFU"
      },
      "source": [
        "Stemming\n",
        "am → am\n",
        "the going → the go\n",
        "having → hav\n",
        "\n",
        "Lemmatizations\n",
        "the going → the going\n",
        "having → have"
      ]
    },
    {
      "cell_type": "code",
      "execution_count": 112,
      "metadata": {
        "colab": {
          "base_uri": "https://localhost:8080/"
        },
        "id": "VJio1dG9D96B",
        "outputId": "abd5eb33-9db8-4761-cdce-08697e80b26f"
      },
      "outputs": [
        {
          "output_type": "stream",
          "name": "stderr",
          "text": [
            "[nltk_data] Downloading package stopwords to /root/nltk_data...\n",
            "[nltk_data]   Package stopwords is already up-to-date!\n"
          ]
        },
        {
          "output_type": "execute_result",
          "data": {
            "text/plain": [
              "True"
            ]
          },
          "metadata": {},
          "execution_count": 112
        }
      ],
      "source": [
        "nltk.download('stopwords')"
      ]
    },
    {
      "cell_type": "markdown",
      "source": [
        "## 2.3 불용어 제거하기"
      ],
      "metadata": {
        "id": "flbnxmor4a07"
      }
    },
    {
      "cell_type": "code",
      "execution_count": 113,
      "metadata": {
        "colab": {
          "base_uri": "https://localhost:8080/",
          "height": 74
        },
        "id": "5GVLDJlnNAAp",
        "outputId": "a805b52b-7357-4399-fb99-b105f79f0c1f"
      },
      "outputs": [
        {
          "output_type": "stream",
          "name": "stdout",
          "text": [
            "Regular expression   A regular expression  regex or regexp     sometimes called a rational expression        is  in theoretical computer science and formal language theory  a sequence of characters that define a search pattern \n"
          ]
        },
        {
          "output_type": "execute_result",
          "data": {
            "text/plain": [
              "'a 0     0 1 2 3 abcdef            '"
            ],
            "application/vnd.google.colaboratory.intrinsic+json": {
              "type": "string"
            }
          },
          "metadata": {},
          "execution_count": 113
        }
      ],
      "source": [
        "text = \"\"\"이름 : 김철수\n",
        "전화번호 : 010 - 1234 - 1234\n",
        "나이 : 30\n",
        "성별 : 남\"\"\"\n",
        "# text에서 숫자만 추출하려면?\n",
        "re.findall(\"\\d+\", text)\n",
        "re.findall(\"\\d+\", \"자연어처리\")\n",
        "\n",
        "text\n",
        "\n",
        "text = \"Regular expression : A regular expression, regex or regexp[1] (sometimes called a rational expression)[2][3] is,\\\n",
        " in theoretical computer science and formal language theory, a sequence of characters that define a search pattern.\" # 아무 영어 문장 사용 \n",
        "p_text = re.sub('[^a-zA-Z]', ' ' , text)\n",
        "print(p_text)\n",
        "\n",
        "text = \"a[0] [] 0 1 2 3 abcdef .!@#$%^&*()\"\n",
        "re.sub('[^a-zA-Z0-9]', ' ' , text)"
      ]
    },
    {
      "cell_type": "code",
      "execution_count": 114,
      "metadata": {
        "colab": {
          "base_uri": "https://localhost:8080/"
        },
        "id": "YQxH2PaOE1h0",
        "outputId": "269fdd94-3635-48f4-b94f-01ec3dd0a49a"
      },
      "outputs": [
        {
          "output_type": "stream",
          "name": "stdout",
          "text": [
            "Regular expression   A regular expression  regex or regexp     sometimes called a rational expression        is  in theoretical computer science and formal language theory  a sequence of characters that define a search pattern \n"
          ]
        }
      ],
      "source": [
        "text = \"Regular expression : A regular expression, regex or regexp[1] (sometimes called a rational expression)[2][3] is,\\\n",
        " in theoretical computer science and formal language theory, a sequence of characters that define a search pattern.\" # 아무 영어 문장 사용 \n",
        "p_text = re.sub('[^a-zA-Z]', ' ' , text)   #[^a-zA-Z] =>> 영어 소문자/대문자 빼고 모두 제거\n",
        "print(p_text)"
      ]
    },
    {
      "cell_type": "code",
      "execution_count": 115,
      "metadata": {
        "colab": {
          "base_uri": "https://localhost:8080/"
        },
        "id": "W253o4hWEaBk",
        "outputId": "25793f8e-9f9a-4a6d-b794-4472a75b0514"
      },
      "outputs": [
        {
          "output_type": "execute_result",
          "data": {
            "text/plain": [
              "['100', 'John', 'PROF', '101', 'James', 'STUD', '102', 'Mac', 'STUD']"
            ]
          },
          "metadata": {},
          "execution_count": 115
        }
      ],
      "source": [
        "text='''100 John  PROF\n",
        "101 James STUD\n",
        "102 Mac STUD'''\n",
        "\n",
        "#공백기준 분리\n",
        "re.split('\\s+',text)"
      ]
    },
    {
      "cell_type": "code",
      "execution_count": 116,
      "metadata": {
        "colab": {
          "base_uri": "https://localhost:8080/"
        },
        "id": "DHtm4JqSGAZ9",
        "outputId": "195fb518-ba9e-4cbb-8abc-488d55ac6b21"
      },
      "outputs": [
        {
          "output_type": "execute_result",
          "data": {
            "text/plain": [
              "['100', '101', '102']"
            ]
          },
          "metadata": {},
          "execution_count": 116
        }
      ],
      "source": [
        "#숫자만 추출 \n",
        "re.findall('\\d+',text)"
      ]
    },
    {
      "cell_type": "code",
      "execution_count": 117,
      "metadata": {
        "colab": {
          "base_uri": "https://localhost:8080/"
        },
        "id": "9rQXHIHiFalu",
        "outputId": "ea66874a-360a-4230-c5b3-0b1b8a5e328f"
      },
      "outputs": [
        {
          "output_type": "execute_result",
          "data": {
            "text/plain": [
              "['J', 'P', 'R', 'O', 'F', 'J', 'S', 'T', 'U', 'D', 'M', 'S', 'T', 'U', 'D']"
            ]
          },
          "metadata": {},
          "execution_count": 117
        }
      ],
      "source": [
        "#텍스트가 대문자인 행 추출\n",
        "re.findall('[A-Z]',text)"
      ]
    },
    {
      "cell_type": "code",
      "execution_count": 118,
      "metadata": {
        "colab": {
          "base_uri": "https://localhost:8080/"
        },
        "id": "jvnSt5SRF_Fs",
        "outputId": "cf1c8059-a23a-4f26-ff50-40d38bd8bc83"
      },
      "outputs": [
        {
          "output_type": "execute_result",
          "data": {
            "text/plain": [
              "['John', 'James', 'Mac']"
            ]
          },
          "metadata": {},
          "execution_count": 118
        }
      ],
      "source": [
        "#처음만 대문자 추출\n",
        "re.findall('[A-Z][a-z]+',text)"
      ]
    },
    {
      "cell_type": "markdown",
      "source": [
        "3. "
      ],
      "metadata": {
        "id": "Qi7gc7295JLz"
      }
    },
    {
      "cell_type": "markdown",
      "metadata": {
        "id": "wlHuKGnP7tHV"
      },
      "source": [
        "# 3. 정규 표현식(Regular Expression) - RE\n",
        "\n",
        "\n",
        "\n"
      ]
    },
    {
      "cell_type": "markdown",
      "source": [
        "## 3.1 정규 표현식 문법\n"
      ],
      "metadata": {
        "id": "sDMOOFAB5fC1"
      }
    },
    {
      "cell_type": "markdown",
      "source": [
        "![20220719_233954.png](data:image/png;base64,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)"
      ],
      "metadata": {
        "id": "YRdypp6h5m-8"
      }
    },
    {
      "cell_type": "markdown",
      "source": [
        "![20220719_234010.png](data:image/png;base64,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)"
      ],
      "metadata": {
        "id": "EqV6yHbN5yKA"
      }
    },
    {
      "cell_type": "markdown",
      "source": [
        "## 3.2 정규표현식 모듈 함수\n"
      ],
      "metadata": {
        "id": "gimnQHNo5zoy"
      }
    },
    {
      "cell_type": "markdown",
      "source": [
        "![20220719_234121.png](data:image/png;base64,iVBORw0KGgoAAAANSUhEUgAAAr8AAAG+CAIAAAAVz/uBAAAACXBIWXMAAA7EAAAOxAGVKw4bAAAgAElEQVR42uy9PWvjWtj3u3SzP8BdyuAUZqYNBzycgyXYjWG6+yki4YClapgyXUgn2YUjdyFdyrArKZAgp3jubsDNgGSec8dwSDvBhQ1Wub+BTmG9ay29+CUvM/9fsdkzI0tL6+36r+u61hLn+z4BAAAAAKjMf6AKAAAAAAD1AAAAAACoBwAAAAC8G/5K/uHp6Qk1Uov//M///Pfff1EPAAAA/hC+fPmSVQ/R34KKvLy8oMYAAAD8IUReBkQuAAAAAFAPqAcAAAAAQD0AAAAAAOoBAAAAAFAPAAAAAIB6AAAAAADUAwAAAAAA1AMAAAAAoB4AAAAAAPUAAAAAAKgHAAAAAEA9AAAAAADq4T3jXnIcJ1uror/52MzGHMfJd97+LwYAAAA+qHrw7mSOxaX7OoLjYwkF9zJfU2MXHRYAAMCHVg8FgoBlGg3XpzAQ6A9YWdEDxCEhZKIeldw/WbrFMyFksnjnzonZOHglQadWmBPU0drsEUJ0sehiAAAA4IP4HrKCwDX2VrSmYvt07D5fpmzO1AdCCNGFd+d+8BZzQsjk14IQQjpanXoLxcQeKxkAAAB4ffVQC12geSpOLa/K6pxyceCNGM+SP3DHHNdQJpK19v212ZuoR+8pRWBlnSkTyTKNoZguNgAAAAD1kIbvs/wIvn+v8AXSQdAlax1e6hgPaiMWEJK59H3f1zobf8Mm0CHOrXXon+CVe9/3/YtfjU3E4439ELMxd6QSa233FW1pzgWupoBA5AIAAMCfoR6K8iUrpEpsIVDycQ1hEPyL0nyzinYvOU7QDTcsXlOxfYcIZa6XFIhcAAAAeBf8tePvdYHTS416PzCgY07Ue+b6XuGJZ5021AfD8TWh4McdzXcJJzQ4Jfyb4Odk8dEqWhj4/iD7d5rva9Gbhv+bdjbAzQAAAOA38j0kghGOkVwZV8hqrEGUV5gOcwiDtC8hsUGjiBoL/UM6ISo4YEJ/SZJCpQUAAAC8f/VQ32SKOiHkQW1wHMc11AcSBPJLzntwx2xrG+cx5DZoOCMSJUZUyrF4TSdEnqJgRK4GBOLsV6IBAAAA71A90E3m0pQq/r5nrini4ENC9z2wEiFnY24T7olffW32dJHjsGUDAADAR1IPuURIUSck3hFA88PTTeaROvlDqz3nFGFEfNwfOiGSeZ10mfDKtSkRov/AyZMAAAA+jnoo2n5ZZAvpJpN51iQgRPhqEDJRz1PpGu4/6oQQ4yvqDQAAwMdRD9sSHzVd+/MNQbZEwt0x/NDVzqiKfFJnRwtOuUi9u+GEp1wAAAAArw/n+370h6enpy9fvqBSqvPy8vLp0yfUAwAAgD+BSCf8B+oCAAAAALWAegAAAAAA1AMAAAAAoB4AAAAAAPUAAAAAAKgHAAAAAEA9AAAAAABAPQAAAAAA6gEAAAAAUA8AAAAAgHoAAAAAANQDAAAAAKAeAAAAAACqkPrG5svLC2oEAAAAACw2X5b+K/lX//77L77QXQt8oRsAAMCfw9PT0+Z/ELkAAAAAQD2gHgAAAAAA9QAAAAAAqAcAAAAAQD0AAAAAAOoBAAAAAFAPAAAAAABQDwAAAACAegAAAAAA1AMAAAAAoB4AAAAAAPUAAAAAAKgH8KZ41ik3nr35E2sVwx1zY/c91Yx3J8t33s53pvy9e8nVuXPV0nKX6fpbWfKp5R2oHvOP28vFszG3Y5lXllyrI237RPeS3pEyLxv9ccdG31Nv3GHohRVbqSRhrW771owiZRor/GOt3vhKEyKjSK8zTnd/yquOWaiH19cHeQrmC+9O5hhkh/fKYl7KcRwnW6vXFDfuOPeWbmlvzsDq3Pkri6/P1fw+JVpds7eXJ5YN+2S3KTYDNewErYPVrMl8r+Cqm7TDPmVrduyNZXN9wh541mnJKI7bvU4PqVKMrWewmkOpzgy2w9BLvT6rrhLlaSgTMhQrvq97eZj6eZsxC/XwXuCVe9/3fd9fmz1iuJv/97UO+wd926extqTspU2FfmmArTTz811DfSC6UNnA15gFROKmn+8SsbjjdrT09QY5bvFVroy4V3imOWnYJ+vwOocIjJIcumZKZqVKCs/7aU8e7OmqaGZsPMrh2zptpbE/22k46Sov6LoMJHOZ7pd9/gADLfUUymDJTfSphqi1IK7dGz3rNOqNa/NZ3Nv6ezZuKG1nc1uiNgpvm5xY1pYkfW7tfQaLLbSgkwe1USprUjPY2uwRMnLoM9jO1jcxQNYmCcu26QYVZlR2t/esU04kmVHiEIHdqXabDV5lzEI9vC8WiwcyXxxgPZTV47T1Cmu+8zWhrMyVdP1PezJysn20o60tqforuz/m5jehogBnuaPDWXWq98yb2EoJmmvo17RZbMuaqQlzVqowP87GDYUYI6Kes2Zh91Yh5nVkugRtaRLl1sWYC9mIwk3nEQa0dhjUbu06vfFWJVFv5JV7xxheldiJ582wWSweJotVwZDRDXfTUXnl2pSG04qNvvg1abf4vc9g9JUPU1RllMeZeuw4RDyA08idDqXEAOGVa1MKTSxFaKaX7yUL99XUfjCcbP8RtKUpPTMqa5fZ4B0A9fDaeHdXOiGTx6mX6p0N9aHy2P01YVimVruiyU95XMduXBJGMWZTvSfNr8t9yHyrTYZidpjNxg2laJLKuPtEcqGQijXjLZ732jzJmjlYCkLG452aJYOFWsbh4VmnHCcQx7e1ge2fLxpUh/xqMSftVrOgS3xAHhaL/d1ss2JO+DwS3vg9NHdJb3R/6NJJNzEMhO5oYv9kPdabPhKJqLczQmZTnZD5wgvX9KKefa4Ut3uz1SbzRaXFqzsdSq26hmo21QmZbFRp3JMzRcqM62oOvJUlc9wZufEHgjDwb8jZ/lbhBQOEUVcrSz6y5aVPd1vmx2mz1Sa6mHUzuOMjdXJcKNAKNMrmKYebiKAePhIr60yZGK7vHKuNSzehPddm77XKMBtzQsK/5hKRG7tBSajFcMcCce7tmxP7rHQ10NECZ10SgTiFTrPEKtAxiOEMhL3VTKdrPKiJYrtjQTfOGWug2ZgT5pHfe31iN8rHrS5SA7UFruPZmLturRMLjYtfifhCz1wnHB6htTgj1wkvSEfz/c3cmnZy5qfC1WL+oaX2Yk6qGsKtlqKXDfXYqdPcu5LR0K3PUtFa9vjCvjbnAscJuuGu5cfbRbCmd4zsOiFpFFut3kQ94rgjdVKqA3rEPgpDDBUNvDA3l/7amounlhd77DJFIt6dLD6b6+Qkw27nQMOdk5uEtuP7tu/fkHOWtqs/9OhaoU3XT6vFZHSR8AEI35MO1PQ4DdwMvu+QTKFE4hY6tIo1yuYp1Xw2UA+/t9dB5o7UtutrHSIM1uazeABRmRkblIHh/tAl63vcnTvfzZ4+ZTrl3DF31VpqAiF8307ZObYY0LZz/q8sOXxWHVKLp4nSSK91BM1fy4+N5GBm6Rj3h264sc+Q79+Ym5Vf8s7JJitINxnsJ9wReoApnkzaPwnfrWRcwx0fqSTZ1odyDwTB4x1ysgJLkO5d7q1CjBFhr86pTNSjePJOBbMpK+/Y1cz3b0wS5pQMRY7jxOEWL1LcG2vMFta5LX8TSFO5sSQycrQOr5wTseqMIZlL31+aUvEjrnXj3LajZKOqM5itNAnft51jtcF8NW/6mAiidTRnFE4yD2oj2y5hRgXFTDL+acuhJ3RHk8QA8axTUQ/7XrarNFtSKq7k3irlUZ58OKw41cD7aec1iv7j8MHGPYxZqIdX9ToQcxl1Jl65Dz0Q1FHKRhwGs1I81Qb+Q1FPTZ3xwEh2EeGrMUnGwme36oPRbdIiF4E5j+2TMPAvfjW4+mUuS4D3rFOOO1pc7Bzwk6x1Tq9E2V6Zwcwr9zXSiII7774O6Gib0EPE1ef1vvIH+b69PrHDm4tza32YzMQ0wTpsl5ysIPacLK13d6WPLrTBRbtG6kZeucb3FAaVSzhyfN93RrtWTL43ZtIFWFFI97Jhn9wozTAdcmMRO9r6xKbNGK1WL7lsyLgiWFLgTCXm987WMxgRBv7amot1Ez975rowm/WgCAM/MUAaKjHXrATbpmIvZfuIK194lGwYKQqN8X/LeY1ifBU+wpiFeng1moqdM43CgK6U45yjZZzUE7oH45TyeKoN/Iepfw2iAPku0tE2myASYQVNoEYuSsosaIlpkbVDhDWVp8feJhGd6nWg2Pgify9rzcQgo6t0IQ4EFEyvu0mlbIZmXCdNxU6qk61mpWRDJGub79v78oi8ltreWE1Bc0k9E8XaSJldaQndURyo9u7OVCJ364vX6r1R+GoECU+x80OS/+apRi5ou47mZ0YZpRH51nEip3K1mPdarbIqaihtp5YUps0G7E7Fd08SbrDZWBwa3U7t4ZkfTbsOvcxMlagByrukPRzxLJQZpyVb3gqTRqtrlPcH1MPbzIzZEXA67d6/YqdJWa+ySEGRDcv6LWucUZEee3afr2Djg/hoQ5mEPuGG+hC6W9gGhqFschkVHc1325HzpvEorxnT6/ZSiaRepEQK5GelpSn1zHXxrMQ4E4J6mExYjVU2hVPCzDXdnqmYQmGvcMdHatuN8zwcUmdzI2P7TN6XIAziQHVBcxc3Yo3e2PlukigLx7NORT3ltaY6ISrt7xe+GrqwGYyeda6SVG4mTV0Jc3O55WaiikVKucE2S5TKw3NtSaHbJjuadh56hfoj22rVxmnpPFkcb6qoUd5mzEI9vCe8O5lLpcmEGVv7zS6uMPFV7UZMZe0Ylc1qVSfwyCm08akYRPV4J2O+oO3mSBqeUluy05Ft2cMPQlfTq3pxq+5oZ/SBOnpX0KrO8p51ml2Bbcx81S18DN8DNY8hroTaMakteiOv3EdZOA312NnWG5Ry+wVBDWsuhrctClcFSdN73xOYK1JqNtD27PXaYejVOEeH1cTUccqaJ8sTShhHgdGWAa87ZqEe3pl4mD5Okql5UYd2ivZuVXTLM/MeKp+4Vy8VoLqu3yoBbZ/klzKHOD7lvfCg5pcnhfmD+/Wr7aiD6Z0wduZXIe+h2a2593dUecIg7TWQFBvF4tumQyGginspC3UzC8v3UGkzC8UtV75l5q3HLNTDK8N3T6RkcD0yuiIjArq1lK7uytszFP/B6xYA0GznW+Wp/R5WZPFM6p+qBH4HDLf6caKGU+/s0Xh18+aeSPgePoJ86Nt+Kk0mjLm++vliulAx+FeTobhN8I/52xrnaBVpe1qwcA8vS1vlV7vtIVcbb+h7oOXWvRPvyw7NvVg8MJP+Dg2r6x7w+x0fokh7buK68yR1sc44gqJ8Zf+mvodtxyzn+370h6enpy9fvsDAV+fl5eXTp0+oBwB+Z1aW/E/LHsDfD0CsE/5CXQAAQMnibIBaACAFIhcAAAAAgHoAAAAAANQDAAAAAKAeAAAAAAD1AAAAAACoBwAAAAAAqAcAAAAAQD0AAAAAAOoBAAAAAFAPIAnl69jenXygI+KrfRuQUqT9fVSQWbTx5vj3Oh/b9e7k6ufY17p470+h/D3tk7t7bcet+uEOpapVpdXLv/1wqNGX3DE3dne9c2bgRH8M+/Y7nnN2GrPb3/m91cz2s0TNd3/ri1eWzI3dvdoaqIf3i3vJsUg3P/0zsvuYLJhdsO4Yq/XFLNqLF804ic+C1yibe5muokLDU+viHabmuh/XodQVvd3jzwdXmbu3Mzb58hd8sohycbVJjdKdGEVlfF65eGjMxvW+63YIS8P61nPVHl7HQueftftbz8b1PxNVYdAVDfwKj0uVqupEwZiEC36e6nUVWry67a/RjeOaOeTC4PdUD+5l1MCedVppVnIvOe7U+u/Lw1V3NF021If4u20FZRMG9G9tO6PMhbxyH3yE2ezF35PVOtUHeapIXG19UExUvBqfrJWszCemmZ+A8+7kxqO8Dj5CPRf3XPgt1FXim5aJT4ZWmEcELft93narWdKjRJL5JrBDhLzNdsdHatvdVBFRjw5XRakvFBd+Ezz9spReXbE7rc2exKglWscrHBrencwJcYWuT+wGfTagj+W96fWmYlPLvfdPNs/G3JEtp78NvT6xG+lBlDDSop78GmTBVJn6RrxjxL8S9couAXFIdKFMdoyo38TOTheZlvVdIlYTNIxJWBOYQ7Jhn6yTg3F/LsPk4Fqbvajj5b5CPBs3lLazuYyojctDDfffUz0Ig4IGpo8i8dlc3yv/NVibRL2dHaRQmk+x8Xaff7Nq6mi+X2ts7KTnNnPrDn5C+o1vFWJeB1qE79vOSL96uy8XM+f9KmIuM3v+tCejrhAqPHGYVyqLec9cZz/8KGhLU3pepKpgNtVHzqYAfP/G7OnT2e8y1FdT+/ii6OPCSW9ZSYzGmz5ODDfu/Hz/hjEbCNo+mvjtV1k/dMm6ydRevofwfUanLlsDJJcD5jJSEpVWNY1fF77v+/7F4mj39Yx7qxBzmZjWOpozmtg/K00U3p0c6aTg/4NRmTXb3t2VPnISU7qgLU2i3BYWfrF4yK89coKAqibc2KBkmjXsxrxybUrD6YHkAyIXYXWfb0YCr5wb+vUhw8Crqf1A9B/ZBp0ojUN8nL6em/GQbq75osa9g9qISxWs9hpK+pP3s6nek7uJ6U/4akwepxWflHC3cJyg17v4QW1Qi5RzM261JHVvlYnxVYgUHmVp3my1H/ILC3d8pE6OW8lp3VvMpc+tyBa0juu1xTuTC2kX7pEtfxNi93JxI64Wk8OUpOL6MtWFdvPqlw6gRZWF9Vdjopxlnu7dnakPRrdDM6LlAaldCH3+P7q+7/uBLN4Ite60Tj3vF77VTv35uMUHozJrtreafqd6T5pvLE689tjlzt7iOeGNa7baZL44TKLJVuphNua4sbuxOkE3SgR7GBYoEUCKR0syqhRPssn7B4+I75+9jBbQTarFCgPenQ4To6XTNR7s6aHyetzxkUos0xiKGaMS+OoHuyz7FwuaLilpSmEeLgsKXLWpOVCkzoGVJ5SEJWNfk4xc3Ct8uNqjOMPTlpI0W9W9u5EHyPd93zXqXRz6ZrNFWllyyhvsECHRaQPNUbKWci/FubUuW8sKmu87JNMaInGzvWjxa9JOVFLrszRRGqXrG4ap21fUI5v3QHGulHl31pa0WTrH7mXX2MVMdE8kXYhf0Ls7U4n5vcMcyO1w8Sc/NsoMWzKM4hgpL7Rd5DvZziBVFOsdzV/K9lGqIRqP8jrnffTu5NAZvunTYk0BUSVyEVZR2HsTeQ/B8N/WUyt8TwfsvDtZHEry3+HdNhHGgqnvYbEIh5L0uUUYvge+f2EMxaRlGR+pxPouFIwCgTj39s2JfVZfGDEiF4vFQzLi2Wr1JuoRxx2pE7JntvY96GKsED3rNA72OMeUQIt7yYnPYSTMlSPBEUdtl+Y8OclG91+a0lDkuMbiPJgvksObEF08JzfBbdvqUaGKT03rTltpBI+bTfVeK2HQWq3e5CBibTbmOFEfOXZf0ejxafYP0z273eJpHrYrvSfl/VTBOp42NtwfuuHGk1fGVUv5Idszv5XumahH5Yv+j7Y4XkxGSV+68N2S4qk80BwFsaFgXGwmymjBxzKu+bhsFf+5ZK0L1zfMjIG9RrUib/Y2UTz3kmv8uqhtTlJaM9DB0XTP923fjeVY41Fes5zziWDQxj9MQo+XLmRsZD4/VNQpEpwqy3IpdamZiu1JteLyZI1Nfs5J5ijQUyu86WPK8y8MHGN4FU22zDtT2tox3mJQ8n17bc3jllXaTlK0bZInWG2dX5AwfQ+C5q/lx0ZSyjO76MqSuavWUhMI4fv2xa9GXc8KK3JBr/y9J83soB4k81vYl2a3KjFvwjoSvuUCLSvramg4Udt0FKVJyOxWfTCcyOQ0lRtLSqybw39qKhcjQuKo7YWR8sNIUcybdL6bvaJQlvuPSuIgn/A9+bjUnHIY1+5szAm64aY8cg4R6wcLvMUz29d9bl/kAv/BOr5GkHLXH9azH7T1YipyUezbyMT463ind4pcMBfHLSkxsW7ahar2GBNKwz5ZR1IsCjlXTiqk0PosJftzxhXx8ZiNOY67+rzezVFHojS01PyeTAZK9vyOVnEgGG7GRgqs9KLasqxK356NxWfze1+5OFYzy9nA2AyElNP3SJ2EMbj8HysG3ZJ3TvvYamRK5nc3iEOKAyxbpKFYcVvNZig5o01pK4pgd7ypk1DticPSEHNKeTOlfLCUjRWMMPAvfjUKFVhScRY4DlutXtJEZlwR70I9xAXyFnOS6X/pQIv3057kJLO3mGd0NN9qZy1Bua87WS9867jE6CZtUkOZbB7nLeavMeV1tHxnEgbBDMX37TqrKEqSuXspbhZDwjeT5GKZTI/eVyOZ1VzgqmVvjqq06a71WYpMV3mpBpV9G7kwk/tDl066VaqS8hS2eahxcVOxg1SveP1RxR/gXnLc0eKiyhK8aEcfZesd32pPfi0SA0FiziY17/z6uJfcJnmeXkt5G9/MRK2rGYzSt+50E8FHzzpXSbVeFz5i2wDQcbHuc8fCfLOgEgZOmz0PsPZzMfxYfPck5fl3L0V9xE5WpaRjl0dnahYppa0TsmC/Gaxs5bejcm0qdq5OhEF0W165T78CzenLeEe+dZzwna8W8wr+qldWD2zfF7WvUDv98WuvgLL7ADeWu+70ssPUNy6YkavGEXnlnrIfSXwO0++biu22q+7K62i+2462YBW4apl5136Z83mTQa1MNtItFO9lmWJVD5YQvltEPY8zosWhcdF/84V1atKpOJElNgrl+8mYDBJ1m59KlqaUHYMJfZMwdd7dmUpSeaa5Sa0CTJmVcshT8kl3r9mglirY+CA4nQgTCHq4VC3ofgyDkfWQCUHwkeM4rmGfrAs1X+bkiVzkoqIa62iFRssdc+I84V7VSoO5pOp5DxnPv0icUvO51flmzCM6DnWATcViHew0v+pNQCpvWBO+GmF8v66ufXX1wLfaUVIJ84JcMD7/l95ivpue8BbPhO2S5VvHJLECK/B+F99nX0bFMUh6s/LWYnazuzftZV1bc7GiHGG5allO47rrTvq+0C0zxfi+nakovm+vT+xGHM6sE5ivd/hVjUN46AfdNBW7Sg1vMh9TpouIO82egrY050JYReUe+O0OBKTZ3aJenTg5YBuvRjZtImvjOwURg4Lux9AllFhV/L5l7qKCPBJ/X8HBjfcxG4Vx2+o/blFnq3DeA2X9MBDIQWBV1E57EJKKJBMN2U0TpDwExd5Z1uD17mRGE+ywE2cz/28CHMfO4Q4F2IfvofPd7OkJW+WOL12S3PiQuWBmWavcX66sM4XEuRRVie9QmCBNSJCQISa3bAT/3+kaKfWzWDxIBwoUJTq0qI+MdIIuO0yQ2B9ICRN0tHwYL29lf2MS89p+cvpq1d5+q9r9oUv53RYdbW1JO+XixE4F7X10C8YS/4BJNtUxnIOUrcqhqxntkjnGrSjFMuH3ruquqHjew77bfQ97TOokSRRJtz1a1mLvLMMBuTlixM41gV39OApKmCNZmENagb1ELnjl3jHi7JWrVlYE8Mr92nwOLxAWrWbuL9MpJDXG+ddpnEZbPLybiu0acQ+7boVSQ+iOEqMld4TAfnEvA1enP9CiBN2MMt0+TAA+OMJXYxLtBkq5lz54quMfj3d3ljiFMF5lpnMb95diWbWzVT3v4X0Nk/pJEu9z4dM9kfLnaWY3lL5XtlIPlMVustMHIoDv2wm1nhSA0W+Tf5mQDun7C8mIb166xv7J5CFx0aN55T7xc4aXXvganRDlWdfRyVGH0A3BJtWwSJsa2ARQ39fHY5jQvCCHOUCGcbDEns+irvUUmrOdEUdnnJdQFoDoaH4cUI+cT8R57amQ9aZvehB4aQn3s/uX1SV2GqF8/yaxly/ONLp529Nmq533sGULKY1audXvGda77Djv8X2b0QSMtTRjj8kbHDNICOf7fvSHp6enL1++fJj2nI05gTh76uibEyn+97H6v57NdWUX5cvLy6dPn7CuAgAA8CcQ6YS/UBeRh8MnhBDFR10AAAAAhXxk9dDRfJh6AAAA4NXBV7IAAAAAAPUAAAAAAKgHAAAAAEA9AAAAAADqAQAAAABQDwAAAAAAUA8AAAAAgHoAAAAAANTDH4lnnb7CB+zdMf07BZSn1/ykfY3yu5cf8qB7AAAAUA8fUSjkvvCb/bxvYPUP9mUjd1z5Q0GHLAYAAACoB1DVcjcyX/hdn9iNnDnPft17aUrlBr6hPiS+CUkTJdswcg7xWWEAAABvDr6S9UH8FXdX+sjx0x/z5fu284u7+ukpW33kl+/bfp/9RFQ6AAAA+B7eFfPFe7HO6RBDKriw+aQ9chQAAABAPbw1q6n9QCa/FoQQsrLkROygyE/wtywNxYwh9+5kcSjJf/NsNcBxR+qkUDo0HuU4HOISMSEgJGvt+769lWMDAAAA1APY31r/pz3pSdJw6hJCmkqYpLA2e4U/ayq2v5YfG0lh0HiU176tNHMXV0048KaPE+NcidVB57vZ06cH3/oReDWQRwkAAB8U5D28Mu6tMjFcv3vMXd19r7ms55V7X9lnYfjuidS4tr7fhwJidqs+GM79wWtBstZwaQAAAHwPoJLfwToV9ZGjdYgwcNrKWZXdj7StjxS2y07g+/b6xI4dGgJxsDMCAAAA1MN7kg4NlZjrwcY6C9pSto/Kj09I7MB0DCKZSz/xRyMKUWy9lE/v8IylA9+3afecqEdc1YMchiKOfAAAAKgHsAOzW5WY6/tEkkFTsZeyfXQAg0ox2+zzqVaWzDh1KufPEDSfCsVdkT12Akc+AADAbwTyHl6Ljubn8wmaiu3v+TnFpzjQeVAbnJr/a8m6eYWKCfZ9JHUVAAAA+B7Ae6dnrnNegrUloWIAAABAPQAGD2ojF+loKJPXeTjft304HgAA4EPB+X7sOn96evry5QsqpTovLy+fPnnic+IAACAASURBVH1CPQAAAPgTiHQCfA8AAAAAqAfUAwAAAACgHgAAAAAA9QAAAAAAqAcAAAAAQD0AAAAAAOoBAAAAAADqAQAAAABQDwAAAACAegAAAAAA1AMAAAAAoB4AAAAAAPUAAAAAAAD1AAAAAID9k/pC98vLC2oEAAAAACw+ffpECPkr+Vf//vvv5rvdoCIvLy+begQAAAB+e56enjb/g8gFAAAAAOoB9QAAAAAAqAcAAAAAQD0AAAAAAOoBAAAAAFAPAAAAAIB6AAAAAACAegAAAAAA1AMAAAAAoB4AAAAAAPUAAAAAAKgHAAAAAEA9gI+Ce8nJd17lyz3rlBvPtnnOmBu7+b+ejbnLxF+vLJkbuxVLFV7s3cl1XoGQlSWfWt7m6Zv/yRZVtla5P4aPq1RNd3LqvarX77Y/3BrqE2sVw72s3CXq1GH2J/TGot+zVq8+XJ3XqJldYNUMdeSymoByE8aY3akY23YDAPUA9jxrMEjPWZ51WnoNZa6JqDYRb/GUmkZuQ8UZKp6nkiRlwQGtb6UXSVJwh+wrJMhWBb0Jarbjzi9L7ZZVWi33wz2aXveyVuesqpLprVlkGl3moC2qWErLlhVva6G/r95OedPdeyCAevgAa/Jx2eTCXf63dcq98koxS89c+xnWZi9zEa/cx/9kuMF1Wqfg3RuL8/B+S5MojXD4N9QH1q/qPCWyiIJOhmL5bDgbN5S2s7k5URu16jxVRbbSLDXSok4m6tGh1Abft4NqsiQycoJyDQTmD5qK7dNYmhKzCejYfT4/szeUSdQE+zHYHS37YNeo+tuoQijdmGG2j9QJ0cUK9kmysmOFPQRqt6bvGomeprGbU9CobVNSRZmWXZs9qdXczyzHRSPxQW3sWbdJ5pLVAwH4I30P3t2Zeuz4g/9S7h1jeLV3A/PWLo2pPnLiibWp2K4RTuslczohhJDF4oHMF4WLjMgiJubcgqnc/aEb7mZG5pVrUxpO9y/Z6EaarTZ2ZvFrQp4XB1iLZRedtMgOw4aVGdTFr8k76aSx2V6aEjGcD2OfGL4HQa9xj9XUJnK3WT4My9iyGwAA9bDl7Dx9JOa3zepC+G4R9R+E8NLig5CJchvEquMF/fYVvnhOrLSarTaZLw6k2BLO8xrLry1EwMq6GhLyYE9XJOmXbiiVzfNqwbiUbx1XNPkpSzaexSVhFMOdDiXp+beTy3uZFBbzytfGWidFgf8pow7P1fa5srgsVB6zqd6T5j9SU5MubFw1Rd0gLTQ3Th3kKID3qR5mY44bu5tZO/BIJ4J8tHBpItaYcCxT5/1kzDh2d2+iEpsxEwyMRFg06ayOS5K4Z0r483/LB1kKVyThbKwQXFgsHoj+o6ywna4xFONJZGXJcXyh4ObRxXNz6a+tuXhqebET2zEK59yg/ilT26bY7YSfttXqTdQj1sU7EBZ+U2AiVBEQ3vRxQh4WC1JLBHjWuToZOb7bVo/GbsIvvbakV1wEi8SNbNfmfYOSUIvhXorEte1r2T6vknqSTj49bh3KJ7BaTA6jJnWBq57TsPg1CbVg+Y1FjquZLZGc/c7UY0frEGFQEPXwrOu5eW1fEDHZhw03H/DKdIO1/NhICIiN0NEEAsA79T3o4o9uqL4967RhnwQBROc4F+SOQ+C+78qxdBCIE3oy50IwbXk/F3JoDIxhaiDpwrQbDgz3khOfw5hldE9CdOGMXAeTqS4EY9v7aU+SU+FBl8IlZp7ld6Q7Hr27K70n5bXOZJPWEAs1QfPX8mMjiiu3Xb9KNNq7k7kjte3aSpPwfds5VhslE+LG9NrTVTgVUmL5VCRzWf1itupKL9q8nzaxbsJQhaC5Rqi02GJlNbUfJKmnT2eEVBQBK0vmGuqx4w8E0tHW1lw8QHZFJnLUztvu2VTvmd/jfiJ8t6QCZeleclef11qHkKZiny8adXJX0+vywHbWiazrItu37/7QCZnYP8uLM1EalZP4CjJIqKbUnQ4lqVelGMxgQRUj7V5yjUd5XeKlcMdcwz65UZpEGJSJ4Gw34JVzY/I4PXxyY9ANkEcJdlQPUhgIIGR2qxLzJgxeCt9oQe5eqxWYT0VpboR2FBcnpKlcjIJhzPe1yBh0R6kpVbK+C+FsfjU0nHuFT91zc01gS/j+hUE2FoIQQqTPrURpWq3eZPEBfLnurTIxzu2LkX6VHrFBNllUA7nZU+uk/p6VCHmmEHMZ/6sw8NfWXCzIcJzdqg+GMZqUhX5arV5Sn2VcEVuxSbaoms3HFCvuP+pkdGGfG/p1RWvqWecqsdaRm5rv26EHgqoz2ERpbrEhD1zQ4jBlKcVhuIxOtkWnazyot7N09/jaokUuPOuUu/q8jlMKOpp/vmhs6dAO/PZ1IuuGw2qslXU1lEzXJJtIWYHRDlfqzihOn9xXkoR3d6WPLuzrwmIUt2b55hR3zHEicdLjlNbBTsW5FTWWoPkOEdjyNNsNPOtal066h08eCboB8ijBjuohNgbeYp7yxh+pWbdkp2s8qI3U2mWxeEi5GcUhmfxaRGo9+kvqasz7aU8iOUJIyYrtfSSOMfaJFe2Pci/FTS6k8M0kylnpYrfgEfSlTFOxczmGfN9mR3PdsaBL1nftmymVZJ7yreOEPlst5oz22hH+bzlRM+5Y0I2vQnEViUPDGQikoznH6lmlVRSv3OdmzI5GX3fGiZypbSwZE5gwJ8G6NvWvvu+Mwt+m2mJjV+JBQ1xf61AjFyVlFgYlUqCwG+wkiMdHKrFulI5ys4mU7X7LLWz8yjpT2s5AIE3lpkAus/bOZKCJA/eS47ir1pKRG9HREr/KN5ag+bbSDHV/U7FTnS3TDRr2yRoWHXwg9UBbFzLz3gUtCE+kIoXJuTWcKEO1Hs6hTOoEZVufpTev6Djh3Pcp2/9y+efenSw+m4HDs6nYrMVu4SMq7rmodlCPZ52Kes+86fOkqdxYRD0q8t4LX40wcuRZ5yqptTbKpIYU2JimYi9l+yhpTYukQ0Mh5jKyoJmAcTU/RHYTvzz9+0CGll6vWo00+6LDJPZ2rkC8d7Qsw4a4Y07UR86mk1eLlFWgro1fWfKR2g4dn3z/xnwWi7pBjdM7Mo4TW2myz4rI/5Z9GEwuwSLVDRLSQdCoonYoVj5KJNr5jCMfwOHVA99qhzlo5YPcCZzwrVaPtkVwNtV7ZlmMkPCtNqmZ9hg5NkLPx172Xm/lgahy8sEmUyS5ptmE2wt/y/A9lM7pBYYqMRPNbtWHOFrE922nOH4R5AdwHNdQj50aa6O8MSh2/CauL7Sm7q1CzGVS1/LK/Vp+bNQ5dTHO7wk3H8r20atOr3UO/2GmAiR1eaLbJI/NqJYVmMvjYTeBZ52K+shJKi1h4DsjndarU7onE9Zh1HbmvFF2Mc7VtpsJ7RV2A5Y6qRVEq/JbVlIUNQBHPxOTctYkY1FBDUDQMzzg2AAH8z10vpu95BTgji/dYFY6tTxCvLtxOKq9xXM4Ys+NScIbH1zTbElRFvRsnIlcMJ84s4pnDf5vWUru0Fst5qT9JuqhcpVSHOOVnMkj51B7wXNFEgYlO9biaWvwHhLAN95gin2tWDneT3syysmgpmK72+asJRa1zLyHyid1bh1rYFkXf8+p+7xyT+kJjF5UdIjWbsaM2uKF3YDlexD0t+3QtA0m4muVqfhoPgD1UGNAOkbsHLtqfRPSrgISLmgSIbqOtraiv+cav7pKk4QucY7jOO5Hlx254JX7tfkcPlFYlEiBZlcm8dYs76c9GXXf3KAdLLQMDtNef8vSMOfiXlmysG3O2g5hdfC6MM57eNOmyUZ+2busAXg36oGyMk66vOxw14MdjK6ERy65bkgtepIJ7eHfCAM/kYecWRwkVyebwmSuSf6R755EJ0S5twoxv72d2R6K9c/MP/jN81vjEPKkGfvEttggR9iWl6/u2mW18p9+RhAlZr+namGd91AlVkIr1T78Fm/qe8hPyOCPg/N9P/rD09PTly9fftM39azThnr8v83n/xVs3N8HLy8vnz59QjcCAADwJxDphL/+mFfmlXtfIYSQzX8BAAAAsCX4QjcAAAAAoB4AAAAAAPUAAAAAAKgHAAAAAEA9AAAAAADqAQAAAAAA6gEAAAAAUA8AAAAAgHoAAAAAANQDAAAAAKAeAAAAAAD1AAAAAABQhdQ3Nl9eXlAjAAAAAGCx+bJ06hub//777+/7he6DgC90AwAA+HN4enra/A8iFwAAAACoB9QDAAAAAKAeAAAAAAD1AAAAAACoBwAAAABAPQAAAAAA6gEAAAAAAOoBAAAAAFAPAAAAAIB6AAAAAADUAwAAAACgHgAAAAAA9QA+Cu4lJ995lS/3rFNuPNvnxd6dnCtArafUYvs7e3cyd+m+ZtNQn1irGO5l5ZddWTI3rvd60U9mY+7U8qrds1Z/O1yd16iZfbdgvixjTrZWzGqk3GRlydQK370aWU0JANTDb8VszDFIz4yedVp6DcXKRpRN96mLDzkp51+EZfASV1Y2P96dTKmmgp+vLJnVANkpmN4ElWt4TxaC2mGqWIvcD/fYyu5lrc5ZVf/RW7NIIbnM4VRUsflfydaqmlx4q2UArd++gpYC4PdXD96dXDSlzsYcJ1v/ryW/hyHXM9d+hrXZy1zEK/fxPxlucJ3WKZjdGovz8H5LkyiNcJJpqA+Ui+2TqBQOEarMYvGc21Amk/j+7Ml9ZcmpB/m+7/suESkTsWedRleuzWexooDg+3ZQTZZERk7wiIHA/EFTsX0aS1MirCagY/d5as2QobjP+b2jZR/sGlV/G1UIpYMxzPaROiG6WEEhSVa2F7M7Z1Wi1vRdIzFMNHZzChq1bUqqKPMrxyDtVnPnlkoY+HQ32JfsMJx9VzgAv7162FH4u2Nhbi5t5f9WbNfQr39HL99sqo+ceDZpKrZrhMYjazm8uyt95CSMn6AtTaLclpnreM5dW1LCeDAnd++nPemZN/GDAnPojCb2z3QjzG5VEl3JK/eOMbyq1eKLXxPyvDhAy2bXzbSoDcOGlc3vi1+Td9J9YrO9NKWElbIzbfceZwYagl5z7HSFEmWwmJfehyVMfVtpEgCgHj6oZb0IBnDnu0nUW3j8Xscm/S1LD+pZxtbOxuJQkv9OmSX3hy6ddBN/JXTzCqNw2Xc1JOTBnq5IMuLQUCqb59WCcSnfOq5o8lOWbDyLS8IohjsdStLz1d794b8BXgVjzVqRl/uf8kuLb63iPuP9tEmPpDvkRD2iyZR0iCHlfHpQGxWjTgD8tuphNua4sbsJrAYe5kSQmDI83DHHjWfR9Dp2k87SpI86EawNVnizMceJ+masxk7yxEydfFz088Rfuj9042s0lfDdE0n/4b5llW8mkRT54EJsrRYPpLzAna4xFOM18cqSBT30nWZvzvcvUhcTd3ykEuu7UPUFvOnjZPJrkW4I2is0Fdtfy4/p1xWIQ1uNtVspPdH6LNVwD5yrk5Hju231aOwmIg5rS3qtRnXHnEhcPxkMGs+CklCL4V6KxLXta9k+r2JO0u6349ahfAKrxYTMFwcQNLrAVc9pWPyahFqw/MYix9XMlki1wty6UZrFfca9VdoX9zfy41lC6knmMhciWVnykS0vM90g/NdNLOZe4QkAf7TvQRd/dEONnwxa+86x2qAFrXVh2g0c6brIcY1fF4GndChGA8z9QZw4cn9mrTZxX8fYjNXASe6OOXEees6dk4RV3hTJd4x4yetOh1IyqMm32odxcVejw3Jy073c3t2V3pOk4TRToUHaQSySBC1pp4/UtluQVJG+mBOJW8dHPbtVHwgJWi1y2rMi6/nsAU3YY32uLJlrqMeOPxBIR1tbc/EA2W3zdH9p5233bKr3zO9xCwrfrSKR6l5yV5/XWoeQpmKfLxq1svFT6/LAdtZJsNBFtm/f/aETUsnrk0h8KU2SKMggoXYGdzqUpF6VYjBjRhW6mWedciJxSnr+ypI5kbiaQHjlWraPinqX99OeRG7OCt1g7wsS5FGCD6EeJPObEJuTOGhNhG9m3toRQgx3M5555dwgxHA2rsWmcjGKZ2dhEI75ZlfuTahroEzYXuhHWj68JxG+W9LkcepFs31ypdtsSQ+LxcdoHfdWmRjn9sVIv0pPzUHaQWodk5qjE1qEV+7z0oR1cQVrLeiStV5bki4wZ1JG8nzRtoWMha6WE+BZ5yqx1pGbmu/boQeCagbYCHrOsRy4VcRhylKKw3AZnZTIna7xkIyIubfKxPjaokUuPOuUu/q8jo1WR/PPF426ey+jPl87gc5wWHmFK+tqKJlueRKMMAgX16M4fXJfSRLe3ZU+urCvC4tR3Jqlm1OifN6SAIc7PlLbbli9TcVeyvYRs6X4v2Upla+z6QbCweeJMMMUeZTgQ6iH2CR7i3nKG3+kljs/e60We0FQ6Mz3po8T6XOr6j1XNSKoB2ULg+peiptcSOFb6InZ9hH7WZTMxtyRSqy13ef5vr22iHpEv3OchedX2rYgfDUSai9YfWZyI1iLWjuXlUlfd8ZJbaltLBkTmBBkwbo29a++74zC36YMj6D5Domd8yJxfa1DjVyUlFkYlNgAvm9XDurXk6rjI5VYN0pHubHm4l7C81vY+JV1prSdgUCayo01F1lbb5gpimkoYQLPOuW4o8UFQ+6kq1fQMia5qdi+JhBB20TfOlrqEYG8yHQDWBkA9VBB/O6UZpza4Fe0x6xdPezbbLXfR0XnDWpqk2HOoHp3svhsrkMPjc1aUpfb7JLderW8DkYixsH3bd81CjwQBYdbZL3cne8miYJNnnUq6ikPcCV5ljueQZ7+fSBDS1+QazV20xUdJrE3/3O8abAgsSZytIiRS4/v286xuq07ZAcbv7LkI7UdOCkJ378xn8WivcQ1Tu/IeN00oeC31PO+Kj4o/cqpbVC0jId8AIjdASgZHghVgI+tHvhWm+wjFuD9tCejsjAk4VvHpGYoMe0IWS0mTM/Hq3ggqpxkMBs3lLaTnG42Qf3C3zLmuJTlKHaBFE1GTcXOG8WOVqIUKYdb+M6IOqdHqRhhHsOWujM6wkG2j/ZwptP+Gze2YRSSlZNorChxuHJWYC7Dhi1oNnItVefCwHdGOq2/pXRPJqzDqO2KO6496zwRJkj0Cma3ZKmTqkdiUPZrUFNcmb40yoM865T2srSzJqMAUHlLMd4Ujg3wwX0Pne9mLznRuONLl5Se4ERVIWHChHd3ll4txTkQwrd0ouVd8SOE7iiVP+Et5gdMWd8XNPd7JZf1yCmej4pjCm86GSUMak2HAV13NhXbzQREaskRuoGM8x4q777bOtZQ2Fh7TD7llXtKnQsDakMUHaK1W+oDM0GH2S1Z/oNa5z3sn4zOi+K5r8LKkg+QOAzAYdRDcLxP5Fe7an3bambraM4o8M6dkYuEv134bkm6EK63moq9NOfhDC7+KpECwlcj4avwpo+vksd0SKMCsjX5tywNcy7uTYJn6hiJymwfVgevDOO8h7dsms0GsdLDTAH4A9UDZWWcDPoGrmy+b4djOJ18lE41EgaJ7LlBtIgRkmuOcBEW7chITO4DIf0skv1jpxsfXDi7VUlyZ91bMBTrn8z/Pm6+BZTDLThxuO+nUA+WOLLl5auflsiq/91zCD42tOX4fqqFdd5DlfU35bc1Thh7n76HpmLjdEvwKnC+70d/eHp6+vLly2/4lrMxJ8zN/yPb/08msLorLy8vnz59QjcCAADwJxDphL/+iNftaBuNpPgK2h4AAADYEXyhGwAAAABQDwAAAACAegAAAAAA1AMAAAAAoB4AAAAAAPUAAAAAAAD1AAAAAACoBwAAAABAPQAAAAAA6gEAAAAAUA8AAAAAgHoAAAAAAKhC6hubLy8vqBEAAAAAsNh8WTr1jc1///339/xC98HAF7oBAAD8OTw9PW3+B5ELAAAAANQD6gEAAAAAUA8AAAAAgHoAAAAAANQDAAAAAKAeAAAAAAD1AAAAAAAA9QAAAAAAqAcAAAAAQD0AAAAAAOoBAAAAAFAPAAAAAIB6AG+KZ51y49m7enqtIrljbuwevqDu5RvW0usyG3Onlle9Ce9k7tJ9V2/AaixKUWu+rHvJyXfeNh39Tt7uh+9lmqhVflatUv6+5vit3l4rS36VmQFAPfzm+iBPgS307mSOQdEMsrKYP+M4jpOt1WsKHXece2O3fLqpXkv0Wi2pqNm4UpEKarJk6sy/dUjaatKbuFAEpH5SYQZ3L2t0uUT5Kf2EYvXrNdY2xrJqtyms/MoWt9SIsluW8sNaF29ZfmoX2ksT1NGju9Q5gHrYq5UNet7Kkot6oWedctzlf1un3HtbddHglXvf933fX5s9Yrib//e1DvsHfdunsbakouc0FfrPAmylmTeiDfWB6AJXf6Yu1QEicdPPd4lYPLtly782e1VqdXNzgxDDSb5tn6dYU4E4VYrEqsmlKZW/vGQuyxsuauK1JZFRWKiBUCAFGr8u4pohaiNqQmVCHSBi+l193yHC/sZLjcaKDUxDmZChWGrqvDu5obSduI0qdktBy7zwqHqPXczJfLGq3bKboSyUlSQqkbHf8o+cbFE6hQZe0MlD3HP2pPay1ZIfegDq4RVpKnbcC7PrIe/uTD12/MF/KfeOMbzaeUn9aiwWD2S+OLAwzzoMPes0t5rsMCY3yjyYLX8lGfjTnoyc7ETW0daWVOf1F4sHo9up5k0ViOMSsWBFPhuLQ8PJvGBH811Dv7be/VrJnQ4NJ9YWvHLvGKFaomjK1dR+SF4fGqelKT2XNsBEPcquJmkCpToCs7fRG9e9VYi5DFuqozkjPVIc4vAwC5ef9oRM7J+/5aK5bv0D8KHVQ+FInz4S89tmbhG+W0T952ME17y7K52QyePUI0nHb0N9qHqHxa8Kk3iz1a5o8lNu/LEbl4pRpNlU70nzCraWb7XJUMyubGbjhjJptyqvS2ZTvddqlZnVMcdx1621rwkdzb8mZwUuq1FXoFWX9LBYUBQYjSN18iG6WrPVJrqYdTO44yN1clzaAJV8J1sIoHHFINpqMe/J3WbC+n01okV2DXdCHcF9prQd32krZ4VLEYquYsSbWJELUd9vyROOHI4bu1E4T9CLi5QeIxtxhhwFcFD1MBtz3NjdWJ1gzCTCz7SVXyI4F0wZ3p3MnVpebLqovdYdbxxrszHHiXowbjcWbmqTeHLh/5al4fQD9PuVdaZMDNd3jtXGpZtw/Bb75w/GZr2e8uGP3aBU1CK5Y4E49/bNiX1WGtfsaIGfPIlAnBrLHc+61o1zhSfF0mfa9X3/Prysqdi+f0PO6P2K2k9WiwlVo/TMNXW9dq+UWd96a/fFrwkp78BCd6QnPCuedSrqwaRPvbmg+b5DxIzpIm5RcKS+iyv1ioUi2B1z4twKa3Qp20dsAbFaTPIKr9IYz9rsao4Kd3xky0tNIIK2lO2jAiPKiFzQq9Rwarv36pc/FbnQhCic5xr5+k9EEtfyYyMhIDZF1QQCwGF9D7r4oxuOGc86bdgnwaQQ2MXscjOKX8rx3z+ojc1NfH9tzYvimh3N9x0jGLeasPExJtdPzVa7PGD55l4HmTtS266vdYgwWJvPYq088/pkKqTdauYmqh+6ZH2P54vOd7OnT2cF89pVa6kJhPB9++JXo0JiVN5fWmd6mt2qxPzeKRYo9HuGKQXZIIUz0rM9bTbmhEKNUhuml5huY1bW1VCS8jUfBKdjEysM/PWJ3YhM9bFT6hgQBtt5qqurn6yBZN5/NtVHThwObyo3SZdh7mV3oF4M3ruTOW7ajVKCmortd6dvmfd3mByC2VTvJUcTr5wbgRP0sAQCF3mUUA9h//4mJKf4m7B/C99MyhIhWth1lDhrj8RBWb5/YZACu0UrwefkWrHV6k3etXpYWWcKMZfR3Mor9zSllXXV0PyeQzJRGmUbCiJXTeQsDcZwMpQgfDUmyq2btNYPRrdJi1ysLJm7ai3jpEth4F/8anD1y181K3tlycLcvGYb9ZLdJXRnmDAI0iQruUMSyWWH21ng/qNORhf2eS73IvB8JBJdM7m0CS3C9+34j1vVzPbqZy9kXrbZkvLeCGrUaUffG8edkZucABW00H2Va2hG5ILeJXRxu85fi6FYqWU7XeNBvZ2lHHvSSffwyY2BvkQeJdRDdiHrLeapSfZInWRWvZ2u8aA28qMr5Stuteq47ivF/t8VTcVOm4HAktGm49hCLE0ptbaLHDDs0Rgsx1NX+n6cXpcykx0tZUoF4viaQI1clJRf0BLzL2u3SHb7R8FssrLkI7XtZp+Yq9Lcboh8rCEfZcimizLcIcn75+5MVxtbmO1NIudAIJ3vJlHL40EFj4iUXMm+G3bN7Co7Cul0jaEYW82Nnv7G0APNrkzs6SrlJ4vM5N6yJjtaQT/cdON0Q7N1FaVLJC+OB+B+tyTQxxo9siZoqUhiwz5Zw6KD11cP1HUDbVtgNIqW5lzYW1ZO67P0gWs9P0efTrv3b5T8nDKlZWGFIuuSbdktz6vYrAiPbHn5AbPBqYImH/yOJveNfyXYWcAr905baZR4NRjKgLbnov55FXXLXw9B8522Ei40jmx5WaAOeeW8rUb5B8FmGf+AWZMfGPr5HKVepYR0SKn/Iq8Gc/BSXDIIVUA9lInfVpvk89UZE5Mz0q/oXWqxeJBazRrPnfxa7PLzt8K7kzemMTX1n9iN/UR8tylRjdOfmItayhZ2lgeieOr37mTuurX2C70OW06dr6kOx5Xy+7L+FUFbmnOh8LcMTUBJSmA1lmvsqfwbaM555nkSSetV1sQdbW3NxaRXrPLcQAkunFofx5TtqfwdLa/zGAeAUo7JYo1fmruC7pKBYwPqobSPfjd7yY1h7vjSJdGuCkK8u3E4uXuL58QPH2I/rXsp6qOLMoMRZzbwf8upPeurxZyWFfgOxcP0cWLkHPJ833ZGe9honljuM/MeKq8JrqJ0GwAAIABJREFUeGU3dwjL91Dsdub79rZL2629Jrk5On/xkTrJ50DsapAELe/ubip2uZlkZPJnomCsVxb2t2GQJVD2lB6RMGDVpQMjuEDpVAVnQeadajtenBqAhRvNqpd/S3Th8JtIi7T+H3PY/O/OX3sZ48q9s+BELrAKkrm0084Joh5x6ubfrESkrWdekDOOm2z+f31fPD8I3y2pIXA6MRxfE5pdmZxNV0EOpvfTnowu7A9Q4Xz3RGoIcivts/XuZHEomctd5we+b/v99/S6I+eAeXZUY3ZfYOeUOkZR2VuR/DdsAMPZcQ/eG5f/oAia72tvf/Gr9wk3vypwx9wU5hAc3vfQ0agpyhmHZLyITETWM76sVrS2iJU1r9xHl6UWZ+k9eHz3JNru5d4WpF+9N/nQt/2lbKc9k41HuY6vfv/QliPl31woZyjuM+2O7ZRipMG/4dE3rGT7vRSp+s1ZV5bGerb+IXgTWEOA0l5v6nug+dvAx4Tz/Xhl8fT09OXLl9d5sHcnNx7l9U7uOM86bajH/9t8/l/q8euucUNeXl4+ffqEbgQAAOBPINIJf33kt+CV+41/eV9eZgAAAACU82bq4d1F6AEAAABQjf9AFQAAAAAA6gEAAAAAUA8AAAAAgHoAAAAAANQDAAAAAKAeAAAAAACgHgAAAAAA9QAAAAAAqAcAAAAAQD0AAAAAAOoBAAAAAH8oqW9svry8oEYAAAAAwGLzZenUV7L+/fffV/tC9+8BvtANAADgz+Hp6WnzP4hcAAAAAKAeUA8AAAAAgHoAAAAAANQDAAAAAKAeAAAAAAD1AAAAAACoBwAAAAAAqAcAAAAAQD0AAAAAAOoBAAAAAFAPAAAAAIB6AAAAAADUA/gouJecfOdVvtyzTrnxrOyqlSVzY5cQ706ufPNqd97nD/eDdydzl26VvyxogqrlDyu2BtFPZmPu1PKq3bNWr6j1su+cA74Lq/73SN3usf8iuWNOtlbbdu/aY5nyuKoVdei2OPC0Pa7R0Kxapfx9nRl7z3Mv1MPrMhtzDNIt6lmnpddQukVEcX/y7uTguqoDsm6fq13+uEg5Ct+F/qCK9bA340Rt1ip1m/vhHkWVe1mrCbaeVlxmn6bUW62Li1q5tKj5HsXsDMlWqGGi2H0vc5MtukfqJ+VWp8bL7mPuqtZPagsFSo+t3Bylioc6HFivU+viwkmsoO1oY2E/CmlbiQb18N7pmWs/w9rsZS7ilfv4nww3uE7rFHSXxuI8vN/SJEoj7I8N9SE7CzSUtrO5OVEbB1m31S0/4fu2T2NtSdUeRMfu8/mx2lAmZCju02B3tOyDXaPqb0cOuxsw5qYjdUJ0sYKdkKxsXytogh2QzGX1hqNc7Pu+PxAqt7JjEKnVLLHrjUc5/fJr+bGRn529O5kTSNwGJ3ajjjMg6ttFTR91D9eIh/+9whc09HUrKrwzituaE3SqXaz4smmfxwZRJxP1qGwszMacMA8abmnOhYMYJ2Gw7SAi3uKZzBclljc/HFiDIluSuC0KJ6PMJLY0pboDh9YrEqKkoT4QXdiv1IB6+NNdGlN95MRjoKnYrhGapaxNcn/ohqsJm0n52pSG00O6sBeLh/JRvTPZdTPNmydoDIVRbFAXvybvpJHjuWlpSsRwKArpj+ntPblLAvvXUCa0Xmc42YmYV+4d42GxSI+GW4WYS01IVLIz0q/u3nBa9qaPxLyOCy8M1mYvNDMUg+pOh1LyevbLJmgqdkKKRTaMNRbcH7rh2koz+O2NRdR/3lPkazW1H8jkcer9jv2dtbIqEKBQD+Agc9PiObFua7baZL6otozYQgR4d1c6CUd1vNzJuUN2Nd5867jir1LewvGMRP5nmhEKpmbp+eoV3ICgqlK81qWTLh/aP5qTo9Xq6WJ2ZeZZp6Lea7V+twpptXoT9Xzbl51NdTKxf2aH9maBG0pwdzpMOXv4v+Vqq47JYvUqXeJcbbu+c6yeFcq+SeyRLQkusCIX4nC/JY+9PkFtB+EhygyZDoukyrx5L/nVJS/Uw6vzoOa6cIE1XSweiP6jbJx2usZQjHvPypIFPXTOZ26+WDy0ExNBq9WbqEcbZ3iZtP+1ILVEwMo6UyaG6zvHauPSTSx3Slz0B8MdcyKJXc0OEbjxLPCKUz3t7qVIXNu+lu3zKk7CdLjxuHWolcFqMams+WoRO0Wrxm53nTHrRny9uzP12Clzt/DK/SYGkRpl9sk6t1wTvltEPYpf0LuTxaFxUdmdQ6kxWnAhVO5z8mBPSxqO756kiuReNtSHsNIoN6/+spQRKgu6YZlEOcvo401EJqjn1WJO2qlQUbPVrqRLwiVHnDMh6gXj57JqTaZ/1bBP1lqHCIO1/NgoCEQyIhcaNWZGiUmVuSqzeQ/FkyohmciF3efDIFd2hvTu5FRwyiViYlRu3uv1fZBQD69Lh+U+p3dK7+5K70l5mR+I6HjCFbRNpDPstW3X96uaaslcloTovJ/2JCpGNRHg3cmbYmxGtfksHjpKl3GNtPO2ezbVe+b3TtJySAXKzL3krj6vtQ4hTcU+XzTqlN9bzJMmRqydYKGL7NnT/aET2nqxymKLvUApyCDRhL21EjN+VMUNGwT4NxkSoUFiOI0o/l7q9Mr3bd8lUWJB41FeV31fdo3R38W9VYjUyzdctntkiiQ+JzKlGKkAFV82P0KJtdb6ir2U7aPtF6+BhEpnULk/dKknBX7HeN5zinMZsga+uFesLJnjpl+jl+WVe7/7400TAuI0pj2OHW/6ODHOE1XR+W729OnbbVuDenj/uLfKxDi3L3KB2GCMpYZWai5LaBFeuU/+sdXqJZetGVdEvWIUeh2IuYyeyyv3oQeiVLDnXIWFfrkgEhFdFv2KMqN1usaDejtLv9fXFi1y4Vmn3NXndTwFdzT/fNHYchUe5CjUyVg0HJapWFlXQ8l0TaLcFhcmyvxyRvGkfJgFCsWdwDLqO/iNOJE4cZ8PDVJZXm1NTX+wWLJ3d6X35JvrfMPRugerSB0t8Uf2BpYy15F3JzcUYi7D/tBU7M3yg5pDnY9vrlLqOFimJ/NeV9bVUJKvb0ySHHF77g/cObnJDSth4PvX5Iy2i4cRuaDv92H44fYrTSgDh7bG4Lsnkn6deO7sVn0wuh3ytkA9vBLFNpK6NHQvxU0upPCN4lqs9YhEj+Rbx4lg5GoxLwmOetZpWIyB065QjHAyCnOskqOallfPSgbM5HMxzF6wlk0ayM0fKTMaETTfIfGkIBLX1zrUyAWv3Oee2NGilYQwKJECfN8u3ESww6R5pBLrRukoN9Zc3MtEFoeiCmE+K+FOWJpScktR2pxs/RTvTua4q9bSr1Cl2xvU2qar1lM2evpa4ZvKxUgXyzc6sR+R8jhWgbL85fu2nx2hvHIf1HCuewvdUcpl4v20J6OuUNpLm7xybc6F8QESLAWtQOpt/KPp3sLaRkHd75O8OJ5M9qwv6c1HnVj4vp0KTgnE2adHEOrhfZN3La4tKefmii2WdyeLz2bgpG0qtttOhkIrPoIaXxC+Gnownj3rXCUnXb5IOjRUEhaDCNpSto9qbtbKm43Taff+QFsH643YsjIUHSaxt4MZ4r2jpcmk7pgT9VEQ9ef7tnOsNnZPSohDUYXsOGnu8JSEqcu3iDz9OynU8jOyY6Qk6V78ydSn5HeiRk9xx0dqO9yzsAnklYUJGMqAtudivJ1IKtRzmeKlFjAbJfRNqNJLSVOx00F6kFXG1fbMp6f31C4h2sqKml2051aAeniXfWVzJEPaY7m25sVLFobvIWeTNrfa/FNxAtrsViXmOlmM5iZEWrUXencyd2TL6Vl1fWI3XuUwkx2Ha0FgO7ntO1Htqa3zlYZrLg+GLWgCJ1BynSQMfIe+kE1Z2UxYhx0DOnyjbHHyZuq3DfskHRffKWBf6EIo9+tUrDHPOhXn1jodTCx14zHKRkmFYeiM0sMGknpuaUrpnIPstBAM/E1alS0vs57FxHC4yvRS0tF8l1T0k9GCC/JH2vGUOEhmh5VGJtwc9n+GZ67y7vQ9uyv+gkV/j3Q036dpz9IfZsZtgYztVyvGPXXSqWqpp48Tw/UzEw3ft51f3NVPT9kxBr+y5FRWc4NTksOYCybaXloAFdTJ1l6lflEh9+W9Uu59JW86Br5f+eLEjLMnKUDLKp9waurP1eq/vDP9tCcjx89bNXfB/VgQssUTBM33tUIRf7CGEzTfJoSQIrsomWwjnV3r0//JuKiooo5UMjKI0hi32Pq1qdhFfapwHFFnEmpnHrA6W7rEl5U2Txqur3X2cXE0maQv3nJe3ZoHtZEZXJuOYt28iZmCengztjZXH+gVuydSQ5Bb6UnQu5PFoWQudzYo1aYzcChet/75v2VJEeVkKisJ9hxK1vqt6yJUA29DRZ1B9Ys01AdiuL7dIWTQHXMct/3dXrG6C3TGK1782tCEuHcnn71RcRC5eHVorq2yc/7fx823U0iRwzO1Ke5NpydWLf3p0VnGSQx7rhZd3K7yo30BqS31trx8w9M2WTW2F2d79Zuzriz5rAkXRoLCZbSghcEgDpkK79AiUM4K2vvmphpwfsLx+fT09OXLlwM9KfAI9cz/78T+vxRSU9561mljcV4cFW7YJ5t1SXAoUHixZ5021GPHIaL4vB8nasTLy8unT5/Q/wEAAPwJRDrhlSIXwQ4Cf2O5lcMGh7KPPlOPN9kAa/O0cTtTtA46AAAAALA9rxi5ONzBvYXiYfoYbS7ilXMjdeYGAAAAAF5JPczGHDd2NyfFBrGZxA6x3K4S9zL+JnL4IZAgqObdydyp5UWnoKd+G99Tvltkblg1vria2kTuRiGSTtcoP2ceAAAAAAfxPejij254SleQcxBshc8dSCwM4pORKPlND2pjcyvfMR6ij6QFyQqbe96Qq8ShBe6UOOGBS0Qt/HyR99OepHwerVbvdT77BgAAAEA9ZJHis8Zmtyoxb0JZIHwzq328NcJwwqMMv1tS8CHH2a36EP094fs3iQMTBS36+79lqeAb9puCfk4exMy3jrf50jQAAAAAdlcP8aeVvMU8tZPkSK33+eDMdxaeF97mngXfX4jOWC37BOri1wRtDAAAALwT9ZBRAGb6/Nh97OZnZFmmDj8uO4219VlCGwMAAADvTj3wrTYpCx9sc89U+GOxCPIeNocf11AnQSgk1B6LZ9Ju8Wh4AAAA4C3VA+l8N3vJT/W440uXRPsptrxn1yD6VfjxD/cyOsidbx0T/Ue40eO8JHLB/y1Lz8k0h8XiQWo10e4AAADA26oHwiv3jhEft3nV+rb7p7wEzXfa4ffWpl/jz0wLg+hZZ+S89DtyXZkktmjOpnovsYETAAAAAFuQzFb4n//5H/+3I9os6vtrs0cMd583//Xr117u44xSn8fdhqUpZbNP9nQxs7TM+qS8ztKUiOFUfoJBJHP5jjpRzZ5Tq/xbv2yNUtXsYFuPlK1/6Bg1useh2GUYOqMaL56YlN7uzq5BdpgEwB9LpBN+/69k8f0b81nkLl33sqES8/vbHVPt3cm7fn8oOlar4vd4os0ptFO8qhQ5PgRs+5tUKFuV+8/G2z2dVu3UqnPHtT93lPoJ+4tE2YvlO2/bVijqMPU6GK3+y14hepHUbd3LSm+0S//37uTiR7BbOVu2xFlzNXt1zRqjPIjdnWjlZ15cscJ3a2UAXiNy8d71g3Lv+wNBGPj+Xj+RtQ3ZZYEm7HQHxyieOI7UdrhqWZ/YjeRkHWyyLZ2+E8ti16hoHcUhmSiNChYit9w8UANRVmP5qhM0ijOAnZ+7smTuqpWoHF2I5ucoTSdZOSIJ2sJpK43KAiJ1FJvvErG4yep1sGT9r80eCV+hkTicbY863s65o6qy+DVJpz9XbGU/f0KdMMgtwSvSVOyco6Vk8GQ9GYXp3tny7+s7tNlRhg/9AKgHUGjM/1GJtY5mCr5/Y/b0abTsCJyWmrC3B0bWN+MB3uMj3hHeT5tYN/H83tHWlhS+dVaaeHdX+siJv4O8NIlyW2nZnT6KjXQ0ZxRnE++d0ENebhdfuS9Ph4TUO4Oucjsu5m/0CR4AoB7AeyW9NxXnbL6Z0pg+ToyvCRHV7MpJJVfHtrU+S6Ff5yAegmroYsITLg4PrB0uxbm1Xltz8bJQPwxFrnbsKdc0eyXhgdvERwL/XEOZVCh/2Ud8AIB6APshF4xIa4X0WRdVIxdbLeeeSbmfefsXLAlsV7Mr+eBCyGoxJxP7Z8k9+b9lojTiEPJs3FAmobXI3zyzT5hvHVd6Y77VJqktx2TxaxJ6OPbvIagcuUg5w51RtW6RCe2XHRQb/Uokjt3n+b7tELGoremRi0L//2pqV8+FyuYQlKu3VOTiXuFD/9zaygZtorBOwm+3r8gFAFAPvzWh4dnBnKeDEcI3M2nevLsz9cHodugXb1Vaxuy5mtoPFf3Mulg9ja6jsXKAKZ9eo83LFe2K+49KetLkcepRLWu0/G0qtu+QKNdBmCf2TTjGvrpF57tJok/HETIbi0Pjos8fqIMdPHJRLy3DHXPcGbnxw+/aCAP/hpztT/J61rnaPk+l2pTV0u+VQxDKceRRAqiHD0y44Cgz56llNHsBnTNvjUd5vb8UhGjHJtX6TkZOeXg+ykFLbeZ86ySJlXU1lOTrG5OotzOaZR0kCyhodC0iaFlpkvmyq7d4rlggXrlfy4+hz0UgzrZVROtgSfVWKw5y6MjFZpvJtJuThnzf9v3ulLpRgh65YG6pcC8b6rGTMf9Vh2E9xZaAEnxJ7WxKZxwfOHgR7thEHiXYgr9QBR+Jjub7Wp0fCPQfNBX7/iAF9O5kcWg4viAQp801xq09TEzuZSX7ZLjZZ9X/oWedq8RaK02enBucMO6WWRH2IyRzGQkIvnsiNX64WkdIuGeMi6pNwCv3vsL4++2rtanY1Ltu3an2CeuVmQXg+7bfr9mpns31/QHFqjDw/cHuL0vIwP8t844BfA+gDpTlUW03rHtZ2dNIPVOh3skNE/Uocs7rpdKhoRBzubG4grY050Ldsw0Ys3AF8jIl/0PqcUDRDzeL0WCx29HW1lwsqyVG2bKRC75/YQzFsNXc8ZFKrO9VTcJsHC1YvTs5/H/POqV1g5odLHHDPwfPOuVE4rzG/u2VJVce4KxTHKjjneLVYAYgdBFHPgCohw8NIwB/SF99dod63a32vHJf+TyG2bihkMSCm5CmYi9NopxRvK/JY6+O1ElqgqPPtlvbuepnGYnP5joRmOD7tnOcyDlg3JxGPqIkaHEUSZxba7vPf+gOtmVz0IILr2rJVpbMNRbnmQhUdSiWeIt64Pv2tgUo0tMUPx9jBkCoAkA9/KaLoy0+MNZU7K3XUnVWSEw6GiUPsanY1OREdgrkW6U+8H07r42EgV9q5hlnG+ffOk6SqC0dQqMb7/RbTe2H6HNx+68M5X47A1P0Q1b6av76goMj83ttal28saZb2k6WFh/srcNSPQqH3hCbmASwRxRAPYB6E8di0mu1/oAXraIG3iPhVoVwp587PlLb7tp8FuW73/AAD/Y2Gcpem1oXv3OoSrTihlgAoB4AfR2cJHEo8h6Ol/EWc+mk+wEmV0ZSfakFpS7p6n9v4g1uTvE9DEWOu2otfa0TbMfY9UGsrQqlDvmtf/hnoTOqieLte0vfA8tNCAADzvfjtO2np6cvX76gUqrz8vLy6dOnj/4W7qW8+IaJAwAAQAmRTsCOTUCEgY0tYQAAAKqDyAUAAAAAoB4AAAAAAPUAAAAAAKgHAAAAAEA9AAAAAADqAQAAAAAA6gEAAAAAUA8AAAAAgHoAAAAAANQDAAAAAKAeAAAAAAD1AAAAAABQhdQ3Nl9eXlAjAAAAAGCx+bJ06hub//77L77QXYvf4wvdAAAAQBWenp42/4PIBQAAAADqAfUAAAAAAKgHAAAAAEA9AAAAAADqAQAAAABQDwAAAACAegAAAAAAgHoAAAAAANQDAAAAAKAeAAAAAAD1AAAAAACoBwAAAABAPYCPgnvJyXde5cs965Qbz8quWlkyN3YJ8e7kyjevdud9/nA/eHcyd+lW+cuCJqha/rBiaxD9ZDbmTi2v2j1r9YpaL/vOOeC7sOp/j9TtHtWKFHYGd1yz74UdmzVC3TEnW6ttx0KFu+1aUWH91CnVAYrBKBJlhM7Gqd4b3r/mJL91/Y93GTlQD6/LbMwxSPd1zzotvYZikiOKe553JwfXVZ0c69r72uWPi5Sj8F3oD6pYD3szTtRmrVK3uR/uUVS5l7WaYGtJ5zL7NKXeal1c1MqlRc33KGZnSLZCDbnA7nuZm2zRPVI/KZ7i4yqt1XzZ7nFANRmXsOq8VN7QmcqvYv4PUYziH47dN7Adpe+yt1JBPbw6PXPtZ1ibvcxFvHIf/5PhBtdpnYKB0Vich/dbmkRphH2loT5ke2FDaTubmxO1cZBZo275Cd+3fRprS6r2IDp2n8/PHQ1lQobiPg12R8s+2DWq/nbksLsBYyI4UidEFytMhZKV7WsFTbADkrms3nCUi33f9wdC5VZ2DCK1miV2vfEop19+LT828jbbu5M5gcRtcGI36kyvUd8uavqoe7hGPPzvFb6goa9bUeGdUdzWnKDn3lScb1rZNXSh8ho6X3h2/Sd0hqiTiXpUS2m5Y04kwYOcttIoEfTxcCjuscku4RhvVgz2JLY0pV6rVeTDCBs0nItKJqL8JBN0j8pF2pRqf8Me6uH3cGlM9ZET9++mYrtGOACyNsn9oRuuJmxG4LUpDaeHdGEvFg9kvji0Cy67bqbFXwSNoTCK54XFr8k7aeR4IliaEjEcikL6Y3p7T+6SYP5tKBNarzOcrHnmlXvHeFgs0qPhViHmUhMSleyM9KuDO42LOvP0kZjXceGFwdrshZIrI01WU5uYN5sO0NGc0cT+uf+SCwPGyGELoMRIvEpMTYK2NIly+/oxs9cvhvfTJiddZv00FTsnKEsECsP3IA7frKdCPfxpeIvn/7+9s2dtnGn3+Ohwf4CnlMApzJ02HPDdWIK7MWx3niISDliqli23C9tJdhHLnUmXcnkqyRAjp3hOt+BmwXKzhkPaXVTEYJXPN9Ap9DZ6lx3ZSTb/X5UXWxqNZq75z3VdM0PN21rtDtk49eYrB4gAdzbVCFk8LF1abmfdIc8dvNn2Rc1vJTznUYi3YBAihNjLkSg+Tvea0oHjKsVbTbzssaH9zXNytNt9TUjPjF3zStBKpoNvka2zuGhHQ1T7XFz8dI50q0Sko3bEc/mw0D9QXo1WT+pry1PnPJ28GOsJJ3e+RLJ+rnCNDPMZj8gxHYpQD6+QucKl5WPJaOo4c6J9q1LJ3Z4+EuLZ9taUYodY6uKOM+9QXt92u79QznxneImRWlpzEhim+iJga36WF7rtrS4UbmzHcrvKRX80aO+l53krwjOTdeACzfW022OB2JZ1K1nXNZ20lOuYMuvNjxm1Nd9eaHx+XLXRWRrl+mb2HpDc2WflYlXlbmHlez8Gkehl1uUuM13mP5lEOYsf0J1Jwkj/Utudk1Nj6eACrdw3ZG4tK14c27tMFMkec8o8rLTkxV1nI563KRHd8Xt94/NRe8wIcXjH211aHPW+/EooiAWkYkxpoZ+GCimWNgk670HQqp/gSMUocBLwG9qh5XsXckMMrrNJiLNyO0yXql7OSjrvofz6UA+vmm6R+zxfP7qzqdYXs8GFhZ/WEDdrXvXDumET6dieV3eoFo2niniY+91aRMWoJwLcmeQXQ+0SfrgzHoVjp6+nXCOd7Ni9Xmp941OXHjnEEmVmj5np+U7tEtKSrWuH26f8kVHwrauwd4KFJhSPQ/Y3jZBaPuqFzNVOIy3JIFH5xt5SYfyojhvcHjPcg7TzI/ShI7fAaZSTSZOrOdiB5dkkssrcg7Sr+7zFNZb/LPZXmYj97ItLN49UkYRHKlOqMp/mZlUZC6+hh1ITA9d5FI2PPFVpX+gYkJ8/0UwEjZ5e38ts5CzMG/aovA1L3k7KpdvxipF2bfJk5Vlyq65TxBeUQXioxA4Xjx2lOUNZj0Vj3Rnq4TVjf5UX+rX1JROIDbLhEkYqYcsoLcLK9/Sv7XafnramXBH7FaPU60CMp+i+rHwfeiAq1XEmqucPgQXDXtCro49F3womhfQduz19rnxdJ5/rQzsvcuGaV8z0fBcbxK7qXTvcgbPwIEdhHwejvioaKrbmdCQadnXgNgpXr27i9MnjJEnkuBOKBvVn+I0YgaziNh8a06q82j01fQ0RcxjubKr1pbvb7IvLax5FReqq9K9su0OHKlKuiMPQ7ezEgG1fLJR/2clnqRkDWiSdZK7zeJDcrEz382usUF2doBj2hPEzWGsPz+uvylzXbxJ1u6+FbHB9GdTDK+WAFmCPBT/Th/9oEPlzZei95BbUrJdtX1AdaetsKqyAa16FxRiuOjWKQQL/RFp988N8jVyUDOin1kf5+QXDXtCr6QHS/zWYlyTuyKveisSuZoHYntrNjVyw8n3mjl01sgv8sEIKsAOrYkJw8CB6phDzTu7Kd+ZGaMSdE4eiSim8F+VOeDJEekkRXQPPuIs7kxhm2n7yalRp8YrQJmMx+9/F19O3MtuSv9xoQvVCp+Jb0FXUaouPsc/N+bnoHCdcxg+93fmUoT00tWQW27tMuve2S2uu904dpz9NMXg110yFgo8fpv5rT3hNND+pHw1xVJZZVbQerY5rDerhdyDbAnammM2CiVqAO5OERyNw0rZky+7QodB9Glk6vsB/0DXev5RrXitlicHENa84hYTFILz6JFln+60Kyxk2rpa9+5fK9El4zqvKULaZRGMbM8SxzMpkUnvCCNpNEPVnB9bqQuGen5QQh6JKeeak/Bl3YQeWF4jR7BuRln/TQi0bGVnpCUnaiPM29y7ZlajRXezJmdKxAz3tB/KqZooFIZ7U3LrVk4jy2b/UeiKM9hvRJEUbAAAT9ElEQVQRU0kb5U06YV5qNwZ28EUfCeGVfe37ia/VHfbay+H1FKPMaFAv3c/hNe4GLGnJdyZRquzqoTviQD38Th6IOvsr+FsyJD2WO3NTPmUpaF6ZMcm/lP+v8gS09VeFGIlJRku2niTrrO6I5c4k5sySklZ1d2lxTViE476C0ANRucaaqvbkavg6c9xMLLNY0AROIHr+zQ+9Vf5ENmHCUmGd4hjQ8V/KAVv1Jb7LWZfJTRyeJOvsYOtZ6kKo9uvUrLFgS4ZkMLHSjVdQtnRc378UxzBMOlOvhjthv9T9rSnl1UmVH452+Akbc1dicArmP4U5BEn1U/4ujliMA4yGH7OILDw7sFZV8YsiD0R1jktermUjk58/MKK/Rrqq5+W1nsovJkeXsoY4qFeM+9xJZN2Revmw0G0v1evYgbX6yUy/u/IzXW1bU0okMXGMTPcZJjC0faOOl7VW9R5QmVuzKe+VfO/JuWNA7Q9TiqchKZCXRLZglMTv9eq/ujF9txY3Ky/VZlqyZTvMN4eQA+7Aq56nlor4o704XvUsQggpG/BE46nOiFX1FC/PMUpY0MK3b6SiMhY+6Mhbp2TaU5RLJJrPNvVQD2+Lg4erN/SIvUuR46V20gi6M0kYicbTsweUlmyVDZHgyJy2/tm/JVEWpPPkrHFrSrwmmrtXMEBaaBHguNSbHJ4MRC5Ozv5rdl/LxQ9TSE+SlUzI5x6kXV034GlfQcMbG7w5CnZiaLhaNOGwym/JFr0sOVhBZ0lPL7jbZlGNNRIDOurFDyJnr5qDdkQAzRquF6p/xqMcKD9+/Pjrr7+OdCd7zAgjQvrG/11a/y2Tek65eL5qXnHOtad2fQfOvl/Pv6By8W/j8Z/KxeGC7tevX3/++SdaNQAAgPdApBNOFLkIVhB4fvhTfk4kJhHIWU+Y2/YBUVV/xzpvyBOycpip+fFFp8IAAADAm+KEkYvjbdy7v5hZPpBw6zT+k0nKk10BAAAA8Gz1sJ4wzMT2d4oNAurUCrFMDMYex2ciSzM3+HrgA5CYK9ONTg9LfDe+pjRz0nf3NwbntSAUF8X1qYPIwkUprnnFSDPbvApDhtulRaRe6Gxg/5aOfM4kAAAAAPVACCGa8K0XbifnmlfxOuzshsT8MN4ZKSe/aa5w/qW8lT4Pdz4J8hKCXV7uyDS7kQ4/pI43jba+58OzXJ6MDXXa/UKekttgza773aIPptvrnEkAAAAAHKweqENT1l+V6Ix5QviPxp5TeX01jIII4Qmz/mYaYTIjO7ircSqja95quh3ul9KSv9Cn3d98oTMbkrvBt9v9BdQDAAAAcGz1EB+t5DqbxEqeM2W/44NT5yw8Oq5/zbqnsEQ4zjyx+5gwItERMrRccH4u8OIBAACAg2lozUVD28klOCjLUrez26aml8K2z0W8eAAAAOBgGlhzwbY7hDrrvRHYdockwh+OM6/8UrvdJxun1rYZ9LG2hDjOXGxjxSYAAABwMvVAup+MPn1Ujz0Z2yRaT3HgNXs60abh4Tf2WNCKPhkLF1a+1hfU2TPubJK7KRv7t0Qfa0u2zoYKxAAAAADg+OqBsPL9So830Zy2Pz5/L25e9cKz4xhm+WGXnzXpC5doxWZX3Zkk2t6V+9nL3wOq1ZOItYxExndrcdPj0RYAAACAepxup+pXhTuTuJ9fvCFPiD1hpu1D971ubqfqeCvuyr+7M+kzuau9t3/RlXOwx8z0fPdypwYAAAB41UQ64Z2eksUO7oxHgRn/r3klaMnFnMfEnhzrgBN7UvvsHHcm4XQoAAAAz+HdntAdHQ9/4jOexTrne6WPcp8zQdpH39jdN1HeV3bSKwAAAKgH8GxpQ58EltUWqCAAAAAvyn+hCk7LIkrqpE79YBiGy27FnQwxJIILC5kLvg4AAABAPfzuiMaTF2ENWNJVPc/zvPSiEncmcQ/SLvqoTQRKQIjmLv/QEAAAAADq4b3iLh8W+jW1fWf3k9HXluuj33gRrJJFHiUAAACoh9dCInKRPEmchu1ditottRxj/VWZ673u0cvnezU8T0VSJQAAgCKQNXlKeNXz1HofZQfWjkgco4R/0FcY0QEAALwO4Hs4Ne5MYsa1wgLswIpTJCjpwA6svIyHHK9GYQAi3hgUWz4AAACAenirsPJ9ZjvIrSnl7SXlzqTMagte9XLJcVckRUnZJwEAAACohzfIXOEyXoLERlLH5FnnnAEAAIB6AC9D39hlvAQ7U0TFAAAAgHp4Z+SkHTBMdFIozYv6HtiB5d3L2FMCAABAind6xmZTNHfGJgAAAPDaee9nbAIAAADgYKAeAAAAAAD1AAAAAACoBwAAAABAPQAAAAAA6gEAAAAAUA8AAAAAAFAPAAAAAIB6AAAAAADUAwAAAACgHgAAAAAA9QAAAAAAqAcAAAAAgDokztj89esXagQAAAAARfgnS/9B/+k///kPTujeC5zQDQAA4P3w48cP/wdELgAAAACwH1APAAAAAIB6AAAAAADUAwAAAACgHgAAAAAA9QAAAAAAqAcAAAAAAKgHAAAAAEA9AAAAAADqAQAAAABQDwAAAACAegAAAAAA1AN4K9hjRpq5tT/umlfMZF31qa0pMRObEHcm1b54vSs3+cVmcGcSM7br/LHkFdQtf1ixTZWz6JpFrSLnIusJc2W6b7Lthy1na0r7PYI98Wss/3WkGmT0qz1hJHNb7w6H1eozmsfRK3mPuq1dSweZu8m6sFRpexW8haJHyCnqHn15v4d9YSsH9fDbsZ4wBSTbmWteVX4mp7FGlCsAdyYFn6tr7/btCXuXPy5ShtJnyb9RzXp41hBe+VprjyWJZx+/1FByqLErGv/yR9N845tfyVszrJe9Bid7skevObQX761dGmrVVfct7kepOrQn1Z8pe4ryWrXHTD1DV/qtl+oL+0i6nCd9q9L8d1AP9qSyhV2Z/zt+sy+pb+y8FDujn/oQK9/H/9Lt4HNqt6TSOOc6vN6TQWQubMucMk/bPk7urPyLE4U7Shfdt/yEHVheHjtTrHejfKwBm7V9nLwgI6HJ0aWrpm9s6/WnVtyDFDWJFRGKjGY8MJwpC6IJZePQMR/2ZHbgTOnYfhsgytleE3R9Rb2K0l4T9xGNP2oVicZTUcus3aprNqqbVeabq8w3eTX+V1Q2S26VDKjT9lNckqi6GEbQMh/nh/n9cXVT9eZs6tNDvlKvc/JiEdi6QulDDfCCRhbKWcPqRDSTFv1eZqEeXufcXXg0dvfy/wx3BlG+rgkghJD1UrtZxVayJVu2HhqRtDSxv2m6rfK+kbo1xNHymArfceZk4xxb5qXnzXnxF14tUBglmoYQ4vxcHHWMXI5E4zY2N/xwpY+muXYwFlhPhkgNkHnj0IEPeyixlInhtYIPU+abljjFTZod3Bl9bdl8Z8+vpeNU0d7tmdmjSo9foO8WMe9ibdFVd6YYjpor/fQFCvX6zhRDQ1cofYqkTJk6Ab+ferC/afq1b2pZ+VrXbt+Lj6hBO+A8iu2om7XaHbJx6rmFDxAB7myqEbJ4WLqEdkRn3CHPHbzZ9kXNb2W9r4GlzhnAwtFdfJweL6x7bDcec4jzf1/01R4T5fQsPNfD5Dob8bxNv99jadC4We4T55o7zpFfXmIW/tbmtUWRC2H0OoqU9Fv7fpQJ5qKnUA/rCcNMbN93FDh/KLGcF1CgonGBFbPHCcdRJvAZX5Dq0vZypPeimUG3p8+t5Zsz63OFy0y9ikdTx5kT7VuVd6Db00dCXFFbU+K10F+durjjzDuxeiDtdn+hnPnO8BILu7TmZPHTIXuJgK35WV7otre6ULixTVqyVRipOdloKpDYKK8Iz0zWgZc4N0RijwViW9atZF3X0anJoP5Fu4ah53s3C4W6uD0WtJsvhQ7koGKdRbXmsyeMsIl8qk+SdVYtICh3dCJUffr4s/Nz0aHqr30uLmRuL91Zt0mE8RHP20kPXB0BYX/TSFj/8Zj0co6BNKOsJ0jQitvShiys7xVPzf4tEZmLx9f1hAoZ5F88X/007doJ5wnheFHwFuwxI5BY4u4uLY4ap/yivgKf03vxPWjCt17o/HHNK866DOxUMFQk1UYYaPc8W6p1df4zuQ2u15HDLr1eav12myRGPudtqYdukUc5v+26s6nWF7PBhaDfxh2AV72d9MBFcfGOXZJUkTcXfDJK8gvc79YiKkY9EeDOJL8Yapfww53xKBw7TyU1N+1kx+71Uusbn+J65j+ZYokys8fM9Hyndglpyda1w+1TftfZJDpLcUCdH3q7SysSlAJZVTpU7W8aqbT466V2s4qDGi35ziTKv+ykhKX1REkGicpXWoPGIxfZZmrunqc7NYHJqOREyI+Vbw3i+8kCIZU7LtrLkSj2g/qPveK2/qyCZTwfBUquYopclD9U5Ni3/6WQvrgInzp998iSt2TLW5GoSPyGciAdPXKh8UVzFXs5ImS0tKPWm/8W7OVIND7yVC19Oc3MM6jG3zSP8mD1QL2M9VeFGHehneI/5oXSo1G/K1fMqwJLEcXY+E8m1bgT87lj+jNfh//vq7zQr60vN9o0aVmCiGPCjZmw/pQWYeV7+td2u09PW1OuiP2KUep1IMaTF9vl+zxZmfZL5bs6falUMCkMnPPRx6Jvpc1f4Kyic2Xsr/JC/9DOi1y45hUzPd/Fo29X9a4d7sBZeODYL5rcJCz+kE/8PasktuZ0JBq2QeSvh7sEgtRdq05nrCBWk3Xc7IUJGaknbZ+LdNdOuSLIwW+hVCVnps4546I7m2p96e72efWf1zyo/JWyXOAmp8hbczoSpdu7bA5Z4DlIvBT63dEth1fzGlKR+jlgKNXt/LmKO5tqfV3vV9olvneziKVz+BJ7raNb8KAaf9M8yoPVQzzkuM4m4Y0/U9Ju1W5PnyvcPoEl2lKw7U7efO6NUT5G5q7jsseCPzHiPxpE/lzpdi65BVXzbPuCcthsnU3CnZNzVfMqLMZw1alRjHBESRsUfpifplSUDJjMBi/KUQ8s2uomkfm8uikyf9T8iRGI7and3MgFK99n7thVo1k4P6ww4vkDf7ERL3xzab1lT84UYt7JXfnO3AglhjgTzPosE3r6VevuDa5D2/MubLsTRMr8rk8n6zTpC+zpIyHsHa55rZDLXpmhX084mRi3MtuS78yN0Px6JXtSp5byVGzJIskCU+Ca1wox7+QWK1/rGl+tjItvkQ6K0YmKcWdsNnXDD4xeq+q1vqhScvzQW5HYQcY9SLt3szLiFaqH3KlMkZeMVz3PezI2/LNiqJGMeItkPYpUtnDOOi53JgmPxs4fgVqyZXcqF60VOC3Tmp3/EFmKSnPpmlecQsJiEF6tFz6vGDaulr37l4oyJua+VWUo20yiyRyrgul7JhXDnjBCFI9gB9bqQil2h/Cqt+pE/pgzS3oq8DSUOA/KHQl7CYLsXdJiMXkXalx3Z58VstdMMRVJKek4tKDkrMtd2ULK9YThNd0OqpEdWCXLazPkxGvy3GnFvpmqWFJ2ZUFKUqfavD3mlIswttVVd+VitOAWjUcuUh6L4l5mT86UhR916qqrG02oGlkShb+nVznl2oG8YFxB/dBez3e15UMD6oFtd2plILdky/NWofe7fZ6wjCWp9a6ziQMWj3SgwnUeybP9mSf3QNQxN36mCG2v/e5d+t0C30MmXuhfyv/XxarUXH5ViJEQ6S3ZepKs2ovv3ZnEnFlSMsd+d2lxx10C0MQrKHUg08vWqWpPriavn29YMAxngimCdpPIiuCH3upGK24VRa7molnvni8lVxBktzOh288e+/DwajDfYNJ9YR+BWCNvI/586R4Mrnmr6XZipPFntDUSLfM1QfHtDt+msOZGtInJSTj3WF0on0u/W+B7EJrKF82qkyJ9786mWj8uPz/cGZXxi/Ukt+Pn7DVZpKfzGmG+onofjo0/mvD+fTL6nDDuhXbNnoyJOuTdmeQ7iMhssvxblVvBeE/OQ80hT82PltwiZD0RRoTc0Ap00vP7fBBB58MIyNIhJHwxjjMX27e/42vpqp6X51qo/OLNqo7DnB1Y3qBeMe5zx4y6I/XyYaHbXmrcYgfW6icz/e7Kg+d1sa0pJZLgOEam/jtitMgxVqMz16reAypza9b13lUUkpXvPTnXeP2uxqklWzlP/GLeQ/neyx3wrDfqCh0UPUvZGCyape4Zf3VDdllm1BlDUjrs2eUPe0e55BoJTN6SUf3DKeo8WPfxG20y8UdD/WrlMNGLEY0nK+mcIMoZo6QaX1dd3TCC//eb1c4UuZ902+otGUYI21mUQdm7EZZrlfeb3Xqp9aVd661W/cHD1Rt6xN6lyPFSO+kzd2eSMBKNp2er89c1uoADXh9q4Yi8iLLhh543fK01kje5ssfMEm3lIA6KXFDpY1GbyfpI2YEVOHCoZYq0bo19PkOeyjLjVc9Tu/EFE67CD9EOUa55G+0c9abIWY3d3LapR734YQrpSbKSEV/uQdo1ku3feC294HlFObuAnL5IObH5I5RBE+pl3r1zDluxSXLD8A2d+XLsi79Ixz/ZBlZFaeNvF8ajHJ8/fvz466+/XnmJ7TEjPBr/vlD++Wi8eN7sr1+//vzzT1g6AAAA74FIJ/zx5ooeBnpleD0BAACAFwEndAMAAAAA6gEAAAAAUA8AAAAAgHoAAAAAANQDAAAAAKAeAAAAAACgHgAAAAAA9QAAAAAAqAcAAAAAQD0AAAAAAOoBAAAAAFAPAAAAAAB1SJ+S9ePHD1RKff7xj3+gxgAAALw3Eid0AwAAAABUgsgFAAAAAKAeAAAAAAD1AAAAAIDXw/8DZvncwkeFCE0AAAAASUVORK5CYII=)"
      ],
      "metadata": {
        "id": "eQb6pKoW5-BY"
      }
    },
    {
      "cell_type": "markdown",
      "source": [
        "## 3.3 정규 표현식 텍스트 전처리 예제"
      ],
      "metadata": {
        "id": "hs-9XxFg6lEd"
      }
    },
    {
      "cell_type": "code",
      "source": [
        "text = \"\"\"100 John    PROF\n",
        "101 James   STUD\n",
        "102 Mac   STUD\"\"\""
      ],
      "metadata": {
        "id": "NsGfG1426y19"
      },
      "execution_count": 119,
      "outputs": []
    },
    {
      "cell_type": "markdown",
      "source": [
        "'\\s+'는 공백을 찾아내는 정규표현식입니다. 뒤에 붙는 +는 최소 1개 이상의 패턴을 찾아낸다는 의미입니다. s는 공백을 의미하기 때문에 최소 1개 이상의 공백인 패턴을 찾아냅니다. split은 주어진 정규표현식을 기준으로 분리하므로 결과는 아래와 같습니다."
      ],
      "metadata": {
        "id": "Egbh6auV64HD"
      }
    },
    {
      "cell_type": "code",
      "source": [
        "re.split('\\s+', text)  \n"
      ],
      "metadata": {
        "colab": {
          "base_uri": "https://localhost:8080/"
        },
        "id": "aXcEo-J060FR",
        "outputId": "2230f5c4-4cc2-4d33-98e2-9d0bdedf45ed"
      },
      "execution_count": 120,
      "outputs": [
        {
          "output_type": "execute_result",
          "data": {
            "text/plain": [
              "['100', 'John', 'PROF', '101', 'James', 'STUD', '102', 'Mac', 'STUD']"
            ]
          },
          "metadata": {},
          "execution_count": 120
        }
      ]
    },
    {
      "cell_type": "code",
      "source": [
        "re.findall('\\d+',text)  \n"
      ],
      "metadata": {
        "colab": {
          "base_uri": "https://localhost:8080/"
        },
        "id": "XB6b6YTG6-Jx",
        "outputId": "f034d28a-fee4-4cb9-ef9e-47eebd0faf96"
      },
      "execution_count": 121,
      "outputs": [
        {
          "output_type": "execute_result",
          "data": {
            "text/plain": [
              "['100', '101', '102']"
            ]
          },
          "metadata": {},
          "execution_count": 121
        }
      ]
    },
    {
      "cell_type": "markdown",
      "source": [
        "이번에는 텍스트로부터 대문자인 행의 값만 가져와봅시다. 이 경우 정규 표현식에 대문자를 기준으로 매치시키면 됩니다. 하지만 정규 표현식에 대문자라는 기준만을 넣을 경우에는 문자열을 가져오는 것이 아니라 모든 대문자 각각을 갖고오게 됩니다."
      ],
      "metadata": {
        "id": "yycRgyCZ7CTY"
      }
    },
    {
      "cell_type": "code",
      "source": [
        "re.findall('[A-Z]',text)\n"
      ],
      "metadata": {
        "colab": {
          "base_uri": "https://localhost:8080/"
        },
        "id": "jzcVph106-Lr",
        "outputId": "a21d690c-5aed-496a-c94c-008e1451c15e"
      },
      "execution_count": 122,
      "outputs": [
        {
          "output_type": "execute_result",
          "data": {
            "text/plain": [
              "['J', 'P', 'R', 'O', 'F', 'J', 'S', 'T', 'U', 'D', 'M', 'S', 'T', 'U', 'D']"
            ]
          },
          "metadata": {},
          "execution_count": 122
        }
      ]
    },
    {
      "cell_type": "markdown",
      "source": [
        "대문자가 연속적으로 네 번 등장하는 경우라는 조건을 추가해봅시다.\n",
        "\n"
      ],
      "metadata": {
        "id": "-SA7ntRW7G4r"
      }
    },
    {
      "cell_type": "code",
      "source": [
        "re.findall('[A-Z]{4}',text)  \n"
      ],
      "metadata": {
        "colab": {
          "base_uri": "https://localhost:8080/"
        },
        "id": "JrUiLWs66-Nd",
        "outputId": "cde66c14-04d8-42f6-c6f7-f08c6546a9fd"
      },
      "execution_count": 123,
      "outputs": [
        {
          "output_type": "execute_result",
          "data": {
            "text/plain": [
              "['PROF', 'STUD', 'STUD']"
            ]
          },
          "metadata": {},
          "execution_count": 123
        }
      ]
    },
    {
      "cell_type": "markdown",
      "source": [
        "대문자로 구성된 문자열들을 가져옵니다. 이름의 경우에는 대문자와 소문자가 섞여있는 상황입니다. 이름에 대한 행의 값을 갖고오고 싶다면 처음에 대문자가 등장한 후에 소문자가 여러번 등장하는 경우에 매치하게 합니다."
      ],
      "metadata": {
        "id": "nb9xK_fN7LAd"
      }
    },
    {
      "cell_type": "code",
      "source": [
        "re.findall('[A-Z][a-z]+',text)\n"
      ],
      "metadata": {
        "colab": {
          "base_uri": "https://localhost:8080/"
        },
        "id": "t5SNpLki7MFn",
        "outputId": "4f55620c-4c6b-46f1-e883-87e645502f32"
      },
      "execution_count": 124,
      "outputs": [
        {
          "output_type": "execute_result",
          "data": {
            "text/plain": [
              "['John', 'James', 'Mac']"
            ]
          },
          "metadata": {},
          "execution_count": 124
        }
      ]
    },
    {
      "cell_type": "markdown",
      "source": [
        "## 3.4 정규 표현식을 이용한 토큰화"
      ],
      "metadata": {
        "id": "5FYHBIBi7Q7p"
      }
    },
    {
      "cell_type": "markdown",
      "metadata": {
        "id": "lpl7QOPWGmU6"
      },
      "source": [
        "### RegexpTokenizer"
      ]
    },
    {
      "cell_type": "markdown",
      "source": [
        "NLTK에서는 정규 표현식을 사용해서 단어 토큰화를 수행하는 RegexpTokenizer를 지원합니다. RegexpTokenizer()에서 괄호 안에 하나의 토큰으로 규정하기를 원하는 정규 표현식을 넣어서 토큰화를 수행합니다. \n",
        "\n",
        "tokenizer1에 사용한 \\w+는 문자 또는 숫자가 1개 이상인 경우를 의미합니다."
      ],
      "metadata": {
        "id": "c7bydvdB7eln"
      }
    },
    {
      "cell_type": "markdown",
      "source": [
        "tokenizer2에서는 공백을 기준으로 토큰화하도록 했습니다. **gaps=true는 해당 정규 표현식을 토큰으로 나누기 위한 기준**으로 사용한다는 의미입니다. 만약 gaps=True라는 부분을 기재하지 않는다면, 토큰화의 결과는 공백들만 나오게 됩니다. tokenizer2의 결과는 위의 tokenizer1의 결과와는 달리 아포스트로피(')나 온점을 제외하지 않고 토큰화가 수행된 것을 확인할 수 있습니다."
      ],
      "metadata": {
        "id": "MDMdpe0F7lc8"
      }
    },
    {
      "cell_type": "code",
      "execution_count": 125,
      "metadata": {
        "colab": {
          "base_uri": "https://localhost:8080/"
        },
        "id": "5djqLtwUGioD",
        "outputId": "c8fa71f2-85c6-4309-d469-a3629f65b68e"
      },
      "outputs": [
        {
          "output_type": "stream",
          "name": "stdout",
          "text": [
            "['Don', 't', 'be', 'fooled', 'by', 'the', 'dark', 'sounding', 'name', 'Mr', 'Jone', 's', 'Orphanage', 'is', 'as', 'cheery', 'as', 'cheery', 'goes', 'for', 'a', 'pastry', 'shop']\n",
            "\n",
            "[\"Don't\", 'be', 'fooled', 'by', 'the', 'dark', 'sounding', 'name,', \"Mr.Jone's\", 'Orphanage', 'is', 'as', 'cheery', 'as', 'cheery', 'goes', 'for', 'a', 'pastry', 'shop']\n"
          ]
        }
      ],
      "source": [
        "from nltk.tokenize import RegexpTokenizer\n",
        "text = \"Don't be fooled by the dark sounding name, Mr.Jone's Orphanage is as cheery as cheery goes for a pastry shop\"\n",
        "\n",
        "#특수문자 혹은 공백 기준 단어 및 숫자 분리#\n",
        "tokenizer1 = RegexpTokenizer(\"[\\w]+\")\n",
        "print(tokenizer1.tokenize(text))\n",
        "print()\n",
        "#공백 기준 단어 분리#\n",
        "tokenizer2 = RegexpTokenizer(\"\\s+\",gaps = True) #gap\n",
        "print(tokenizer2.tokenize(text))"
      ]
    },
    {
      "cell_type": "code",
      "execution_count": 126,
      "metadata": {
        "colab": {
          "base_uri": "https://localhost:8080/"
        },
        "id": "DUu45mzHHoDl",
        "outputId": "55b5611a-0e0e-4b49-fb1e-5b9c3b604cb8"
      },
      "outputs": [
        {
          "output_type": "stream",
          "name": "stdout",
          "text": [
            "[' ', ' ', ' ', ' ', ' ', ' ', ' ', ' ', ' ', ' ', ' ', ' ', ' ', ' ', ' ', ' ', ' ', ' ', ' ']\n"
          ]
        }
      ],
      "source": [
        "tokenizer2 = RegexpTokenizer(\"\\s+\")\n",
        "print(tokenizer2.tokenize(text))"
      ]
    },
    {
      "cell_type": "markdown",
      "metadata": {
        "id": "sr3ScsLYIktj"
      },
      "source": [
        "# 4. 정수 인코딩(Integer Encoding)"
      ]
    },
    {
      "cell_type": "markdown",
      "source": [
        "### 4.1 dictionary 사용하기\n"
      ],
      "metadata": {
        "id": "lzZviXtA-3KY"
      }
    },
    {
      "cell_type": "code",
      "execution_count": 127,
      "metadata": {
        "id": "dEBqBZhdI-Jg"
      },
      "outputs": [],
      "source": [
        "from nltk.tokenize import sent_tokenize\n",
        "from nltk.tokenize import word_tokenize\n",
        "from nltk.corpus import stopwords"
      ]
    },
    {
      "cell_type": "code",
      "execution_count": 128,
      "metadata": {
        "id": "Y2jTJOwMIocO"
      },
      "outputs": [],
      "source": [
        "raw_text = \"A barber is a person. a barber is good person. a barber is huge person. he Knew A Secret! The Secret He Kept is huge secret. Huge secret. His barber kept his word. a barber kept his word. His barber kept his secret. But keeping and keeping such a huge secret to himself was driving the barber crazy. the barber went up a huge mountain.\""
      ]
    },
    {
      "cell_type": "code",
      "execution_count": 129,
      "metadata": {
        "id": "_KiVKAUjJZrv",
        "colab": {
          "base_uri": "https://localhost:8080/"
        },
        "outputId": "4539f778-5240-43f7-86bd-2f705f6bd415"
      },
      "outputs": [
        {
          "output_type": "stream",
          "name": "stdout",
          "text": [
            "['A barber is a person.', 'a barber is good person.', 'a barber is huge person.', 'he Knew A Secret!', 'The Secret He Kept is huge secret.', 'Huge secret.', 'His barber kept his word.', 'a barber kept his word.', 'His barber kept his secret.', 'But keeping and keeping such a huge secret to himself was driving the barber crazy.', 'the barber went up a huge mountain.']\n"
          ]
        }
      ],
      "source": [
        "#문장토큰화\n",
        "sentences= sent_tokenize(raw_text)\n",
        "print(sentences)"
      ]
    },
    {
      "cell_type": "markdown",
      "source": [
        "기존의 텍스트 데이터가 문장 단위로 토큰화 된 것을 확인할 수 있다. "
      ],
      "metadata": {
        "id": "LxMnzAaa80WP"
      }
    },
    {
      "cell_type": "markdown",
      "metadata": {
        "id": "LIXDUKpdK4MP"
      },
      "source": [
        "word 코튼화에서 불필요한것은 어떻게 할가?라는 생각을 해야됨"
      ]
    },
    {
      "cell_type": "code",
      "execution_count": 130,
      "metadata": {
        "colab": {
          "base_uri": "https://localhost:8080/"
        },
        "id": "b829PSOkLEt2",
        "outputId": "95071e01-ccb1-4655-8c31-309e700fa10a"
      },
      "outputs": [
        {
          "output_type": "stream",
          "name": "stdout",
          "text": [
            "[]\n",
            "{}\n",
            "[['barber']]\n",
            "{'barber': 1}\n",
            "[['barber']]\n",
            "{'barber': 1}\n",
            "[['barber']]\n",
            "{'barber': 1}\n",
            "[['barber', 'person'], ['barber', 'person']]\n",
            "{'barber': 1, 'person': 1}\n",
            "[['barber', 'person'], ['barber', 'person']]\n",
            "{'barber': 1, 'person': 1}\n",
            "[['barber', 'person'], ['barber', 'person']]\n",
            "{'barber': 1, 'person': 1}\n",
            "[['barber', 'person'], ['barber', 'person'], ['barber']]\n",
            "{'barber': 2, 'person': 1}\n",
            "[['barber', 'person'], ['barber', 'person'], ['barber']]\n",
            "{'barber': 2, 'person': 1}\n",
            "[['barber', 'person'], ['barber', 'person'], ['barber', 'good'], ['barber', 'good']]\n",
            "{'barber': 2, 'person': 1, 'good': 1}\n",
            "[['barber', 'person'], ['barber', 'person'], ['barber', 'good', 'person'], ['barber', 'good', 'person'], ['barber', 'good', 'person']]\n",
            "{'barber': 2, 'person': 2, 'good': 1}\n",
            "[['barber', 'person'], ['barber', 'person'], ['barber', 'good', 'person'], ['barber', 'good', 'person'], ['barber', 'good', 'person']]\n",
            "{'barber': 2, 'person': 2, 'good': 1}\n",
            "[['barber', 'person'], ['barber', 'person'], ['barber', 'good', 'person'], ['barber', 'good', 'person'], ['barber', 'good', 'person']]\n",
            "{'barber': 2, 'person': 2, 'good': 1}\n",
            "[['barber', 'person'], ['barber', 'person'], ['barber', 'good', 'person'], ['barber', 'good', 'person'], ['barber', 'good', 'person'], ['barber']]\n",
            "{'barber': 3, 'person': 2, 'good': 1}\n",
            "[['barber', 'person'], ['barber', 'person'], ['barber', 'good', 'person'], ['barber', 'good', 'person'], ['barber', 'good', 'person'], ['barber']]\n",
            "{'barber': 3, 'person': 2, 'good': 1}\n",
            "[['barber', 'person'], ['barber', 'person'], ['barber', 'good', 'person'], ['barber', 'good', 'person'], ['barber', 'good', 'person'], ['barber', 'huge'], ['barber', 'huge']]\n",
            "{'barber': 3, 'person': 2, 'good': 1, 'huge': 1}\n",
            "[['barber', 'person'], ['barber', 'person'], ['barber', 'good', 'person'], ['barber', 'good', 'person'], ['barber', 'good', 'person'], ['barber', 'huge', 'person'], ['barber', 'huge', 'person'], ['barber', 'huge', 'person']]\n",
            "{'barber': 3, 'person': 3, 'good': 1, 'huge': 1}\n",
            "[['barber', 'person'], ['barber', 'person'], ['barber', 'good', 'person'], ['barber', 'good', 'person'], ['barber', 'good', 'person'], ['barber', 'huge', 'person'], ['barber', 'huge', 'person'], ['barber', 'huge', 'person']]\n",
            "{'barber': 3, 'person': 3, 'good': 1, 'huge': 1}\n",
            "[['barber', 'person'], ['barber', 'person'], ['barber', 'good', 'person'], ['barber', 'good', 'person'], ['barber', 'good', 'person'], ['barber', 'huge', 'person'], ['barber', 'huge', 'person'], ['barber', 'huge', 'person']]\n",
            "{'barber': 3, 'person': 3, 'good': 1, 'huge': 1}\n",
            "[['barber', 'person'], ['barber', 'person'], ['barber', 'good', 'person'], ['barber', 'good', 'person'], ['barber', 'good', 'person'], ['barber', 'huge', 'person'], ['barber', 'huge', 'person'], ['barber', 'huge', 'person'], ['knew']]\n",
            "{'barber': 3, 'person': 3, 'good': 1, 'huge': 1, 'knew': 1}\n",
            "[['barber', 'person'], ['barber', 'person'], ['barber', 'good', 'person'], ['barber', 'good', 'person'], ['barber', 'good', 'person'], ['barber', 'huge', 'person'], ['barber', 'huge', 'person'], ['barber', 'huge', 'person'], ['knew']]\n",
            "{'barber': 3, 'person': 3, 'good': 1, 'huge': 1, 'knew': 1}\n",
            "[['barber', 'person'], ['barber', 'person'], ['barber', 'good', 'person'], ['barber', 'good', 'person'], ['barber', 'good', 'person'], ['barber', 'huge', 'person'], ['barber', 'huge', 'person'], ['barber', 'huge', 'person'], ['knew', 'secret'], ['knew', 'secret']]\n",
            "{'barber': 3, 'person': 3, 'good': 1, 'huge': 1, 'knew': 1, 'secret': 1}\n",
            "[['barber', 'person'], ['barber', 'person'], ['barber', 'good', 'person'], ['barber', 'good', 'person'], ['barber', 'good', 'person'], ['barber', 'huge', 'person'], ['barber', 'huge', 'person'], ['barber', 'huge', 'person'], ['knew', 'secret'], ['knew', 'secret']]\n",
            "{'barber': 3, 'person': 3, 'good': 1, 'huge': 1, 'knew': 1, 'secret': 1}\n",
            "[['barber', 'person'], ['barber', 'person'], ['barber', 'good', 'person'], ['barber', 'good', 'person'], ['barber', 'good', 'person'], ['barber', 'huge', 'person'], ['barber', 'huge', 'person'], ['barber', 'huge', 'person'], ['knew', 'secret'], ['knew', 'secret']]\n",
            "{'barber': 3, 'person': 3, 'good': 1, 'huge': 1, 'knew': 1, 'secret': 1}\n",
            "[['barber', 'person'], ['barber', 'person'], ['barber', 'good', 'person'], ['barber', 'good', 'person'], ['barber', 'good', 'person'], ['barber', 'huge', 'person'], ['barber', 'huge', 'person'], ['barber', 'huge', 'person'], ['knew', 'secret'], ['knew', 'secret'], ['secret']]\n",
            "{'barber': 3, 'person': 3, 'good': 1, 'huge': 1, 'knew': 1, 'secret': 2}\n",
            "[['barber', 'person'], ['barber', 'person'], ['barber', 'good', 'person'], ['barber', 'good', 'person'], ['barber', 'good', 'person'], ['barber', 'huge', 'person'], ['barber', 'huge', 'person'], ['barber', 'huge', 'person'], ['knew', 'secret'], ['knew', 'secret'], ['secret']]\n",
            "{'barber': 3, 'person': 3, 'good': 1, 'huge': 1, 'knew': 1, 'secret': 2}\n",
            "[['barber', 'person'], ['barber', 'person'], ['barber', 'good', 'person'], ['barber', 'good', 'person'], ['barber', 'good', 'person'], ['barber', 'huge', 'person'], ['barber', 'huge', 'person'], ['barber', 'huge', 'person'], ['knew', 'secret'], ['knew', 'secret'], ['secret', 'kept'], ['secret', 'kept']]\n",
            "{'barber': 3, 'person': 3, 'good': 1, 'huge': 1, 'knew': 1, 'secret': 2, 'kept': 1}\n",
            "[['barber', 'person'], ['barber', 'person'], ['barber', 'good', 'person'], ['barber', 'good', 'person'], ['barber', 'good', 'person'], ['barber', 'huge', 'person'], ['barber', 'huge', 'person'], ['barber', 'huge', 'person'], ['knew', 'secret'], ['knew', 'secret'], ['secret', 'kept'], ['secret', 'kept']]\n",
            "{'barber': 3, 'person': 3, 'good': 1, 'huge': 1, 'knew': 1, 'secret': 2, 'kept': 1}\n",
            "[['barber', 'person'], ['barber', 'person'], ['barber', 'good', 'person'], ['barber', 'good', 'person'], ['barber', 'good', 'person'], ['barber', 'huge', 'person'], ['barber', 'huge', 'person'], ['barber', 'huge', 'person'], ['knew', 'secret'], ['knew', 'secret'], ['secret', 'kept', 'huge'], ['secret', 'kept', 'huge'], ['secret', 'kept', 'huge']]\n",
            "{'barber': 3, 'person': 3, 'good': 1, 'huge': 2, 'knew': 1, 'secret': 2, 'kept': 1}\n",
            "[['barber', 'person'], ['barber', 'person'], ['barber', 'good', 'person'], ['barber', 'good', 'person'], ['barber', 'good', 'person'], ['barber', 'huge', 'person'], ['barber', 'huge', 'person'], ['barber', 'huge', 'person'], ['knew', 'secret'], ['knew', 'secret'], ['secret', 'kept', 'huge', 'secret'], ['secret', 'kept', 'huge', 'secret'], ['secret', 'kept', 'huge', 'secret'], ['secret', 'kept', 'huge', 'secret']]\n",
            "{'barber': 3, 'person': 3, 'good': 1, 'huge': 2, 'knew': 1, 'secret': 3, 'kept': 1}\n",
            "[['barber', 'person'], ['barber', 'person'], ['barber', 'good', 'person'], ['barber', 'good', 'person'], ['barber', 'good', 'person'], ['barber', 'huge', 'person'], ['barber', 'huge', 'person'], ['barber', 'huge', 'person'], ['knew', 'secret'], ['knew', 'secret'], ['secret', 'kept', 'huge', 'secret'], ['secret', 'kept', 'huge', 'secret'], ['secret', 'kept', 'huge', 'secret'], ['secret', 'kept', 'huge', 'secret']]\n",
            "{'barber': 3, 'person': 3, 'good': 1, 'huge': 2, 'knew': 1, 'secret': 3, 'kept': 1}\n",
            "[['barber', 'person'], ['barber', 'person'], ['barber', 'good', 'person'], ['barber', 'good', 'person'], ['barber', 'good', 'person'], ['barber', 'huge', 'person'], ['barber', 'huge', 'person'], ['barber', 'huge', 'person'], ['knew', 'secret'], ['knew', 'secret'], ['secret', 'kept', 'huge', 'secret'], ['secret', 'kept', 'huge', 'secret'], ['secret', 'kept', 'huge', 'secret'], ['secret', 'kept', 'huge', 'secret'], ['huge']]\n",
            "{'barber': 3, 'person': 3, 'good': 1, 'huge': 3, 'knew': 1, 'secret': 3, 'kept': 1}\n",
            "[['barber', 'person'], ['barber', 'person'], ['barber', 'good', 'person'], ['barber', 'good', 'person'], ['barber', 'good', 'person'], ['barber', 'huge', 'person'], ['barber', 'huge', 'person'], ['barber', 'huge', 'person'], ['knew', 'secret'], ['knew', 'secret'], ['secret', 'kept', 'huge', 'secret'], ['secret', 'kept', 'huge', 'secret'], ['secret', 'kept', 'huge', 'secret'], ['secret', 'kept', 'huge', 'secret'], ['huge', 'secret'], ['huge', 'secret']]\n",
            "{'barber': 3, 'person': 3, 'good': 1, 'huge': 3, 'knew': 1, 'secret': 4, 'kept': 1}\n",
            "[['barber', 'person'], ['barber', 'person'], ['barber', 'good', 'person'], ['barber', 'good', 'person'], ['barber', 'good', 'person'], ['barber', 'huge', 'person'], ['barber', 'huge', 'person'], ['barber', 'huge', 'person'], ['knew', 'secret'], ['knew', 'secret'], ['secret', 'kept', 'huge', 'secret'], ['secret', 'kept', 'huge', 'secret'], ['secret', 'kept', 'huge', 'secret'], ['secret', 'kept', 'huge', 'secret'], ['huge', 'secret'], ['huge', 'secret']]\n",
            "{'barber': 3, 'person': 3, 'good': 1, 'huge': 3, 'knew': 1, 'secret': 4, 'kept': 1}\n",
            "[['barber', 'person'], ['barber', 'person'], ['barber', 'good', 'person'], ['barber', 'good', 'person'], ['barber', 'good', 'person'], ['barber', 'huge', 'person'], ['barber', 'huge', 'person'], ['barber', 'huge', 'person'], ['knew', 'secret'], ['knew', 'secret'], ['secret', 'kept', 'huge', 'secret'], ['secret', 'kept', 'huge', 'secret'], ['secret', 'kept', 'huge', 'secret'], ['secret', 'kept', 'huge', 'secret'], ['huge', 'secret'], ['huge', 'secret']]\n",
            "{'barber': 3, 'person': 3, 'good': 1, 'huge': 3, 'knew': 1, 'secret': 4, 'kept': 1}\n",
            "[['barber', 'person'], ['barber', 'person'], ['barber', 'good', 'person'], ['barber', 'good', 'person'], ['barber', 'good', 'person'], ['barber', 'huge', 'person'], ['barber', 'huge', 'person'], ['barber', 'huge', 'person'], ['knew', 'secret'], ['knew', 'secret'], ['secret', 'kept', 'huge', 'secret'], ['secret', 'kept', 'huge', 'secret'], ['secret', 'kept', 'huge', 'secret'], ['secret', 'kept', 'huge', 'secret'], ['huge', 'secret'], ['huge', 'secret'], ['barber']]\n",
            "{'barber': 4, 'person': 3, 'good': 1, 'huge': 3, 'knew': 1, 'secret': 4, 'kept': 1}\n",
            "[['barber', 'person'], ['barber', 'person'], ['barber', 'good', 'person'], ['barber', 'good', 'person'], ['barber', 'good', 'person'], ['barber', 'huge', 'person'], ['barber', 'huge', 'person'], ['barber', 'huge', 'person'], ['knew', 'secret'], ['knew', 'secret'], ['secret', 'kept', 'huge', 'secret'], ['secret', 'kept', 'huge', 'secret'], ['secret', 'kept', 'huge', 'secret'], ['secret', 'kept', 'huge', 'secret'], ['huge', 'secret'], ['huge', 'secret'], ['barber', 'kept'], ['barber', 'kept']]\n",
            "{'barber': 4, 'person': 3, 'good': 1, 'huge': 3, 'knew': 1, 'secret': 4, 'kept': 2}\n",
            "[['barber', 'person'], ['barber', 'person'], ['barber', 'good', 'person'], ['barber', 'good', 'person'], ['barber', 'good', 'person'], ['barber', 'huge', 'person'], ['barber', 'huge', 'person'], ['barber', 'huge', 'person'], ['knew', 'secret'], ['knew', 'secret'], ['secret', 'kept', 'huge', 'secret'], ['secret', 'kept', 'huge', 'secret'], ['secret', 'kept', 'huge', 'secret'], ['secret', 'kept', 'huge', 'secret'], ['huge', 'secret'], ['huge', 'secret'], ['barber', 'kept'], ['barber', 'kept']]\n",
            "{'barber': 4, 'person': 3, 'good': 1, 'huge': 3, 'knew': 1, 'secret': 4, 'kept': 2}\n",
            "[['barber', 'person'], ['barber', 'person'], ['barber', 'good', 'person'], ['barber', 'good', 'person'], ['barber', 'good', 'person'], ['barber', 'huge', 'person'], ['barber', 'huge', 'person'], ['barber', 'huge', 'person'], ['knew', 'secret'], ['knew', 'secret'], ['secret', 'kept', 'huge', 'secret'], ['secret', 'kept', 'huge', 'secret'], ['secret', 'kept', 'huge', 'secret'], ['secret', 'kept', 'huge', 'secret'], ['huge', 'secret'], ['huge', 'secret'], ['barber', 'kept', 'word'], ['barber', 'kept', 'word'], ['barber', 'kept', 'word']]\n",
            "{'barber': 4, 'person': 3, 'good': 1, 'huge': 3, 'knew': 1, 'secret': 4, 'kept': 2, 'word': 1}\n",
            "[['barber', 'person'], ['barber', 'person'], ['barber', 'good', 'person'], ['barber', 'good', 'person'], ['barber', 'good', 'person'], ['barber', 'huge', 'person'], ['barber', 'huge', 'person'], ['barber', 'huge', 'person'], ['knew', 'secret'], ['knew', 'secret'], ['secret', 'kept', 'huge', 'secret'], ['secret', 'kept', 'huge', 'secret'], ['secret', 'kept', 'huge', 'secret'], ['secret', 'kept', 'huge', 'secret'], ['huge', 'secret'], ['huge', 'secret'], ['barber', 'kept', 'word'], ['barber', 'kept', 'word'], ['barber', 'kept', 'word']]\n",
            "{'barber': 4, 'person': 3, 'good': 1, 'huge': 3, 'knew': 1, 'secret': 4, 'kept': 2, 'word': 1}\n",
            "[['barber', 'person'], ['barber', 'person'], ['barber', 'good', 'person'], ['barber', 'good', 'person'], ['barber', 'good', 'person'], ['barber', 'huge', 'person'], ['barber', 'huge', 'person'], ['barber', 'huge', 'person'], ['knew', 'secret'], ['knew', 'secret'], ['secret', 'kept', 'huge', 'secret'], ['secret', 'kept', 'huge', 'secret'], ['secret', 'kept', 'huge', 'secret'], ['secret', 'kept', 'huge', 'secret'], ['huge', 'secret'], ['huge', 'secret'], ['barber', 'kept', 'word'], ['barber', 'kept', 'word'], ['barber', 'kept', 'word']]\n",
            "{'barber': 4, 'person': 3, 'good': 1, 'huge': 3, 'knew': 1, 'secret': 4, 'kept': 2, 'word': 1}\n",
            "[['barber', 'person'], ['barber', 'person'], ['barber', 'good', 'person'], ['barber', 'good', 'person'], ['barber', 'good', 'person'], ['barber', 'huge', 'person'], ['barber', 'huge', 'person'], ['barber', 'huge', 'person'], ['knew', 'secret'], ['knew', 'secret'], ['secret', 'kept', 'huge', 'secret'], ['secret', 'kept', 'huge', 'secret'], ['secret', 'kept', 'huge', 'secret'], ['secret', 'kept', 'huge', 'secret'], ['huge', 'secret'], ['huge', 'secret'], ['barber', 'kept', 'word'], ['barber', 'kept', 'word'], ['barber', 'kept', 'word'], ['barber']]\n",
            "{'barber': 5, 'person': 3, 'good': 1, 'huge': 3, 'knew': 1, 'secret': 4, 'kept': 2, 'word': 1}\n",
            "[['barber', 'person'], ['barber', 'person'], ['barber', 'good', 'person'], ['barber', 'good', 'person'], ['barber', 'good', 'person'], ['barber', 'huge', 'person'], ['barber', 'huge', 'person'], ['barber', 'huge', 'person'], ['knew', 'secret'], ['knew', 'secret'], ['secret', 'kept', 'huge', 'secret'], ['secret', 'kept', 'huge', 'secret'], ['secret', 'kept', 'huge', 'secret'], ['secret', 'kept', 'huge', 'secret'], ['huge', 'secret'], ['huge', 'secret'], ['barber', 'kept', 'word'], ['barber', 'kept', 'word'], ['barber', 'kept', 'word'], ['barber', 'kept'], ['barber', 'kept']]\n",
            "{'barber': 5, 'person': 3, 'good': 1, 'huge': 3, 'knew': 1, 'secret': 4, 'kept': 3, 'word': 1}\n",
            "[['barber', 'person'], ['barber', 'person'], ['barber', 'good', 'person'], ['barber', 'good', 'person'], ['barber', 'good', 'person'], ['barber', 'huge', 'person'], ['barber', 'huge', 'person'], ['barber', 'huge', 'person'], ['knew', 'secret'], ['knew', 'secret'], ['secret', 'kept', 'huge', 'secret'], ['secret', 'kept', 'huge', 'secret'], ['secret', 'kept', 'huge', 'secret'], ['secret', 'kept', 'huge', 'secret'], ['huge', 'secret'], ['huge', 'secret'], ['barber', 'kept', 'word'], ['barber', 'kept', 'word'], ['barber', 'kept', 'word'], ['barber', 'kept'], ['barber', 'kept']]\n",
            "{'barber': 5, 'person': 3, 'good': 1, 'huge': 3, 'knew': 1, 'secret': 4, 'kept': 3, 'word': 1}\n",
            "[['barber', 'person'], ['barber', 'person'], ['barber', 'good', 'person'], ['barber', 'good', 'person'], ['barber', 'good', 'person'], ['barber', 'huge', 'person'], ['barber', 'huge', 'person'], ['barber', 'huge', 'person'], ['knew', 'secret'], ['knew', 'secret'], ['secret', 'kept', 'huge', 'secret'], ['secret', 'kept', 'huge', 'secret'], ['secret', 'kept', 'huge', 'secret'], ['secret', 'kept', 'huge', 'secret'], ['huge', 'secret'], ['huge', 'secret'], ['barber', 'kept', 'word'], ['barber', 'kept', 'word'], ['barber', 'kept', 'word'], ['barber', 'kept', 'word'], ['barber', 'kept', 'word'], ['barber', 'kept', 'word']]\n",
            "{'barber': 5, 'person': 3, 'good': 1, 'huge': 3, 'knew': 1, 'secret': 4, 'kept': 3, 'word': 2}\n",
            "[['barber', 'person'], ['barber', 'person'], ['barber', 'good', 'person'], ['barber', 'good', 'person'], ['barber', 'good', 'person'], ['barber', 'huge', 'person'], ['barber', 'huge', 'person'], ['barber', 'huge', 'person'], ['knew', 'secret'], ['knew', 'secret'], ['secret', 'kept', 'huge', 'secret'], ['secret', 'kept', 'huge', 'secret'], ['secret', 'kept', 'huge', 'secret'], ['secret', 'kept', 'huge', 'secret'], ['huge', 'secret'], ['huge', 'secret'], ['barber', 'kept', 'word'], ['barber', 'kept', 'word'], ['barber', 'kept', 'word'], ['barber', 'kept', 'word'], ['barber', 'kept', 'word'], ['barber', 'kept', 'word']]\n",
            "{'barber': 5, 'person': 3, 'good': 1, 'huge': 3, 'knew': 1, 'secret': 4, 'kept': 3, 'word': 2}\n",
            "[['barber', 'person'], ['barber', 'person'], ['barber', 'good', 'person'], ['barber', 'good', 'person'], ['barber', 'good', 'person'], ['barber', 'huge', 'person'], ['barber', 'huge', 'person'], ['barber', 'huge', 'person'], ['knew', 'secret'], ['knew', 'secret'], ['secret', 'kept', 'huge', 'secret'], ['secret', 'kept', 'huge', 'secret'], ['secret', 'kept', 'huge', 'secret'], ['secret', 'kept', 'huge', 'secret'], ['huge', 'secret'], ['huge', 'secret'], ['barber', 'kept', 'word'], ['barber', 'kept', 'word'], ['barber', 'kept', 'word'], ['barber', 'kept', 'word'], ['barber', 'kept', 'word'], ['barber', 'kept', 'word']]\n",
            "{'barber': 5, 'person': 3, 'good': 1, 'huge': 3, 'knew': 1, 'secret': 4, 'kept': 3, 'word': 2}\n",
            "[['barber', 'person'], ['barber', 'person'], ['barber', 'good', 'person'], ['barber', 'good', 'person'], ['barber', 'good', 'person'], ['barber', 'huge', 'person'], ['barber', 'huge', 'person'], ['barber', 'huge', 'person'], ['knew', 'secret'], ['knew', 'secret'], ['secret', 'kept', 'huge', 'secret'], ['secret', 'kept', 'huge', 'secret'], ['secret', 'kept', 'huge', 'secret'], ['secret', 'kept', 'huge', 'secret'], ['huge', 'secret'], ['huge', 'secret'], ['barber', 'kept', 'word'], ['barber', 'kept', 'word'], ['barber', 'kept', 'word'], ['barber', 'kept', 'word'], ['barber', 'kept', 'word'], ['barber', 'kept', 'word'], ['barber']]\n",
            "{'barber': 6, 'person': 3, 'good': 1, 'huge': 3, 'knew': 1, 'secret': 4, 'kept': 3, 'word': 2}\n",
            "[['barber', 'person'], ['barber', 'person'], ['barber', 'good', 'person'], ['barber', 'good', 'person'], ['barber', 'good', 'person'], ['barber', 'huge', 'person'], ['barber', 'huge', 'person'], ['barber', 'huge', 'person'], ['knew', 'secret'], ['knew', 'secret'], ['secret', 'kept', 'huge', 'secret'], ['secret', 'kept', 'huge', 'secret'], ['secret', 'kept', 'huge', 'secret'], ['secret', 'kept', 'huge', 'secret'], ['huge', 'secret'], ['huge', 'secret'], ['barber', 'kept', 'word'], ['barber', 'kept', 'word'], ['barber', 'kept', 'word'], ['barber', 'kept', 'word'], ['barber', 'kept', 'word'], ['barber', 'kept', 'word'], ['barber', 'kept'], ['barber', 'kept']]\n",
            "{'barber': 6, 'person': 3, 'good': 1, 'huge': 3, 'knew': 1, 'secret': 4, 'kept': 4, 'word': 2}\n",
            "[['barber', 'person'], ['barber', 'person'], ['barber', 'good', 'person'], ['barber', 'good', 'person'], ['barber', 'good', 'person'], ['barber', 'huge', 'person'], ['barber', 'huge', 'person'], ['barber', 'huge', 'person'], ['knew', 'secret'], ['knew', 'secret'], ['secret', 'kept', 'huge', 'secret'], ['secret', 'kept', 'huge', 'secret'], ['secret', 'kept', 'huge', 'secret'], ['secret', 'kept', 'huge', 'secret'], ['huge', 'secret'], ['huge', 'secret'], ['barber', 'kept', 'word'], ['barber', 'kept', 'word'], ['barber', 'kept', 'word'], ['barber', 'kept', 'word'], ['barber', 'kept', 'word'], ['barber', 'kept', 'word'], ['barber', 'kept'], ['barber', 'kept']]\n",
            "{'barber': 6, 'person': 3, 'good': 1, 'huge': 3, 'knew': 1, 'secret': 4, 'kept': 4, 'word': 2}\n",
            "[['barber', 'person'], ['barber', 'person'], ['barber', 'good', 'person'], ['barber', 'good', 'person'], ['barber', 'good', 'person'], ['barber', 'huge', 'person'], ['barber', 'huge', 'person'], ['barber', 'huge', 'person'], ['knew', 'secret'], ['knew', 'secret'], ['secret', 'kept', 'huge', 'secret'], ['secret', 'kept', 'huge', 'secret'], ['secret', 'kept', 'huge', 'secret'], ['secret', 'kept', 'huge', 'secret'], ['huge', 'secret'], ['huge', 'secret'], ['barber', 'kept', 'word'], ['barber', 'kept', 'word'], ['barber', 'kept', 'word'], ['barber', 'kept', 'word'], ['barber', 'kept', 'word'], ['barber', 'kept', 'word'], ['barber', 'kept', 'secret'], ['barber', 'kept', 'secret'], ['barber', 'kept', 'secret']]\n",
            "{'barber': 6, 'person': 3, 'good': 1, 'huge': 3, 'knew': 1, 'secret': 5, 'kept': 4, 'word': 2}\n",
            "[['barber', 'person'], ['barber', 'person'], ['barber', 'good', 'person'], ['barber', 'good', 'person'], ['barber', 'good', 'person'], ['barber', 'huge', 'person'], ['barber', 'huge', 'person'], ['barber', 'huge', 'person'], ['knew', 'secret'], ['knew', 'secret'], ['secret', 'kept', 'huge', 'secret'], ['secret', 'kept', 'huge', 'secret'], ['secret', 'kept', 'huge', 'secret'], ['secret', 'kept', 'huge', 'secret'], ['huge', 'secret'], ['huge', 'secret'], ['barber', 'kept', 'word'], ['barber', 'kept', 'word'], ['barber', 'kept', 'word'], ['barber', 'kept', 'word'], ['barber', 'kept', 'word'], ['barber', 'kept', 'word'], ['barber', 'kept', 'secret'], ['barber', 'kept', 'secret'], ['barber', 'kept', 'secret']]\n",
            "{'barber': 6, 'person': 3, 'good': 1, 'huge': 3, 'knew': 1, 'secret': 5, 'kept': 4, 'word': 2}\n",
            "[['barber', 'person'], ['barber', 'person'], ['barber', 'good', 'person'], ['barber', 'good', 'person'], ['barber', 'good', 'person'], ['barber', 'huge', 'person'], ['barber', 'huge', 'person'], ['barber', 'huge', 'person'], ['knew', 'secret'], ['knew', 'secret'], ['secret', 'kept', 'huge', 'secret'], ['secret', 'kept', 'huge', 'secret'], ['secret', 'kept', 'huge', 'secret'], ['secret', 'kept', 'huge', 'secret'], ['huge', 'secret'], ['huge', 'secret'], ['barber', 'kept', 'word'], ['barber', 'kept', 'word'], ['barber', 'kept', 'word'], ['barber', 'kept', 'word'], ['barber', 'kept', 'word'], ['barber', 'kept', 'word'], ['barber', 'kept', 'secret'], ['barber', 'kept', 'secret'], ['barber', 'kept', 'secret']]\n",
            "{'barber': 6, 'person': 3, 'good': 1, 'huge': 3, 'knew': 1, 'secret': 5, 'kept': 4, 'word': 2}\n",
            "[['barber', 'person'], ['barber', 'person'], ['barber', 'good', 'person'], ['barber', 'good', 'person'], ['barber', 'good', 'person'], ['barber', 'huge', 'person'], ['barber', 'huge', 'person'], ['barber', 'huge', 'person'], ['knew', 'secret'], ['knew', 'secret'], ['secret', 'kept', 'huge', 'secret'], ['secret', 'kept', 'huge', 'secret'], ['secret', 'kept', 'huge', 'secret'], ['secret', 'kept', 'huge', 'secret'], ['huge', 'secret'], ['huge', 'secret'], ['barber', 'kept', 'word'], ['barber', 'kept', 'word'], ['barber', 'kept', 'word'], ['barber', 'kept', 'word'], ['barber', 'kept', 'word'], ['barber', 'kept', 'word'], ['barber', 'kept', 'secret'], ['barber', 'kept', 'secret'], ['barber', 'kept', 'secret'], ['keeping']]\n",
            "{'barber': 6, 'person': 3, 'good': 1, 'huge': 3, 'knew': 1, 'secret': 5, 'kept': 4, 'word': 2, 'keeping': 1}\n",
            "[['barber', 'person'], ['barber', 'person'], ['barber', 'good', 'person'], ['barber', 'good', 'person'], ['barber', 'good', 'person'], ['barber', 'huge', 'person'], ['barber', 'huge', 'person'], ['barber', 'huge', 'person'], ['knew', 'secret'], ['knew', 'secret'], ['secret', 'kept', 'huge', 'secret'], ['secret', 'kept', 'huge', 'secret'], ['secret', 'kept', 'huge', 'secret'], ['secret', 'kept', 'huge', 'secret'], ['huge', 'secret'], ['huge', 'secret'], ['barber', 'kept', 'word'], ['barber', 'kept', 'word'], ['barber', 'kept', 'word'], ['barber', 'kept', 'word'], ['barber', 'kept', 'word'], ['barber', 'kept', 'word'], ['barber', 'kept', 'secret'], ['barber', 'kept', 'secret'], ['barber', 'kept', 'secret'], ['keeping']]\n",
            "{'barber': 6, 'person': 3, 'good': 1, 'huge': 3, 'knew': 1, 'secret': 5, 'kept': 4, 'word': 2, 'keeping': 1}\n",
            "[['barber', 'person'], ['barber', 'person'], ['barber', 'good', 'person'], ['barber', 'good', 'person'], ['barber', 'good', 'person'], ['barber', 'huge', 'person'], ['barber', 'huge', 'person'], ['barber', 'huge', 'person'], ['knew', 'secret'], ['knew', 'secret'], ['secret', 'kept', 'huge', 'secret'], ['secret', 'kept', 'huge', 'secret'], ['secret', 'kept', 'huge', 'secret'], ['secret', 'kept', 'huge', 'secret'], ['huge', 'secret'], ['huge', 'secret'], ['barber', 'kept', 'word'], ['barber', 'kept', 'word'], ['barber', 'kept', 'word'], ['barber', 'kept', 'word'], ['barber', 'kept', 'word'], ['barber', 'kept', 'word'], ['barber', 'kept', 'secret'], ['barber', 'kept', 'secret'], ['barber', 'kept', 'secret'], ['keeping', 'keeping'], ['keeping', 'keeping']]\n",
            "{'barber': 6, 'person': 3, 'good': 1, 'huge': 3, 'knew': 1, 'secret': 5, 'kept': 4, 'word': 2, 'keeping': 2}\n",
            "[['barber', 'person'], ['barber', 'person'], ['barber', 'good', 'person'], ['barber', 'good', 'person'], ['barber', 'good', 'person'], ['barber', 'huge', 'person'], ['barber', 'huge', 'person'], ['barber', 'huge', 'person'], ['knew', 'secret'], ['knew', 'secret'], ['secret', 'kept', 'huge', 'secret'], ['secret', 'kept', 'huge', 'secret'], ['secret', 'kept', 'huge', 'secret'], ['secret', 'kept', 'huge', 'secret'], ['huge', 'secret'], ['huge', 'secret'], ['barber', 'kept', 'word'], ['barber', 'kept', 'word'], ['barber', 'kept', 'word'], ['barber', 'kept', 'word'], ['barber', 'kept', 'word'], ['barber', 'kept', 'word'], ['barber', 'kept', 'secret'], ['barber', 'kept', 'secret'], ['barber', 'kept', 'secret'], ['keeping', 'keeping'], ['keeping', 'keeping']]\n",
            "{'barber': 6, 'person': 3, 'good': 1, 'huge': 3, 'knew': 1, 'secret': 5, 'kept': 4, 'word': 2, 'keeping': 2}\n",
            "[['barber', 'person'], ['barber', 'person'], ['barber', 'good', 'person'], ['barber', 'good', 'person'], ['barber', 'good', 'person'], ['barber', 'huge', 'person'], ['barber', 'huge', 'person'], ['barber', 'huge', 'person'], ['knew', 'secret'], ['knew', 'secret'], ['secret', 'kept', 'huge', 'secret'], ['secret', 'kept', 'huge', 'secret'], ['secret', 'kept', 'huge', 'secret'], ['secret', 'kept', 'huge', 'secret'], ['huge', 'secret'], ['huge', 'secret'], ['barber', 'kept', 'word'], ['barber', 'kept', 'word'], ['barber', 'kept', 'word'], ['barber', 'kept', 'word'], ['barber', 'kept', 'word'], ['barber', 'kept', 'word'], ['barber', 'kept', 'secret'], ['barber', 'kept', 'secret'], ['barber', 'kept', 'secret'], ['keeping', 'keeping'], ['keeping', 'keeping']]\n",
            "{'barber': 6, 'person': 3, 'good': 1, 'huge': 3, 'knew': 1, 'secret': 5, 'kept': 4, 'word': 2, 'keeping': 2}\n",
            "[['barber', 'person'], ['barber', 'person'], ['barber', 'good', 'person'], ['barber', 'good', 'person'], ['barber', 'good', 'person'], ['barber', 'huge', 'person'], ['barber', 'huge', 'person'], ['barber', 'huge', 'person'], ['knew', 'secret'], ['knew', 'secret'], ['secret', 'kept', 'huge', 'secret'], ['secret', 'kept', 'huge', 'secret'], ['secret', 'kept', 'huge', 'secret'], ['secret', 'kept', 'huge', 'secret'], ['huge', 'secret'], ['huge', 'secret'], ['barber', 'kept', 'word'], ['barber', 'kept', 'word'], ['barber', 'kept', 'word'], ['barber', 'kept', 'word'], ['barber', 'kept', 'word'], ['barber', 'kept', 'word'], ['barber', 'kept', 'secret'], ['barber', 'kept', 'secret'], ['barber', 'kept', 'secret'], ['keeping', 'keeping', 'huge'], ['keeping', 'keeping', 'huge'], ['keeping', 'keeping', 'huge']]\n",
            "{'barber': 6, 'person': 3, 'good': 1, 'huge': 4, 'knew': 1, 'secret': 5, 'kept': 4, 'word': 2, 'keeping': 2}\n",
            "[['barber', 'person'], ['barber', 'person'], ['barber', 'good', 'person'], ['barber', 'good', 'person'], ['barber', 'good', 'person'], ['barber', 'huge', 'person'], ['barber', 'huge', 'person'], ['barber', 'huge', 'person'], ['knew', 'secret'], ['knew', 'secret'], ['secret', 'kept', 'huge', 'secret'], ['secret', 'kept', 'huge', 'secret'], ['secret', 'kept', 'huge', 'secret'], ['secret', 'kept', 'huge', 'secret'], ['huge', 'secret'], ['huge', 'secret'], ['barber', 'kept', 'word'], ['barber', 'kept', 'word'], ['barber', 'kept', 'word'], ['barber', 'kept', 'word'], ['barber', 'kept', 'word'], ['barber', 'kept', 'word'], ['barber', 'kept', 'secret'], ['barber', 'kept', 'secret'], ['barber', 'kept', 'secret'], ['keeping', 'keeping', 'huge', 'secret'], ['keeping', 'keeping', 'huge', 'secret'], ['keeping', 'keeping', 'huge', 'secret'], ['keeping', 'keeping', 'huge', 'secret']]\n",
            "{'barber': 6, 'person': 3, 'good': 1, 'huge': 4, 'knew': 1, 'secret': 6, 'kept': 4, 'word': 2, 'keeping': 2}\n",
            "[['barber', 'person'], ['barber', 'person'], ['barber', 'good', 'person'], ['barber', 'good', 'person'], ['barber', 'good', 'person'], ['barber', 'huge', 'person'], ['barber', 'huge', 'person'], ['barber', 'huge', 'person'], ['knew', 'secret'], ['knew', 'secret'], ['secret', 'kept', 'huge', 'secret'], ['secret', 'kept', 'huge', 'secret'], ['secret', 'kept', 'huge', 'secret'], ['secret', 'kept', 'huge', 'secret'], ['huge', 'secret'], ['huge', 'secret'], ['barber', 'kept', 'word'], ['barber', 'kept', 'word'], ['barber', 'kept', 'word'], ['barber', 'kept', 'word'], ['barber', 'kept', 'word'], ['barber', 'kept', 'word'], ['barber', 'kept', 'secret'], ['barber', 'kept', 'secret'], ['barber', 'kept', 'secret'], ['keeping', 'keeping', 'huge', 'secret'], ['keeping', 'keeping', 'huge', 'secret'], ['keeping', 'keeping', 'huge', 'secret'], ['keeping', 'keeping', 'huge', 'secret']]\n",
            "{'barber': 6, 'person': 3, 'good': 1, 'huge': 4, 'knew': 1, 'secret': 6, 'kept': 4, 'word': 2, 'keeping': 2}\n",
            "[['barber', 'person'], ['barber', 'person'], ['barber', 'good', 'person'], ['barber', 'good', 'person'], ['barber', 'good', 'person'], ['barber', 'huge', 'person'], ['barber', 'huge', 'person'], ['barber', 'huge', 'person'], ['knew', 'secret'], ['knew', 'secret'], ['secret', 'kept', 'huge', 'secret'], ['secret', 'kept', 'huge', 'secret'], ['secret', 'kept', 'huge', 'secret'], ['secret', 'kept', 'huge', 'secret'], ['huge', 'secret'], ['huge', 'secret'], ['barber', 'kept', 'word'], ['barber', 'kept', 'word'], ['barber', 'kept', 'word'], ['barber', 'kept', 'word'], ['barber', 'kept', 'word'], ['barber', 'kept', 'word'], ['barber', 'kept', 'secret'], ['barber', 'kept', 'secret'], ['barber', 'kept', 'secret'], ['keeping', 'keeping', 'huge', 'secret'], ['keeping', 'keeping', 'huge', 'secret'], ['keeping', 'keeping', 'huge', 'secret'], ['keeping', 'keeping', 'huge', 'secret']]\n",
            "{'barber': 6, 'person': 3, 'good': 1, 'huge': 4, 'knew': 1, 'secret': 6, 'kept': 4, 'word': 2, 'keeping': 2}\n",
            "[['barber', 'person'], ['barber', 'person'], ['barber', 'good', 'person'], ['barber', 'good', 'person'], ['barber', 'good', 'person'], ['barber', 'huge', 'person'], ['barber', 'huge', 'person'], ['barber', 'huge', 'person'], ['knew', 'secret'], ['knew', 'secret'], ['secret', 'kept', 'huge', 'secret'], ['secret', 'kept', 'huge', 'secret'], ['secret', 'kept', 'huge', 'secret'], ['secret', 'kept', 'huge', 'secret'], ['huge', 'secret'], ['huge', 'secret'], ['barber', 'kept', 'word'], ['barber', 'kept', 'word'], ['barber', 'kept', 'word'], ['barber', 'kept', 'word'], ['barber', 'kept', 'word'], ['barber', 'kept', 'word'], ['barber', 'kept', 'secret'], ['barber', 'kept', 'secret'], ['barber', 'kept', 'secret'], ['keeping', 'keeping', 'huge', 'secret'], ['keeping', 'keeping', 'huge', 'secret'], ['keeping', 'keeping', 'huge', 'secret'], ['keeping', 'keeping', 'huge', 'secret']]\n",
            "{'barber': 6, 'person': 3, 'good': 1, 'huge': 4, 'knew': 1, 'secret': 6, 'kept': 4, 'word': 2, 'keeping': 2}\n",
            "[['barber', 'person'], ['barber', 'person'], ['barber', 'good', 'person'], ['barber', 'good', 'person'], ['barber', 'good', 'person'], ['barber', 'huge', 'person'], ['barber', 'huge', 'person'], ['barber', 'huge', 'person'], ['knew', 'secret'], ['knew', 'secret'], ['secret', 'kept', 'huge', 'secret'], ['secret', 'kept', 'huge', 'secret'], ['secret', 'kept', 'huge', 'secret'], ['secret', 'kept', 'huge', 'secret'], ['huge', 'secret'], ['huge', 'secret'], ['barber', 'kept', 'word'], ['barber', 'kept', 'word'], ['barber', 'kept', 'word'], ['barber', 'kept', 'word'], ['barber', 'kept', 'word'], ['barber', 'kept', 'word'], ['barber', 'kept', 'secret'], ['barber', 'kept', 'secret'], ['barber', 'kept', 'secret'], ['keeping', 'keeping', 'huge', 'secret', 'driving'], ['keeping', 'keeping', 'huge', 'secret', 'driving'], ['keeping', 'keeping', 'huge', 'secret', 'driving'], ['keeping', 'keeping', 'huge', 'secret', 'driving'], ['keeping', 'keeping', 'huge', 'secret', 'driving']]\n",
            "{'barber': 6, 'person': 3, 'good': 1, 'huge': 4, 'knew': 1, 'secret': 6, 'kept': 4, 'word': 2, 'keeping': 2, 'driving': 1}\n",
            "[['barber', 'person'], ['barber', 'person'], ['barber', 'good', 'person'], ['barber', 'good', 'person'], ['barber', 'good', 'person'], ['barber', 'huge', 'person'], ['barber', 'huge', 'person'], ['barber', 'huge', 'person'], ['knew', 'secret'], ['knew', 'secret'], ['secret', 'kept', 'huge', 'secret'], ['secret', 'kept', 'huge', 'secret'], ['secret', 'kept', 'huge', 'secret'], ['secret', 'kept', 'huge', 'secret'], ['huge', 'secret'], ['huge', 'secret'], ['barber', 'kept', 'word'], ['barber', 'kept', 'word'], ['barber', 'kept', 'word'], ['barber', 'kept', 'word'], ['barber', 'kept', 'word'], ['barber', 'kept', 'word'], ['barber', 'kept', 'secret'], ['barber', 'kept', 'secret'], ['barber', 'kept', 'secret'], ['keeping', 'keeping', 'huge', 'secret', 'driving'], ['keeping', 'keeping', 'huge', 'secret', 'driving'], ['keeping', 'keeping', 'huge', 'secret', 'driving'], ['keeping', 'keeping', 'huge', 'secret', 'driving'], ['keeping', 'keeping', 'huge', 'secret', 'driving']]\n",
            "{'barber': 6, 'person': 3, 'good': 1, 'huge': 4, 'knew': 1, 'secret': 6, 'kept': 4, 'word': 2, 'keeping': 2, 'driving': 1}\n",
            "[['barber', 'person'], ['barber', 'person'], ['barber', 'good', 'person'], ['barber', 'good', 'person'], ['barber', 'good', 'person'], ['barber', 'huge', 'person'], ['barber', 'huge', 'person'], ['barber', 'huge', 'person'], ['knew', 'secret'], ['knew', 'secret'], ['secret', 'kept', 'huge', 'secret'], ['secret', 'kept', 'huge', 'secret'], ['secret', 'kept', 'huge', 'secret'], ['secret', 'kept', 'huge', 'secret'], ['huge', 'secret'], ['huge', 'secret'], ['barber', 'kept', 'word'], ['barber', 'kept', 'word'], ['barber', 'kept', 'word'], ['barber', 'kept', 'word'], ['barber', 'kept', 'word'], ['barber', 'kept', 'word'], ['barber', 'kept', 'secret'], ['barber', 'kept', 'secret'], ['barber', 'kept', 'secret'], ['keeping', 'keeping', 'huge', 'secret', 'driving', 'barber'], ['keeping', 'keeping', 'huge', 'secret', 'driving', 'barber'], ['keeping', 'keeping', 'huge', 'secret', 'driving', 'barber'], ['keeping', 'keeping', 'huge', 'secret', 'driving', 'barber'], ['keeping', 'keeping', 'huge', 'secret', 'driving', 'barber'], ['keeping', 'keeping', 'huge', 'secret', 'driving', 'barber']]\n",
            "{'barber': 7, 'person': 3, 'good': 1, 'huge': 4, 'knew': 1, 'secret': 6, 'kept': 4, 'word': 2, 'keeping': 2, 'driving': 1}\n",
            "[['barber', 'person'], ['barber', 'person'], ['barber', 'good', 'person'], ['barber', 'good', 'person'], ['barber', 'good', 'person'], ['barber', 'huge', 'person'], ['barber', 'huge', 'person'], ['barber', 'huge', 'person'], ['knew', 'secret'], ['knew', 'secret'], ['secret', 'kept', 'huge', 'secret'], ['secret', 'kept', 'huge', 'secret'], ['secret', 'kept', 'huge', 'secret'], ['secret', 'kept', 'huge', 'secret'], ['huge', 'secret'], ['huge', 'secret'], ['barber', 'kept', 'word'], ['barber', 'kept', 'word'], ['barber', 'kept', 'word'], ['barber', 'kept', 'word'], ['barber', 'kept', 'word'], ['barber', 'kept', 'word'], ['barber', 'kept', 'secret'], ['barber', 'kept', 'secret'], ['barber', 'kept', 'secret'], ['keeping', 'keeping', 'huge', 'secret', 'driving', 'barber', 'crazy'], ['keeping', 'keeping', 'huge', 'secret', 'driving', 'barber', 'crazy'], ['keeping', 'keeping', 'huge', 'secret', 'driving', 'barber', 'crazy'], ['keeping', 'keeping', 'huge', 'secret', 'driving', 'barber', 'crazy'], ['keeping', 'keeping', 'huge', 'secret', 'driving', 'barber', 'crazy'], ['keeping', 'keeping', 'huge', 'secret', 'driving', 'barber', 'crazy'], ['keeping', 'keeping', 'huge', 'secret', 'driving', 'barber', 'crazy']]\n",
            "{'barber': 7, 'person': 3, 'good': 1, 'huge': 4, 'knew': 1, 'secret': 6, 'kept': 4, 'word': 2, 'keeping': 2, 'driving': 1, 'crazy': 1}\n",
            "[['barber', 'person'], ['barber', 'person'], ['barber', 'good', 'person'], ['barber', 'good', 'person'], ['barber', 'good', 'person'], ['barber', 'huge', 'person'], ['barber', 'huge', 'person'], ['barber', 'huge', 'person'], ['knew', 'secret'], ['knew', 'secret'], ['secret', 'kept', 'huge', 'secret'], ['secret', 'kept', 'huge', 'secret'], ['secret', 'kept', 'huge', 'secret'], ['secret', 'kept', 'huge', 'secret'], ['huge', 'secret'], ['huge', 'secret'], ['barber', 'kept', 'word'], ['barber', 'kept', 'word'], ['barber', 'kept', 'word'], ['barber', 'kept', 'word'], ['barber', 'kept', 'word'], ['barber', 'kept', 'word'], ['barber', 'kept', 'secret'], ['barber', 'kept', 'secret'], ['barber', 'kept', 'secret'], ['keeping', 'keeping', 'huge', 'secret', 'driving', 'barber', 'crazy'], ['keeping', 'keeping', 'huge', 'secret', 'driving', 'barber', 'crazy'], ['keeping', 'keeping', 'huge', 'secret', 'driving', 'barber', 'crazy'], ['keeping', 'keeping', 'huge', 'secret', 'driving', 'barber', 'crazy'], ['keeping', 'keeping', 'huge', 'secret', 'driving', 'barber', 'crazy'], ['keeping', 'keeping', 'huge', 'secret', 'driving', 'barber', 'crazy'], ['keeping', 'keeping', 'huge', 'secret', 'driving', 'barber', 'crazy']]\n",
            "{'barber': 7, 'person': 3, 'good': 1, 'huge': 4, 'knew': 1, 'secret': 6, 'kept': 4, 'word': 2, 'keeping': 2, 'driving': 1, 'crazy': 1}\n",
            "[['barber', 'person'], ['barber', 'person'], ['barber', 'good', 'person'], ['barber', 'good', 'person'], ['barber', 'good', 'person'], ['barber', 'huge', 'person'], ['barber', 'huge', 'person'], ['barber', 'huge', 'person'], ['knew', 'secret'], ['knew', 'secret'], ['secret', 'kept', 'huge', 'secret'], ['secret', 'kept', 'huge', 'secret'], ['secret', 'kept', 'huge', 'secret'], ['secret', 'kept', 'huge', 'secret'], ['huge', 'secret'], ['huge', 'secret'], ['barber', 'kept', 'word'], ['barber', 'kept', 'word'], ['barber', 'kept', 'word'], ['barber', 'kept', 'word'], ['barber', 'kept', 'word'], ['barber', 'kept', 'word'], ['barber', 'kept', 'secret'], ['barber', 'kept', 'secret'], ['barber', 'kept', 'secret'], ['keeping', 'keeping', 'huge', 'secret', 'driving', 'barber', 'crazy'], ['keeping', 'keeping', 'huge', 'secret', 'driving', 'barber', 'crazy'], ['keeping', 'keeping', 'huge', 'secret', 'driving', 'barber', 'crazy'], ['keeping', 'keeping', 'huge', 'secret', 'driving', 'barber', 'crazy'], ['keeping', 'keeping', 'huge', 'secret', 'driving', 'barber', 'crazy'], ['keeping', 'keeping', 'huge', 'secret', 'driving', 'barber', 'crazy'], ['keeping', 'keeping', 'huge', 'secret', 'driving', 'barber', 'crazy']]\n",
            "{'barber': 7, 'person': 3, 'good': 1, 'huge': 4, 'knew': 1, 'secret': 6, 'kept': 4, 'word': 2, 'keeping': 2, 'driving': 1, 'crazy': 1}\n",
            "[['barber', 'person'], ['barber', 'person'], ['barber', 'good', 'person'], ['barber', 'good', 'person'], ['barber', 'good', 'person'], ['barber', 'huge', 'person'], ['barber', 'huge', 'person'], ['barber', 'huge', 'person'], ['knew', 'secret'], ['knew', 'secret'], ['secret', 'kept', 'huge', 'secret'], ['secret', 'kept', 'huge', 'secret'], ['secret', 'kept', 'huge', 'secret'], ['secret', 'kept', 'huge', 'secret'], ['huge', 'secret'], ['huge', 'secret'], ['barber', 'kept', 'word'], ['barber', 'kept', 'word'], ['barber', 'kept', 'word'], ['barber', 'kept', 'word'], ['barber', 'kept', 'word'], ['barber', 'kept', 'word'], ['barber', 'kept', 'secret'], ['barber', 'kept', 'secret'], ['barber', 'kept', 'secret'], ['keeping', 'keeping', 'huge', 'secret', 'driving', 'barber', 'crazy'], ['keeping', 'keeping', 'huge', 'secret', 'driving', 'barber', 'crazy'], ['keeping', 'keeping', 'huge', 'secret', 'driving', 'barber', 'crazy'], ['keeping', 'keeping', 'huge', 'secret', 'driving', 'barber', 'crazy'], ['keeping', 'keeping', 'huge', 'secret', 'driving', 'barber', 'crazy'], ['keeping', 'keeping', 'huge', 'secret', 'driving', 'barber', 'crazy'], ['keeping', 'keeping', 'huge', 'secret', 'driving', 'barber', 'crazy'], ['barber']]\n",
            "{'barber': 8, 'person': 3, 'good': 1, 'huge': 4, 'knew': 1, 'secret': 6, 'kept': 4, 'word': 2, 'keeping': 2, 'driving': 1, 'crazy': 1}\n",
            "[['barber', 'person'], ['barber', 'person'], ['barber', 'good', 'person'], ['barber', 'good', 'person'], ['barber', 'good', 'person'], ['barber', 'huge', 'person'], ['barber', 'huge', 'person'], ['barber', 'huge', 'person'], ['knew', 'secret'], ['knew', 'secret'], ['secret', 'kept', 'huge', 'secret'], ['secret', 'kept', 'huge', 'secret'], ['secret', 'kept', 'huge', 'secret'], ['secret', 'kept', 'huge', 'secret'], ['huge', 'secret'], ['huge', 'secret'], ['barber', 'kept', 'word'], ['barber', 'kept', 'word'], ['barber', 'kept', 'word'], ['barber', 'kept', 'word'], ['barber', 'kept', 'word'], ['barber', 'kept', 'word'], ['barber', 'kept', 'secret'], ['barber', 'kept', 'secret'], ['barber', 'kept', 'secret'], ['keeping', 'keeping', 'huge', 'secret', 'driving', 'barber', 'crazy'], ['keeping', 'keeping', 'huge', 'secret', 'driving', 'barber', 'crazy'], ['keeping', 'keeping', 'huge', 'secret', 'driving', 'barber', 'crazy'], ['keeping', 'keeping', 'huge', 'secret', 'driving', 'barber', 'crazy'], ['keeping', 'keeping', 'huge', 'secret', 'driving', 'barber', 'crazy'], ['keeping', 'keeping', 'huge', 'secret', 'driving', 'barber', 'crazy'], ['keeping', 'keeping', 'huge', 'secret', 'driving', 'barber', 'crazy'], ['barber', 'went'], ['barber', 'went']]\n",
            "{'barber': 8, 'person': 3, 'good': 1, 'huge': 4, 'knew': 1, 'secret': 6, 'kept': 4, 'word': 2, 'keeping': 2, 'driving': 1, 'crazy': 1, 'went': 1}\n",
            "[['barber', 'person'], ['barber', 'person'], ['barber', 'good', 'person'], ['barber', 'good', 'person'], ['barber', 'good', 'person'], ['barber', 'huge', 'person'], ['barber', 'huge', 'person'], ['barber', 'huge', 'person'], ['knew', 'secret'], ['knew', 'secret'], ['secret', 'kept', 'huge', 'secret'], ['secret', 'kept', 'huge', 'secret'], ['secret', 'kept', 'huge', 'secret'], ['secret', 'kept', 'huge', 'secret'], ['huge', 'secret'], ['huge', 'secret'], ['barber', 'kept', 'word'], ['barber', 'kept', 'word'], ['barber', 'kept', 'word'], ['barber', 'kept', 'word'], ['barber', 'kept', 'word'], ['barber', 'kept', 'word'], ['barber', 'kept', 'secret'], ['barber', 'kept', 'secret'], ['barber', 'kept', 'secret'], ['keeping', 'keeping', 'huge', 'secret', 'driving', 'barber', 'crazy'], ['keeping', 'keeping', 'huge', 'secret', 'driving', 'barber', 'crazy'], ['keeping', 'keeping', 'huge', 'secret', 'driving', 'barber', 'crazy'], ['keeping', 'keeping', 'huge', 'secret', 'driving', 'barber', 'crazy'], ['keeping', 'keeping', 'huge', 'secret', 'driving', 'barber', 'crazy'], ['keeping', 'keeping', 'huge', 'secret', 'driving', 'barber', 'crazy'], ['keeping', 'keeping', 'huge', 'secret', 'driving', 'barber', 'crazy'], ['barber', 'went'], ['barber', 'went']]\n",
            "{'barber': 8, 'person': 3, 'good': 1, 'huge': 4, 'knew': 1, 'secret': 6, 'kept': 4, 'word': 2, 'keeping': 2, 'driving': 1, 'crazy': 1, 'went': 1}\n",
            "[['barber', 'person'], ['barber', 'person'], ['barber', 'good', 'person'], ['barber', 'good', 'person'], ['barber', 'good', 'person'], ['barber', 'huge', 'person'], ['barber', 'huge', 'person'], ['barber', 'huge', 'person'], ['knew', 'secret'], ['knew', 'secret'], ['secret', 'kept', 'huge', 'secret'], ['secret', 'kept', 'huge', 'secret'], ['secret', 'kept', 'huge', 'secret'], ['secret', 'kept', 'huge', 'secret'], ['huge', 'secret'], ['huge', 'secret'], ['barber', 'kept', 'word'], ['barber', 'kept', 'word'], ['barber', 'kept', 'word'], ['barber', 'kept', 'word'], ['barber', 'kept', 'word'], ['barber', 'kept', 'word'], ['barber', 'kept', 'secret'], ['barber', 'kept', 'secret'], ['barber', 'kept', 'secret'], ['keeping', 'keeping', 'huge', 'secret', 'driving', 'barber', 'crazy'], ['keeping', 'keeping', 'huge', 'secret', 'driving', 'barber', 'crazy'], ['keeping', 'keeping', 'huge', 'secret', 'driving', 'barber', 'crazy'], ['keeping', 'keeping', 'huge', 'secret', 'driving', 'barber', 'crazy'], ['keeping', 'keeping', 'huge', 'secret', 'driving', 'barber', 'crazy'], ['keeping', 'keeping', 'huge', 'secret', 'driving', 'barber', 'crazy'], ['keeping', 'keeping', 'huge', 'secret', 'driving', 'barber', 'crazy'], ['barber', 'went'], ['barber', 'went']]\n",
            "{'barber': 8, 'person': 3, 'good': 1, 'huge': 4, 'knew': 1, 'secret': 6, 'kept': 4, 'word': 2, 'keeping': 2, 'driving': 1, 'crazy': 1, 'went': 1}\n",
            "[['barber', 'person'], ['barber', 'person'], ['barber', 'good', 'person'], ['barber', 'good', 'person'], ['barber', 'good', 'person'], ['barber', 'huge', 'person'], ['barber', 'huge', 'person'], ['barber', 'huge', 'person'], ['knew', 'secret'], ['knew', 'secret'], ['secret', 'kept', 'huge', 'secret'], ['secret', 'kept', 'huge', 'secret'], ['secret', 'kept', 'huge', 'secret'], ['secret', 'kept', 'huge', 'secret'], ['huge', 'secret'], ['huge', 'secret'], ['barber', 'kept', 'word'], ['barber', 'kept', 'word'], ['barber', 'kept', 'word'], ['barber', 'kept', 'word'], ['barber', 'kept', 'word'], ['barber', 'kept', 'word'], ['barber', 'kept', 'secret'], ['barber', 'kept', 'secret'], ['barber', 'kept', 'secret'], ['keeping', 'keeping', 'huge', 'secret', 'driving', 'barber', 'crazy'], ['keeping', 'keeping', 'huge', 'secret', 'driving', 'barber', 'crazy'], ['keeping', 'keeping', 'huge', 'secret', 'driving', 'barber', 'crazy'], ['keeping', 'keeping', 'huge', 'secret', 'driving', 'barber', 'crazy'], ['keeping', 'keeping', 'huge', 'secret', 'driving', 'barber', 'crazy'], ['keeping', 'keeping', 'huge', 'secret', 'driving', 'barber', 'crazy'], ['keeping', 'keeping', 'huge', 'secret', 'driving', 'barber', 'crazy'], ['barber', 'went', 'huge'], ['barber', 'went', 'huge'], ['barber', 'went', 'huge']]\n",
            "{'barber': 8, 'person': 3, 'good': 1, 'huge': 5, 'knew': 1, 'secret': 6, 'kept': 4, 'word': 2, 'keeping': 2, 'driving': 1, 'crazy': 1, 'went': 1}\n",
            "[['barber', 'person'], ['barber', 'person'], ['barber', 'good', 'person'], ['barber', 'good', 'person'], ['barber', 'good', 'person'], ['barber', 'huge', 'person'], ['barber', 'huge', 'person'], ['barber', 'huge', 'person'], ['knew', 'secret'], ['knew', 'secret'], ['secret', 'kept', 'huge', 'secret'], ['secret', 'kept', 'huge', 'secret'], ['secret', 'kept', 'huge', 'secret'], ['secret', 'kept', 'huge', 'secret'], ['huge', 'secret'], ['huge', 'secret'], ['barber', 'kept', 'word'], ['barber', 'kept', 'word'], ['barber', 'kept', 'word'], ['barber', 'kept', 'word'], ['barber', 'kept', 'word'], ['barber', 'kept', 'word'], ['barber', 'kept', 'secret'], ['barber', 'kept', 'secret'], ['barber', 'kept', 'secret'], ['keeping', 'keeping', 'huge', 'secret', 'driving', 'barber', 'crazy'], ['keeping', 'keeping', 'huge', 'secret', 'driving', 'barber', 'crazy'], ['keeping', 'keeping', 'huge', 'secret', 'driving', 'barber', 'crazy'], ['keeping', 'keeping', 'huge', 'secret', 'driving', 'barber', 'crazy'], ['keeping', 'keeping', 'huge', 'secret', 'driving', 'barber', 'crazy'], ['keeping', 'keeping', 'huge', 'secret', 'driving', 'barber', 'crazy'], ['keeping', 'keeping', 'huge', 'secret', 'driving', 'barber', 'crazy'], ['barber', 'went', 'huge', 'mountain'], ['barber', 'went', 'huge', 'mountain'], ['barber', 'went', 'huge', 'mountain'], ['barber', 'went', 'huge', 'mountain']]\n",
            "{'barber': 8, 'person': 3, 'good': 1, 'huge': 5, 'knew': 1, 'secret': 6, 'kept': 4, 'word': 2, 'keeping': 2, 'driving': 1, 'crazy': 1, 'went': 1, 'mountain': 1}\n",
            "[['barber', 'person'], ['barber', 'person'], ['barber', 'good', 'person'], ['barber', 'good', 'person'], ['barber', 'good', 'person'], ['barber', 'huge', 'person'], ['barber', 'huge', 'person'], ['barber', 'huge', 'person'], ['knew', 'secret'], ['knew', 'secret'], ['secret', 'kept', 'huge', 'secret'], ['secret', 'kept', 'huge', 'secret'], ['secret', 'kept', 'huge', 'secret'], ['secret', 'kept', 'huge', 'secret'], ['huge', 'secret'], ['huge', 'secret'], ['barber', 'kept', 'word'], ['barber', 'kept', 'word'], ['barber', 'kept', 'word'], ['barber', 'kept', 'word'], ['barber', 'kept', 'word'], ['barber', 'kept', 'word'], ['barber', 'kept', 'secret'], ['barber', 'kept', 'secret'], ['barber', 'kept', 'secret'], ['keeping', 'keeping', 'huge', 'secret', 'driving', 'barber', 'crazy'], ['keeping', 'keeping', 'huge', 'secret', 'driving', 'barber', 'crazy'], ['keeping', 'keeping', 'huge', 'secret', 'driving', 'barber', 'crazy'], ['keeping', 'keeping', 'huge', 'secret', 'driving', 'barber', 'crazy'], ['keeping', 'keeping', 'huge', 'secret', 'driving', 'barber', 'crazy'], ['keeping', 'keeping', 'huge', 'secret', 'driving', 'barber', 'crazy'], ['keeping', 'keeping', 'huge', 'secret', 'driving', 'barber', 'crazy'], ['barber', 'went', 'huge', 'mountain'], ['barber', 'went', 'huge', 'mountain'], ['barber', 'went', 'huge', 'mountain'], ['barber', 'went', 'huge', 'mountain']]\n",
            "{'barber': 8, 'person': 3, 'good': 1, 'huge': 5, 'knew': 1, 'secret': 6, 'kept': 4, 'word': 2, 'keeping': 2, 'driving': 1, 'crazy': 1, 'went': 1, 'mountain': 1}\n"
          ]
        }
      ],
      "source": [
        "vocab = {}\n",
        "preprocessed_sentences = []\n",
        "stop_words = set(stopwords.words('english'))\n",
        "for sentence in sentences:\n",
        "  #단어토큰화\n",
        "  tokenized_sentence = word_tokenize(sentence)\n",
        "  result = []\n",
        "\n",
        "  for word in tokenized_sentence:\n",
        "    word = word.lower() #대문자를 소문자화하여 단어의 개수를 줄인다.\n",
        "    if word not in stop_words:  # 단어 토큰화 된 결과에 대해서 불용어를 제거한다.\n",
        "      if len(word) > 2:   # 단어 길이가 2이하인 경우에 대하여 추가로 단어를 제거한다.\n",
        "        result.append(word)\n",
        "        if word not in vocab:\n",
        "            vocab[word] = 0\n",
        "        vocab[word] += 1\n",
        "        preprocessed_sentences.append(result)\n",
        "    print(preprocessed_sentences)\n",
        "    print(vocab)\n",
        "   # print(vocab['barber'])"
      ]
    },
    {
      "cell_type": "code",
      "source": [
        "# 현재 vocab에는 각 단어에 대한 빈도수가 기록되어져 있습니다. vocab을 출력\n",
        "print('단어 집합 :',vocab)"
      ],
      "metadata": {
        "colab": {
          "base_uri": "https://localhost:8080/"
        },
        "id": "_wtkfwjR9G2X",
        "outputId": "98e316bf-bdcc-47d9-e9cf-b5d9aee6ca64"
      },
      "execution_count": 131,
      "outputs": [
        {
          "output_type": "stream",
          "name": "stdout",
          "text": [
            "단어 집합 : {'barber': 8, 'person': 3, 'good': 1, 'huge': 5, 'knew': 1, 'secret': 6, 'kept': 4, 'word': 2, 'keeping': 2, 'driving': 1, 'crazy': 1, 'went': 1, 'mountain': 1}\n"
          ]
        }
      ]
    },
    {
      "cell_type": "code",
      "source": [
        "# 'barber'라는 단어의 빈도수 출력\n",
        "print(vocab[\"barber\"])"
      ],
      "metadata": {
        "colab": {
          "base_uri": "https://localhost:8080/"
        },
        "id": "LK3YjSFF9Yu_",
        "outputId": "9e21528e-298c-41e4-d815-53cccf3da061"
      },
      "execution_count": 132,
      "outputs": [
        {
          "output_type": "stream",
          "name": "stdout",
          "text": [
            "8\n"
          ]
        }
      ]
    },
    {
      "cell_type": "code",
      "source": [
        "vocab_sorted = sorted(vocab.items(), key = lambda x:x[1], reverse = True)\n",
        "print(vocab_sorted)\n"
      ],
      "metadata": {
        "colab": {
          "base_uri": "https://localhost:8080/"
        },
        "id": "d7ePyoUS9agw",
        "outputId": "d69e5ee8-5a40-4115-a812-5161b270d249"
      },
      "execution_count": 133,
      "outputs": [
        {
          "output_type": "stream",
          "name": "stdout",
          "text": [
            "[('barber', 8), ('secret', 6), ('huge', 5), ('kept', 4), ('person', 3), ('word', 2), ('keeping', 2), ('good', 1), ('knew', 1), ('driving', 1), ('crazy', 1), ('went', 1), ('mountain', 1)]\n"
          ]
        }
      ]
    },
    {
      "cell_type": "markdown",
      "source": [
        "높은 빈도수를 가진 단어일수록 낮은 정수를 부여합니다. 정수는 1부터 부여합니다.\n",
        "\n"
      ],
      "metadata": {
        "id": "iM9rHK0Z9p_O"
      }
    },
    {
      "cell_type": "code",
      "source": [
        "word_to_index = {}\n",
        "i = 0\n",
        "for (word, frequency) in vocab_sorted :\n",
        "    if frequency > 1 : # 빈도수가 작은 단어는 제외.\n",
        "        i = i + 1\n",
        "        word_to_index[word] = i\n",
        "\n",
        "print(word_to_index)"
      ],
      "metadata": {
        "colab": {
          "base_uri": "https://localhost:8080/"
        },
        "id": "Zz7Bu3C89pWH",
        "outputId": "0ce003c9-9769-4b09-c067-66a5e33042ac"
      },
      "execution_count": 134,
      "outputs": [
        {
          "output_type": "stream",
          "name": "stdout",
          "text": [
            "{'barber': 1, 'secret': 2, 'huge': 3, 'kept': 4, 'person': 5, 'word': 6, 'keeping': 7}\n"
          ]
        }
      ]
    },
    {
      "cell_type": "markdown",
      "source": [
        "1의 인덱스를 가진 단어가 가장 빈도수가 높은 단어가 됩니다. 그리고 이러한 작업을 수행하는 동시에 각 단어의 빈도수를 알 경우에만 할 수 있는 전처리인 빈도수가 적은 단어를 제외시키는 작업을 수행했습니다. 등장 빈도가 낮은 단어는 자연어 처리에서 의미를 가지지 않을 가능성이 높기 때문입니다. 여기서는 빈도수가 1인 단어들은 전부 제외시켰습니다.\n",
        "\n",
        "자연어 처리를 하다보면, 텍스트 데이터에 있는 단어를 모두 사용하기 보다는 빈도수가 가장 높은 n개의 단어만 사용하고 싶은 경우가 많습니다. 위 단어들은 빈도수가 높은 순으로 낮은 정수가 부여되어져 있으므로 빈도수 상위 n개의 단어만 사용하고 싶다고하면 vocab에서 정수값이 1부터 n까지인 단어들만 사용하면 됩니다. 여기서는 상위 5개 단어만 사용한다고 가정하겠습니다."
      ],
      "metadata": {
        "id": "mk8rgMDP9_wd"
      }
    },
    {
      "cell_type": "code",
      "source": [
        "vocab_size = 5\n",
        "\n",
        "# 인덱스가 5 초과인 단어 제거\n",
        "words_frequency = [word for word, index in word_to_index.items() if index >= vocab_size + 1]\n",
        "\n",
        "# 해당 단어에 대한 인덱스 정보를 삭제\n",
        "for w in words_frequency:\n",
        "    del word_to_index[w]\n",
        "print(word_to_index)"
      ],
      "metadata": {
        "colab": {
          "base_uri": "https://localhost:8080/"
        },
        "id": "wArFZ3tx-F1r",
        "outputId": "cd07cd0d-95bc-473d-bf67-cc4ab14f71dd"
      },
      "execution_count": 135,
      "outputs": [
        {
          "output_type": "stream",
          "name": "stdout",
          "text": [
            "{'barber': 1, 'secret': 2, 'huge': 3, 'kept': 4, 'person': 5}\n"
          ]
        }
      ]
    },
    {
      "cell_type": "markdown",
      "source": [
        "word_to_index에는 빈도수가 높은 상위 5개의 단어만 저장되었습니다. word_to_index를 사용하여 단어 토큰화가 된 상태로 저장된 sentences에 있는 각 단어를 정수로 바꾸는 작업을 하겠습니다.\n",
        "\n",
        "\n",
        "예를 들어 sentences에서 첫번째 문장은 ['barber', 'person']이었는데, 이 문장에 대해서는 [1, 5]로 인코딩합니다. 그런데 두번째 문장인 ['barber', 'good', 'person']에는 더 이상 word_to_index에는 존재하지 않는 단어인 'good'이라는 단어가 있습니다.\n",
        "\n",
        "\n",
        "이처럼 단어 집합에 존재하지 않는 단어들이 생기는 상황을 Out-Of-Vocabulary(단어 집합에 없는 단어) 문제라고 합니다. 약자로 'OOV 문제'라고도 합니다. word_to_index에 'OOV'란 단어를 새롭게 추가하고, 단어 집합에 없는 단어들은 'OOV'의 인덱스로 인코딩하겠습니다."
      ],
      "metadata": {
        "id": "1EfKirfs-Q2v"
      }
    },
    {
      "cell_type": "code",
      "source": [
        "word_to_index['OOV'] = len(word_to_index) + 1\n",
        "print(word_to_index)"
      ],
      "metadata": {
        "colab": {
          "base_uri": "https://localhost:8080/"
        },
        "id": "saBdcazJ-K9E",
        "outputId": "37ecb4e7-ae80-4db9-c50e-7cbd34faf592"
      },
      "execution_count": 136,
      "outputs": [
        {
          "output_type": "stream",
          "name": "stdout",
          "text": [
            "{'barber': 1, 'secret': 2, 'huge': 3, 'kept': 4, 'person': 5, 'OOV': 6}\n"
          ]
        }
      ]
    },
    {
      "cell_type": "markdown",
      "source": [
        "이제 word_to_index를 사용하여 sentences의 모든 단어들을 맵핑되는 정수로 인코딩하겠습니다.\n",
        "\n"
      ],
      "metadata": {
        "id": "xeUw1B-a-erj"
      }
    },
    {
      "cell_type": "code",
      "execution_count": 137,
      "metadata": {
        "colab": {
          "base_uri": "https://localhost:8080/"
        },
        "id": "P6c8E_jb-h8O",
        "outputId": "71d48b67-e2d1-4188-926c-d0692e650b07"
      },
      "outputs": [
        {
          "output_type": "stream",
          "name": "stdout",
          "text": [
            "[1, 5]\n",
            "[1, 5]\n",
            "[1, 6, 5]\n",
            "[1, 6, 5]\n",
            "[1, 6, 5]\n",
            "[1, 3, 5]\n",
            "[1, 3, 5]\n",
            "[1, 3, 5]\n",
            "[6, 2]\n",
            "[6, 2]\n",
            "[2, 4, 3, 2]\n",
            "[2, 4, 3, 2]\n",
            "[2, 4, 3, 2]\n",
            "[2, 4, 3, 2]\n",
            "[3, 2]\n",
            "[3, 2]\n",
            "[1, 4, 6]\n",
            "[1, 4, 6]\n",
            "[1, 4, 6]\n",
            "[1, 4, 6]\n",
            "[1, 4, 6]\n",
            "[1, 4, 6]\n",
            "[1, 4, 2]\n",
            "[1, 4, 2]\n",
            "[1, 4, 2]\n",
            "[6, 6, 3, 2, 6, 1, 6]\n",
            "[6, 6, 3, 2, 6, 1, 6]\n",
            "[6, 6, 3, 2, 6, 1, 6]\n",
            "[6, 6, 3, 2, 6, 1, 6]\n",
            "[6, 6, 3, 2, 6, 1, 6]\n",
            "[6, 6, 3, 2, 6, 1, 6]\n",
            "[6, 6, 3, 2, 6, 1, 6]\n",
            "[1, 6, 3, 6]\n",
            "[1, 6, 3, 6]\n",
            "[1, 6, 3, 6]\n",
            "[1, 6, 3, 6]\n",
            "[[1, 5], [1, 5], [1, 6, 5], [1, 6, 5], [1, 6, 5], [1, 3, 5], [1, 3, 5], [1, 3, 5], [6, 2], [6, 2], [2, 4, 3, 2], [2, 4, 3, 2], [2, 4, 3, 2], [2, 4, 3, 2], [3, 2], [3, 2], [1, 4, 6], [1, 4, 6], [1, 4, 6], [1, 4, 6], [1, 4, 6], [1, 4, 6], [1, 4, 2], [1, 4, 2], [1, 4, 2], [6, 6, 3, 2, 6, 1, 6], [6, 6, 3, 2, 6, 1, 6], [6, 6, 3, 2, 6, 1, 6], [6, 6, 3, 2, 6, 1, 6], [6, 6, 3, 2, 6, 1, 6], [6, 6, 3, 2, 6, 1, 6], [6, 6, 3, 2, 6, 1, 6], [1, 6, 3, 6], [1, 6, 3, 6], [1, 6, 3, 6], [1, 6, 3, 6]]\n"
          ]
        }
      ],
      "source": [
        "encoded_sentences = []\n",
        "for sentence in preprocessed_sentences:\n",
        "  encoded_sentence = []\n",
        "  for word in sentence:\n",
        "    try:\n",
        "      encoded_sentence.append(word_to_index[word])\n",
        "    except KeyError:\n",
        "      encoded_sentence.append(word_to_index['OOV'])\n",
        "  encoded_sentences.append(encoded_sentence)\n",
        "  print(encoded_sentence)\n",
        "print(encoded_sentences)"
      ]
    },
    {
      "cell_type": "markdown",
      "source": [
        " 그런데 이보다는 좀 더 쉽게 하기 위해서 Counter, FreqDist, enumerate를 사용하거나, 케라스 토크나이저를 사용하는 것을 권장"
      ],
      "metadata": {
        "id": "_c_nNyWa-i48"
      }
    },
    {
      "cell_type": "markdown",
      "source": [
        "## 4.2 Counter 사용하기\n"
      ],
      "metadata": {
        "id": "n-95ifJU-Dmr"
      }
    },
    {
      "cell_type": "code",
      "source": [
        "from collections import Counter\n",
        "print('preprocessed_sentences : ',preprocessed_sentences)\n",
        "\n"
      ],
      "metadata": {
        "colab": {
          "base_uri": "https://localhost:8080/"
        },
        "id": "18VMlXmM-KXw",
        "outputId": "1a65dadc-e05c-47ff-8423-de4a6aa83311"
      },
      "execution_count": 138,
      "outputs": [
        {
          "output_type": "stream",
          "name": "stdout",
          "text": [
            "preprocessed_sentences :  [['barber', 'person'], ['barber', 'person'], ['barber', 'good', 'person'], ['barber', 'good', 'person'], ['barber', 'good', 'person'], ['barber', 'huge', 'person'], ['barber', 'huge', 'person'], ['barber', 'huge', 'person'], ['knew', 'secret'], ['knew', 'secret'], ['secret', 'kept', 'huge', 'secret'], ['secret', 'kept', 'huge', 'secret'], ['secret', 'kept', 'huge', 'secret'], ['secret', 'kept', 'huge', 'secret'], ['huge', 'secret'], ['huge', 'secret'], ['barber', 'kept', 'word'], ['barber', 'kept', 'word'], ['barber', 'kept', 'word'], ['barber', 'kept', 'word'], ['barber', 'kept', 'word'], ['barber', 'kept', 'word'], ['barber', 'kept', 'secret'], ['barber', 'kept', 'secret'], ['barber', 'kept', 'secret'], ['keeping', 'keeping', 'huge', 'secret', 'driving', 'barber', 'crazy'], ['keeping', 'keeping', 'huge', 'secret', 'driving', 'barber', 'crazy'], ['keeping', 'keeping', 'huge', 'secret', 'driving', 'barber', 'crazy'], ['keeping', 'keeping', 'huge', 'secret', 'driving', 'barber', 'crazy'], ['keeping', 'keeping', 'huge', 'secret', 'driving', 'barber', 'crazy'], ['keeping', 'keeping', 'huge', 'secret', 'driving', 'barber', 'crazy'], ['keeping', 'keeping', 'huge', 'secret', 'driving', 'barber', 'crazy'], ['barber', 'went', 'huge', 'mountain'], ['barber', 'went', 'huge', 'mountain'], ['barber', 'went', 'huge', 'mountain'], ['barber', 'went', 'huge', 'mountain']]\n"
          ]
        }
      ]
    },
    {
      "cell_type": "code",
      "source": [
        "all_word_list = sum(preprocessed_sentences,[]) # [] 는 넣어야됨 각각의 리스트별로 조건을 맞춰서 합쳐야함\n",
        "print('sum_preprocessed_sentences :',all_word_list)"
      ],
      "metadata": {
        "colab": {
          "base_uri": "https://localhost:8080/"
        },
        "id": "_PoYi9lopYLd",
        "outputId": "220ed16a-e2d2-40fc-fe11-1e829a4ac059"
      },
      "execution_count": 139,
      "outputs": [
        {
          "output_type": "stream",
          "name": "stdout",
          "text": [
            "sum_preprocessed_sentences : ['barber', 'person', 'barber', 'person', 'barber', 'good', 'person', 'barber', 'good', 'person', 'barber', 'good', 'person', 'barber', 'huge', 'person', 'barber', 'huge', 'person', 'barber', 'huge', 'person', 'knew', 'secret', 'knew', 'secret', 'secret', 'kept', 'huge', 'secret', 'secret', 'kept', 'huge', 'secret', 'secret', 'kept', 'huge', 'secret', 'secret', 'kept', 'huge', 'secret', 'huge', 'secret', 'huge', 'secret', 'barber', 'kept', 'word', 'barber', 'kept', 'word', 'barber', 'kept', 'word', 'barber', 'kept', 'word', 'barber', 'kept', 'word', 'barber', 'kept', 'word', 'barber', 'kept', 'secret', 'barber', 'kept', 'secret', 'barber', 'kept', 'secret', 'keeping', 'keeping', 'huge', 'secret', 'driving', 'barber', 'crazy', 'keeping', 'keeping', 'huge', 'secret', 'driving', 'barber', 'crazy', 'keeping', 'keeping', 'huge', 'secret', 'driving', 'barber', 'crazy', 'keeping', 'keeping', 'huge', 'secret', 'driving', 'barber', 'crazy', 'keeping', 'keeping', 'huge', 'secret', 'driving', 'barber', 'crazy', 'keeping', 'keeping', 'huge', 'secret', 'driving', 'barber', 'crazy', 'keeping', 'keeping', 'huge', 'secret', 'driving', 'barber', 'crazy', 'barber', 'went', 'huge', 'mountain', 'barber', 'went', 'huge', 'mountain', 'barber', 'went', 'huge', 'mountain', 'barber', 'went', 'huge', 'mountain']\n"
          ]
        }
      ]
    },
    {
      "cell_type": "code",
      "source": [
        "vocab = Counter(all_word_list)\n",
        "vocab "
      ],
      "metadata": {
        "id": "QNNQ7UMl_lAR",
        "colab": {
          "base_uri": "https://localhost:8080/"
        },
        "outputId": "5f9f2b58-1839-4ec8-dcc7-aadb0e62e7c9"
      },
      "execution_count": 140,
      "outputs": [
        {
          "output_type": "execute_result",
          "data": {
            "text/plain": [
              "Counter({'barber': 28,\n",
              "         'crazy': 7,\n",
              "         'driving': 7,\n",
              "         'good': 3,\n",
              "         'huge': 20,\n",
              "         'keeping': 14,\n",
              "         'kept': 13,\n",
              "         'knew': 2,\n",
              "         'mountain': 4,\n",
              "         'person': 8,\n",
              "         'secret': 22,\n",
              "         'went': 4,\n",
              "         'word': 6})"
            ]
          },
          "metadata": {},
          "execution_count": 140
        }
      ]
    },
    {
      "cell_type": "code",
      "source": [
        "vocab = Counter(all_word_list)\n",
        "vocab['barber']"
      ],
      "metadata": {
        "id": "CNoKBKZR_7Kz",
        "colab": {
          "base_uri": "https://localhost:8080/"
        },
        "outputId": "662e523d-6f50-4ec9-a2f5-c69796ef3af6"
      },
      "execution_count": 141,
      "outputs": [
        {
          "output_type": "execute_result",
          "data": {
            "text/plain": [
              "28"
            ]
          },
          "metadata": {},
          "execution_count": 141
        }
      ]
    },
    {
      "cell_type": "code",
      "source": [
        "#most_common 가장 흔한 \n",
        "vocab_size = 5  #상위 5개 \n",
        "vocab = vocab.most_common(vocab_size)\n",
        "vocab  #결과값은 튜플로된 가장 많이 나온 상위 5개 단어"
      ],
      "metadata": {
        "id": "5-ODOTmFAe6K",
        "colab": {
          "base_uri": "https://localhost:8080/"
        },
        "outputId": "0822238d-24e1-4d93-b953-e344f02063a4"
      },
      "execution_count": 142,
      "outputs": [
        {
          "output_type": "execute_result",
          "data": {
            "text/plain": [
              "[('barber', 28), ('secret', 22), ('huge', 20), ('keeping', 14), ('kept', 13)]"
            ]
          },
          "metadata": {},
          "execution_count": 142
        }
      ]
    },
    {
      "cell_type": "code",
      "source": [
        "#높은 빈도수 순 인덱스 부여\n",
        "word_to_index={}\n",
        "i=0\n",
        "for(word,frequency) in vocab:\n",
        "  i += 1\n",
        "  word_to_index[word]=i\n",
        "print(word_to_index)"
      ],
      "metadata": {
        "id": "Tr9mUHuHAyyM",
        "colab": {
          "base_uri": "https://localhost:8080/"
        },
        "outputId": "1dbcd78e-6adc-4560-f558-6d9ef5214c90"
      },
      "execution_count": 143,
      "outputs": [
        {
          "output_type": "stream",
          "name": "stdout",
          "text": [
            "{'barber': 1, 'secret': 2, 'huge': 3, 'keeping': 4, 'kept': 5}\n"
          ]
        }
      ]
    },
    {
      "cell_type": "markdown",
      "source": [
        "## 4.3 FreqDist 활용 텍스트 레이블 인코딩"
      ],
      "metadata": {
        "id": "CWNGQiwgGmRr"
      }
    },
    {
      "cell_type": "markdown",
      "source": [
        "NLTK에서는 빈도수 계산 도구인 FreqDist()를 지원"
      ],
      "metadata": {
        "id": "0so4wAcOp4TS"
      }
    },
    {
      "cell_type": "code",
      "source": [
        "from nltk import FreqDist\n",
        "import numpy as np\n"
      ],
      "metadata": {
        "id": "uHS4aTBdB03C"
      },
      "execution_count": 144,
      "outputs": []
    },
    {
      "cell_type": "code",
      "source": [
        "vocab = FreqDist(np.hstack(preprocessed_sentences))\n",
        "vocab_size=5\n",
        "vocab = vocab.most_common(vocab_size)\n",
        "print(vocab)"
      ],
      "metadata": {
        "id": "3w-7zuLnDE0s",
        "colab": {
          "base_uri": "https://localhost:8080/"
        },
        "outputId": "8c17ab86-6a78-44af-8721-ea090296fabd"
      },
      "execution_count": 145,
      "outputs": [
        {
          "output_type": "stream",
          "name": "stdout",
          "text": [
            "[('barber', 28), ('secret', 22), ('huge', 20), ('keeping', 14), ('kept', 13)]\n"
          ]
        }
      ]
    },
    {
      "cell_type": "markdown",
      "source": [
        "높은 빈도수를 가진 단어일수록 낮은 정수 인덱스를 부여합니다. 그런데 이번에는 enumerate()를 사용하여 좀 더 짧은 코드로 인덱스를 부여하겠습니다."
      ],
      "metadata": {
        "id": "vyV0AOVzp-q1"
      }
    },
    {
      "cell_type": "code",
      "source": [
        "word_to_index = {word[0] : index + 1 for index, word in enumerate(vocab)}\n",
        "print(word_to_index)"
      ],
      "metadata": {
        "id": "PsB7TDUiCAuq",
        "colab": {
          "base_uri": "https://localhost:8080/"
        },
        "outputId": "e5c7dfd7-7eed-4c17-bf58-1c04ed2faa90"
      },
      "execution_count": 146,
      "outputs": [
        {
          "output_type": "stream",
          "name": "stdout",
          "text": [
            "{'barber': 1, 'secret': 2, 'huge': 3, 'keeping': 4, 'kept': 5}\n"
          ]
        }
      ]
    },
    {
      "cell_type": "markdown",
      "source": [
        "## 4.4 enumerate 이해\n"
      ],
      "metadata": {
        "id": "CbFk9V9t_RcU"
      }
    },
    {
      "cell_type": "code",
      "source": [
        "test_input = ['a', 'b', 'c', 'd', 'e']\n",
        "for index, value in enumerate(test_input): # 입력의 순서대로 0부터 인덱스를 부여함.\n",
        "  print(\"value : {}, index: {}\".format(value, index))"
      ],
      "metadata": {
        "colab": {
          "base_uri": "https://localhost:8080/"
        },
        "id": "cRPkFG8fqBF-",
        "outputId": "96b26185-ce2e-49d3-eaea-36231cd835dc"
      },
      "execution_count": 147,
      "outputs": [
        {
          "output_type": "stream",
          "name": "stdout",
          "text": [
            "value : a, index: 0\n",
            "value : b, index: 1\n",
            "value : c, index: 2\n",
            "value : d, index: 3\n",
            "value : e, index: 4\n"
          ]
        }
      ]
    },
    {
      "cell_type": "markdown",
      "source": [
        "enumerate()는 순서가 있는 자료형(list, set, tuple, dictionary, string)을 입력으로 받아 인덱스를 순차적으로 함께 리턴한다는 특징이 있습니다."
      ],
      "metadata": {
        "id": "L4gIIK9RqORo"
      }
    },
    {
      "cell_type": "markdown",
      "source": [
        "## 4.5 텐서플로 활용 텍스트 레이블 인코딩"
      ],
      "metadata": {
        "id": "6oO4NL3eGvT9"
      }
    },
    {
      "cell_type": "code",
      "source": [
        "#사용자가 사용하기 가장 편함\n",
        "from tensorflow.keras.preprocessing.text import Tokenizer\n",
        "tokenizer = Tokenizer()\n",
        "tokenizer.fit_on_texts(preprocessed_sentences) ## fit_on_texts()안에 코퍼스를 입력으로 하면 빈도수를 기준으로 단어 집합을 생성.\n",
        "print(tokenizer.word_index)\n",
        "print()\n",
        "print('빈도수 : ',tokenizer.word_counts)\n",
        "print()\n",
        "print(tokenizer.texts_to_sequences(preprocessed_sentences))#인코딩된 결과값"
      ],
      "metadata": {
        "id": "e-WfyRAMG0tb",
        "colab": {
          "base_uri": "https://localhost:8080/"
        },
        "outputId": "13d2987a-af9e-4a27-c16b-62322a68ae00"
      },
      "execution_count": 148,
      "outputs": [
        {
          "output_type": "stream",
          "name": "stdout",
          "text": [
            "{'barber': 1, 'secret': 2, 'huge': 3, 'keeping': 4, 'kept': 5, 'person': 6, 'driving': 7, 'crazy': 8, 'word': 9, 'went': 10, 'mountain': 11, 'good': 12, 'knew': 13}\n",
            "\n",
            "빈도수 :  OrderedDict([('barber', 28), ('person', 8), ('good', 3), ('huge', 20), ('knew', 2), ('secret', 22), ('kept', 13), ('word', 6), ('keeping', 14), ('driving', 7), ('crazy', 7), ('went', 4), ('mountain', 4)])\n",
            "\n",
            "[[1, 6], [1, 6], [1, 12, 6], [1, 12, 6], [1, 12, 6], [1, 3, 6], [1, 3, 6], [1, 3, 6], [13, 2], [13, 2], [2, 5, 3, 2], [2, 5, 3, 2], [2, 5, 3, 2], [2, 5, 3, 2], [3, 2], [3, 2], [1, 5, 9], [1, 5, 9], [1, 5, 9], [1, 5, 9], [1, 5, 9], [1, 5, 9], [1, 5, 2], [1, 5, 2], [1, 5, 2], [4, 4, 3, 2, 7, 1, 8], [4, 4, 3, 2, 7, 1, 8], [4, 4, 3, 2, 7, 1, 8], [4, 4, 3, 2, 7, 1, 8], [4, 4, 3, 2, 7, 1, 8], [4, 4, 3, 2, 7, 1, 8], [4, 4, 3, 2, 7, 1, 8], [1, 10, 3, 11], [1, 10, 3, 11], [1, 10, 3, 11], [1, 10, 3, 11]]\n"
          ]
        }
      ]
    },
    {
      "cell_type": "code",
      "source": [
        "#vocab_size=5\n",
        "tokenizer=Tokenizer(num_words= vocab_size +1) #상위 5개 단어만 사용\n",
        "tokenizer.fit_on_texts(preprocessed_sentences)\n",
        "print(tokenizer.word_index)"
      ],
      "metadata": {
        "id": "LRsmvm8THc1w",
        "colab": {
          "base_uri": "https://localhost:8080/"
        },
        "outputId": "d51cd0f4-327c-4a5b-dbc8-4102cbb02203"
      },
      "execution_count": 149,
      "outputs": [
        {
          "output_type": "stream",
          "name": "stdout",
          "text": [
            "{'barber': 1, 'secret': 2, 'huge': 3, 'keeping': 4, 'kept': 5, 'person': 6, 'driving': 7, 'crazy': 8, 'word': 9, 'went': 10, 'mountain': 11, 'good': 12, 'knew': 13}\n"
          ]
        }
      ]
    },
    {
      "cell_type": "code",
      "source": [
        "vocab_size=5\n",
        "tokenizer=Tokenizer(num_words= vocab_size +2, oov_token = 'OOV') \n",
        "tokenizer.fit_on_texts(preprocessed_sentences)\n",
        "print(tokenizer.word_index['OOV'])"
      ],
      "metadata": {
        "id": "cqmbnC4tKCzz",
        "colab": {
          "base_uri": "https://localhost:8080/"
        },
        "outputId": "8603c565-cbd5-4a1a-f8f1-d067551e02e2"
      },
      "execution_count": 150,
      "outputs": [
        {
          "output_type": "stream",
          "name": "stdout",
          "text": [
            "1\n"
          ]
        }
      ]
    },
    {
      "cell_type": "markdown",
      "source": [
        "# 5.Padding"
      ],
      "metadata": {
        "id": "gSc-5ajVO1sE"
      }
    },
    {
      "cell_type": "markdown",
      "source": [
        "자연어 처리를 하다보면 각 문장(또는 문서)은 서로 길이가 다를 수 있습니다. 그런데 기계는 길이가 전부 동일한 문서들에 대해서는 하나의 행렬로 보고, 한꺼번에 묶어서 처리할 수 있습니다. 다시 말해 병렬 연산을 위해서 여러 문장의 길이를 임의로 동일하게 맞춰주는 작업이 필요할 때가 있다."
      ],
      "metadata": {
        "id": "GEiXv4JOq7OI"
      }
    },
    {
      "cell_type": "markdown",
      "source": [
        "## 5.1 Numpy로 패딩하기\n"
      ],
      "metadata": {
        "id": "lz6g3fb1_fCr"
      }
    },
    {
      "cell_type": "code",
      "source": [
        "import numpy as np\n",
        "from tensorflow.keras.preprocessing.text import Tokenizer"
      ],
      "metadata": {
        "id": "9a8ibt2IKjQw"
      },
      "execution_count": 151,
      "outputs": []
    },
    {
      "cell_type": "markdown",
      "source": [
        "단어집합 만들고, 정수 인코딩 수행"
      ],
      "metadata": {
        "id": "KdR_zmxgrLHI"
      }
    },
    {
      "cell_type": "code",
      "source": [
        "#단어 집합을 만들고, 정수 인코딩을 수행합니다.\n",
        "tokenizer = Tokenizer()\n",
        "tokenizer.fit_on_texts(preprocessed_sentences)\n",
        "encoded = tokenizer.texts_to_sequences(preprocessed_sentences)\n",
        "print(encoded) #모든 단어가 고유한 정수로 변환되었습니다."
      ],
      "metadata": {
        "colab": {
          "base_uri": "https://localhost:8080/"
        },
        "id": "6a8s56P7rHUf",
        "outputId": "74d1df67-563d-4ab3-afe6-588719966f15"
      },
      "execution_count": 152,
      "outputs": [
        {
          "output_type": "stream",
          "name": "stdout",
          "text": [
            "[[1, 6], [1, 6], [1, 12, 6], [1, 12, 6], [1, 12, 6], [1, 3, 6], [1, 3, 6], [1, 3, 6], [13, 2], [13, 2], [2, 5, 3, 2], [2, 5, 3, 2], [2, 5, 3, 2], [2, 5, 3, 2], [3, 2], [3, 2], [1, 5, 9], [1, 5, 9], [1, 5, 9], [1, 5, 9], [1, 5, 9], [1, 5, 9], [1, 5, 2], [1, 5, 2], [1, 5, 2], [4, 4, 3, 2, 7, 1, 8], [4, 4, 3, 2, 7, 1, 8], [4, 4, 3, 2, 7, 1, 8], [4, 4, 3, 2, 7, 1, 8], [4, 4, 3, 2, 7, 1, 8], [4, 4, 3, 2, 7, 1, 8], [4, 4, 3, 2, 7, 1, 8], [1, 10, 3, 11], [1, 10, 3, 11], [1, 10, 3, 11], [1, 10, 3, 11]]\n"
          ]
        }
      ]
    },
    {
      "cell_type": "markdown",
      "source": [
        "모두 동일한 길이로 맞춰주기 위해서 이 중에서 가장 길이가 긴 문장의 길이를 계산"
      ],
      "metadata": {
        "id": "NXORV7EUrUk4"
      }
    },
    {
      "cell_type": "code",
      "source": [
        "#단어의 최대길이///모두 동일한 길이로 맞춰주기 위해서 이 중에서 가장 길이가 긴 문장의 길이를 계산해보겠습니다\n",
        "max_len = max(len(item) for item in encoded)\n",
        "print('최대 길이 :',max_len)    "
      ],
      "metadata": {
        "colab": {
          "base_uri": "https://localhost:8080/"
        },
        "id": "BS2N_MzErFw6",
        "outputId": "71673504-2f45-4253-dca4-96f7aa64d72d"
      },
      "execution_count": 153,
      "outputs": [
        {
          "output_type": "stream",
          "name": "stdout",
          "text": [
            "최대 길이 : 7\n"
          ]
        }
      ]
    },
    {
      "cell_type": "markdown",
      "source": [
        "장 길이가 긴 문장의 길이는 7입니다. 모든 문장의 길이를 7로 맞춰주겠습니다. 이때 가상의 단어 'PAD'를 사용합니다. 'PAD'라는 단어가 있다고 가정하고, 이 단어는 0번 단어라고 정의합니다. 길이가 7보다 짧은 문장에는 숫자 0을 채워서 길이 7로 맞춘다."
      ],
      "metadata": {
        "id": "9jvk1e5HrblH"
      }
    },
    {
      "cell_type": "code",
      "source": [
        "#모든 문장의 길이를 max로 맞춥니다. 길이가 7 보다 짧은 문장에는 숫자 0을 채워서 7로 맞춰줍니다.\n",
        "for sentence in encoded:\n",
        "    while len(sentence) < max_len:\n",
        "        sentence.append(0)\n",
        "\n",
        "padded_np = np.array(encoded)\n",
        "padded_np"
      ],
      "metadata": {
        "colab": {
          "base_uri": "https://localhost:8080/"
        },
        "id": "JLlBmga9rVNg",
        "outputId": "2d2f9b3c-abe1-4fce-c331-9d36f2a661f5"
      },
      "execution_count": 154,
      "outputs": [
        {
          "output_type": "execute_result",
          "data": {
            "text/plain": [
              "array([[ 1,  6,  0,  0,  0,  0,  0],\n",
              "       [ 1,  6,  0,  0,  0,  0,  0],\n",
              "       [ 1, 12,  6,  0,  0,  0,  0],\n",
              "       [ 1, 12,  6,  0,  0,  0,  0],\n",
              "       [ 1, 12,  6,  0,  0,  0,  0],\n",
              "       [ 1,  3,  6,  0,  0,  0,  0],\n",
              "       [ 1,  3,  6,  0,  0,  0,  0],\n",
              "       [ 1,  3,  6,  0,  0,  0,  0],\n",
              "       [13,  2,  0,  0,  0,  0,  0],\n",
              "       [13,  2,  0,  0,  0,  0,  0],\n",
              "       [ 2,  5,  3,  2,  0,  0,  0],\n",
              "       [ 2,  5,  3,  2,  0,  0,  0],\n",
              "       [ 2,  5,  3,  2,  0,  0,  0],\n",
              "       [ 2,  5,  3,  2,  0,  0,  0],\n",
              "       [ 3,  2,  0,  0,  0,  0,  0],\n",
              "       [ 3,  2,  0,  0,  0,  0,  0],\n",
              "       [ 1,  5,  9,  0,  0,  0,  0],\n",
              "       [ 1,  5,  9,  0,  0,  0,  0],\n",
              "       [ 1,  5,  9,  0,  0,  0,  0],\n",
              "       [ 1,  5,  9,  0,  0,  0,  0],\n",
              "       [ 1,  5,  9,  0,  0,  0,  0],\n",
              "       [ 1,  5,  9,  0,  0,  0,  0],\n",
              "       [ 1,  5,  2,  0,  0,  0,  0],\n",
              "       [ 1,  5,  2,  0,  0,  0,  0],\n",
              "       [ 1,  5,  2,  0,  0,  0,  0],\n",
              "       [ 4,  4,  3,  2,  7,  1,  8],\n",
              "       [ 4,  4,  3,  2,  7,  1,  8],\n",
              "       [ 4,  4,  3,  2,  7,  1,  8],\n",
              "       [ 4,  4,  3,  2,  7,  1,  8],\n",
              "       [ 4,  4,  3,  2,  7,  1,  8],\n",
              "       [ 4,  4,  3,  2,  7,  1,  8],\n",
              "       [ 4,  4,  3,  2,  7,  1,  8],\n",
              "       [ 1, 10,  3, 11,  0,  0,  0],\n",
              "       [ 1, 10,  3, 11,  0,  0,  0],\n",
              "       [ 1, 10,  3, 11,  0,  0,  0],\n",
              "       [ 1, 10,  3, 11,  0,  0,  0]])"
            ]
          },
          "metadata": {},
          "execution_count": 154
        }
      ]
    },
    {
      "cell_type": "markdown",
      "source": [
        "길이가 7보다 짧은 문장에는 전부 숫자 0이 뒤로 붙어서 모든 문장의 길이가 전부 7이된 것을 알 수 있습니다. 기계는 이들을 하나의 행렬로 보고, 병렬 처리를 할 수 있습니다. 또한, 0번 단어는 사실 아무런 의미도 없는 단어이기 때문에 자연어 처리하는 과정에서 기계는 0번 단어를 무시하게 될 것입니다. 이와 같이 데이터에 특정 값을 채워서 데이터의 크기(shape)를 조정하는 것을 패딩(padding)이라고 합니다. 숫자 0을 사용하고 있다면 ***제로 패딩(zero padding)***"
      ],
      "metadata": {
        "id": "ExUec2GMrszb"
      }
    },
    {
      "cell_type": "markdown",
      "source": [
        "## 5.2 케라스 전처리 도구로 패딩하기"
      ],
      "metadata": {
        "id": "W82s9WxD_iqj"
      }
    },
    {
      "cell_type": "markdown",
      "source": [
        "케라스에서는 위와 같은 패딩을 위해 pad_sequences()를 제공"
      ],
      "metadata": {
        "id": "UmqBF3o_r5gp"
      }
    },
    {
      "cell_type": "code",
      "source": [
        "from tensorflow.keras.preprocessing.sequence import pad_sequences"
      ],
      "metadata": {
        "id": "x8liKXlmz9mB"
      },
      "execution_count": 155,
      "outputs": []
    },
    {
      "cell_type": "markdown",
      "source": [
        "encoded 값이 위에서 이미 패딩 후의 결과로 저장되었기 때문에 패딩 이전의 값으로 다시 되돌리기"
      ],
      "metadata": {
        "id": "1o8bpbKKsI8v"
      }
    },
    {
      "cell_type": "code",
      "source": [
        "encoded1 = tokenizer.texts_to_sequences(preprocessed_sentences)\n",
        "print(encoded1)\n"
      ],
      "metadata": {
        "colab": {
          "base_uri": "https://localhost:8080/"
        },
        "id": "uYljnRWHr8G6",
        "outputId": "a95865d9-e5c2-41c2-dfbc-49705a92e7c0"
      },
      "execution_count": 156,
      "outputs": [
        {
          "output_type": "stream",
          "name": "stdout",
          "text": [
            "[[1, 6], [1, 6], [1, 12, 6], [1, 12, 6], [1, 12, 6], [1, 3, 6], [1, 3, 6], [1, 3, 6], [13, 2], [13, 2], [2, 5, 3, 2], [2, 5, 3, 2], [2, 5, 3, 2], [2, 5, 3, 2], [3, 2], [3, 2], [1, 5, 9], [1, 5, 9], [1, 5, 9], [1, 5, 9], [1, 5, 9], [1, 5, 9], [1, 5, 2], [1, 5, 2], [1, 5, 2], [4, 4, 3, 2, 7, 1, 8], [4, 4, 3, 2, 7, 1, 8], [4, 4, 3, 2, 7, 1, 8], [4, 4, 3, 2, 7, 1, 8], [4, 4, 3, 2, 7, 1, 8], [4, 4, 3, 2, 7, 1, 8], [4, 4, 3, 2, 7, 1, 8], [1, 10, 3, 11], [1, 10, 3, 11], [1, 10, 3, 11], [1, 10, 3, 11]]\n"
          ]
        }
      ]
    },
    {
      "cell_type": "markdown",
      "source": [
        "케라스의 pad_sequences를 사용하여 패딩"
      ],
      "metadata": {
        "id": "RaQQCVD5sNWR"
      }
    },
    {
      "cell_type": "code",
      "source": [
        "padded = pad_sequences(encoded1)\n",
        "print(padded)"
      ],
      "metadata": {
        "colab": {
          "base_uri": "https://localhost:8080/"
        },
        "id": "YQchRDuTr87m",
        "outputId": "a4654443-8237-4603-9279-7f9b867f5f32"
      },
      "execution_count": 157,
      "outputs": [
        {
          "output_type": "stream",
          "name": "stdout",
          "text": [
            "[[ 0  0  0  0  0  1  6]\n",
            " [ 0  0  0  0  0  1  6]\n",
            " [ 0  0  0  0  1 12  6]\n",
            " [ 0  0  0  0  1 12  6]\n",
            " [ 0  0  0  0  1 12  6]\n",
            " [ 0  0  0  0  1  3  6]\n",
            " [ 0  0  0  0  1  3  6]\n",
            " [ 0  0  0  0  1  3  6]\n",
            " [ 0  0  0  0  0 13  2]\n",
            " [ 0  0  0  0  0 13  2]\n",
            " [ 0  0  0  2  5  3  2]\n",
            " [ 0  0  0  2  5  3  2]\n",
            " [ 0  0  0  2  5  3  2]\n",
            " [ 0  0  0  2  5  3  2]\n",
            " [ 0  0  0  0  0  3  2]\n",
            " [ 0  0  0  0  0  3  2]\n",
            " [ 0  0  0  0  1  5  9]\n",
            " [ 0  0  0  0  1  5  9]\n",
            " [ 0  0  0  0  1  5  9]\n",
            " [ 0  0  0  0  1  5  9]\n",
            " [ 0  0  0  0  1  5  9]\n",
            " [ 0  0  0  0  1  5  9]\n",
            " [ 0  0  0  0  1  5  2]\n",
            " [ 0  0  0  0  1  5  2]\n",
            " [ 0  0  0  0  1  5  2]\n",
            " [ 4  4  3  2  7  1  8]\n",
            " [ 4  4  3  2  7  1  8]\n",
            " [ 4  4  3  2  7  1  8]\n",
            " [ 4  4  3  2  7  1  8]\n",
            " [ 4  4  3  2  7  1  8]\n",
            " [ 4  4  3  2  7  1  8]\n",
            " [ 4  4  3  2  7  1  8]\n",
            " [ 0  0  0  1 10  3 11]\n",
            " [ 0  0  0  1 10  3 11]\n",
            " [ 0  0  0  1 10  3 11]\n",
            " [ 0  0  0  1 10  3 11]]\n"
          ]
        }
      ]
    },
    {
      "cell_type": "markdown",
      "source": [
        "Numpy로 패딩을 진행하였을 때와는 패딩 결과가 다른데 그 이유는 pad_sequences는 기본적으로 문서의 뒤에 0을 채우는 것이 아니라 앞에 0으로 채우기 때문입니다. 뒤에 0을 채우고 싶다면 인자로 padding='post'를 주면됩니다."
      ],
      "metadata": {
        "id": "eXbpBte5sShJ"
      }
    },
    {
      "cell_type": "code",
      "source": [
        "padded_b = pad_sequences(encoded1,padding='post')\n",
        "padded_b"
      ],
      "metadata": {
        "id": "VZKA_Is8NLIG",
        "colab": {
          "base_uri": "https://localhost:8080/"
        },
        "outputId": "88a57917-ea18-4fff-e9f5-960fdc7bd595"
      },
      "execution_count": 158,
      "outputs": [
        {
          "output_type": "execute_result",
          "data": {
            "text/plain": [
              "array([[ 1,  6,  0,  0,  0,  0,  0],\n",
              "       [ 1,  6,  0,  0,  0,  0,  0],\n",
              "       [ 1, 12,  6,  0,  0,  0,  0],\n",
              "       [ 1, 12,  6,  0,  0,  0,  0],\n",
              "       [ 1, 12,  6,  0,  0,  0,  0],\n",
              "       [ 1,  3,  6,  0,  0,  0,  0],\n",
              "       [ 1,  3,  6,  0,  0,  0,  0],\n",
              "       [ 1,  3,  6,  0,  0,  0,  0],\n",
              "       [13,  2,  0,  0,  0,  0,  0],\n",
              "       [13,  2,  0,  0,  0,  0,  0],\n",
              "       [ 2,  5,  3,  2,  0,  0,  0],\n",
              "       [ 2,  5,  3,  2,  0,  0,  0],\n",
              "       [ 2,  5,  3,  2,  0,  0,  0],\n",
              "       [ 2,  5,  3,  2,  0,  0,  0],\n",
              "       [ 3,  2,  0,  0,  0,  0,  0],\n",
              "       [ 3,  2,  0,  0,  0,  0,  0],\n",
              "       [ 1,  5,  9,  0,  0,  0,  0],\n",
              "       [ 1,  5,  9,  0,  0,  0,  0],\n",
              "       [ 1,  5,  9,  0,  0,  0,  0],\n",
              "       [ 1,  5,  9,  0,  0,  0,  0],\n",
              "       [ 1,  5,  9,  0,  0,  0,  0],\n",
              "       [ 1,  5,  9,  0,  0,  0,  0],\n",
              "       [ 1,  5,  2,  0,  0,  0,  0],\n",
              "       [ 1,  5,  2,  0,  0,  0,  0],\n",
              "       [ 1,  5,  2,  0,  0,  0,  0],\n",
              "       [ 4,  4,  3,  2,  7,  1,  8],\n",
              "       [ 4,  4,  3,  2,  7,  1,  8],\n",
              "       [ 4,  4,  3,  2,  7,  1,  8],\n",
              "       [ 4,  4,  3,  2,  7,  1,  8],\n",
              "       [ 4,  4,  3,  2,  7,  1,  8],\n",
              "       [ 4,  4,  3,  2,  7,  1,  8],\n",
              "       [ 4,  4,  3,  2,  7,  1,  8],\n",
              "       [ 1, 10,  3, 11,  0,  0,  0],\n",
              "       [ 1, 10,  3, 11,  0,  0,  0],\n",
              "       [ 1, 10,  3, 11,  0,  0,  0],\n",
              "       [ 1, 10,  3, 11,  0,  0,  0]], dtype=int32)"
            ]
          },
          "metadata": {},
          "execution_count": 158
        }
      ]
    },
    {
      "cell_type": "code",
      "source": [
        "padded_max = pad_sequences(encoded,padding = 'post', maxlen=5)\n",
        "padded_max"
      ],
      "metadata": {
        "id": "jhROsiWBNPU8",
        "colab": {
          "base_uri": "https://localhost:8080/"
        },
        "outputId": "29f30984-5969-4f6f-fa4e-dd9967650e70"
      },
      "execution_count": 159,
      "outputs": [
        {
          "output_type": "execute_result",
          "data": {
            "text/plain": [
              "array([[ 0,  0,  0,  0,  0],\n",
              "       [ 0,  0,  0,  0,  0],\n",
              "       [ 6,  0,  0,  0,  0],\n",
              "       [ 6,  0,  0,  0,  0],\n",
              "       [ 6,  0,  0,  0,  0],\n",
              "       [ 6,  0,  0,  0,  0],\n",
              "       [ 6,  0,  0,  0,  0],\n",
              "       [ 6,  0,  0,  0,  0],\n",
              "       [ 0,  0,  0,  0,  0],\n",
              "       [ 0,  0,  0,  0,  0],\n",
              "       [ 3,  2,  0,  0,  0],\n",
              "       [ 3,  2,  0,  0,  0],\n",
              "       [ 3,  2,  0,  0,  0],\n",
              "       [ 3,  2,  0,  0,  0],\n",
              "       [ 0,  0,  0,  0,  0],\n",
              "       [ 0,  0,  0,  0,  0],\n",
              "       [ 9,  0,  0,  0,  0],\n",
              "       [ 9,  0,  0,  0,  0],\n",
              "       [ 9,  0,  0,  0,  0],\n",
              "       [ 9,  0,  0,  0,  0],\n",
              "       [ 9,  0,  0,  0,  0],\n",
              "       [ 9,  0,  0,  0,  0],\n",
              "       [ 2,  0,  0,  0,  0],\n",
              "       [ 2,  0,  0,  0,  0],\n",
              "       [ 2,  0,  0,  0,  0],\n",
              "       [ 3,  2,  7,  1,  8],\n",
              "       [ 3,  2,  7,  1,  8],\n",
              "       [ 3,  2,  7,  1,  8],\n",
              "       [ 3,  2,  7,  1,  8],\n",
              "       [ 3,  2,  7,  1,  8],\n",
              "       [ 3,  2,  7,  1,  8],\n",
              "       [ 3,  2,  7,  1,  8],\n",
              "       [ 3, 11,  0,  0,  0],\n",
              "       [ 3, 11,  0,  0,  0],\n",
              "       [ 3, 11,  0,  0,  0],\n",
              "       [ 3, 11,  0,  0,  0]], dtype=int32)"
            ]
          },
          "metadata": {},
          "execution_count": 159
        }
      ]
    },
    {
      "cell_type": "markdown",
      "source": [
        "길이가 5보다 짧은 문서들은 0으로 패딩되고, 기존에 5보다 길었다면 데이터가 손실됩니다. 가령, 뒤에서 두번째 문장은 본래 [ 7, 7, 3, 2, 10, 1, 11]였으나 현재는 [ 3, 2, 10, 1, 11]로 변경된 것을 볼 수 있습니다. 만약, 데이터가 손실될 경우에 앞의 단어가 아니라 뒤의 단어가 삭제되도록 하고싶다면 truncating이라는 인자를 사용합니다. truncating='post'를 사용할 경우 뒤의 단어가 삭제됩니다."
      ],
      "metadata": {
        "id": "Yi02x75UsbmF"
      }
    },
    {
      "cell_type": "code",
      "source": [
        "padded_max1 = pad_sequences(encoded,padding = 'post',truncating='post', maxlen=5) #truncating 뒤를잘라내기\n",
        "padded_max1"
      ],
      "metadata": {
        "id": "rzamvIzPOPfv",
        "colab": {
          "base_uri": "https://localhost:8080/"
        },
        "outputId": "fc0f466b-daf6-468a-cb2c-ce97abe25232"
      },
      "execution_count": 160,
      "outputs": [
        {
          "output_type": "execute_result",
          "data": {
            "text/plain": [
              "array([[ 1,  6,  0,  0,  0],\n",
              "       [ 1,  6,  0,  0,  0],\n",
              "       [ 1, 12,  6,  0,  0],\n",
              "       [ 1, 12,  6,  0,  0],\n",
              "       [ 1, 12,  6,  0,  0],\n",
              "       [ 1,  3,  6,  0,  0],\n",
              "       [ 1,  3,  6,  0,  0],\n",
              "       [ 1,  3,  6,  0,  0],\n",
              "       [13,  2,  0,  0,  0],\n",
              "       [13,  2,  0,  0,  0],\n",
              "       [ 2,  5,  3,  2,  0],\n",
              "       [ 2,  5,  3,  2,  0],\n",
              "       [ 2,  5,  3,  2,  0],\n",
              "       [ 2,  5,  3,  2,  0],\n",
              "       [ 3,  2,  0,  0,  0],\n",
              "       [ 3,  2,  0,  0,  0],\n",
              "       [ 1,  5,  9,  0,  0],\n",
              "       [ 1,  5,  9,  0,  0],\n",
              "       [ 1,  5,  9,  0,  0],\n",
              "       [ 1,  5,  9,  0,  0],\n",
              "       [ 1,  5,  9,  0,  0],\n",
              "       [ 1,  5,  9,  0,  0],\n",
              "       [ 1,  5,  2,  0,  0],\n",
              "       [ 1,  5,  2,  0,  0],\n",
              "       [ 1,  5,  2,  0,  0],\n",
              "       [ 4,  4,  3,  2,  7],\n",
              "       [ 4,  4,  3,  2,  7],\n",
              "       [ 4,  4,  3,  2,  7],\n",
              "       [ 4,  4,  3,  2,  7],\n",
              "       [ 4,  4,  3,  2,  7],\n",
              "       [ 4,  4,  3,  2,  7],\n",
              "       [ 4,  4,  3,  2,  7],\n",
              "       [ 1, 10,  3, 11,  0],\n",
              "       [ 1, 10,  3, 11,  0],\n",
              "       [ 1, 10,  3, 11,  0],\n",
              "       [ 1, 10,  3, 11,  0]], dtype=int32)"
            ]
          },
          "metadata": {},
          "execution_count": 160
        }
      ]
    }
  ],
  "metadata": {
    "colab": {
      "name": "NLP_Chapter_1.ipynb",
      "provenance": [],
      "collapsed_sections": [],
      "toc_visible": true,
      "authorship_tag": "ABX9TyNcfplqjrwYfRRJPtUfqQ1j",
      "include_colab_link": true
    },
    "kernelspec": {
      "display_name": "Python 3",
      "name": "python3"
    },
    "language_info": {
      "name": "python"
    }
  },
  "nbformat": 4,
  "nbformat_minor": 0
}